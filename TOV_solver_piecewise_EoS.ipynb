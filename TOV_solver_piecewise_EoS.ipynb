{
 "cells": [
  {
   "cell_type": "markdown",
   "id": "accb9060-2e7e-4c23-898a-c0faaccf7f18",
   "metadata": {},
   "source": [
    "# TOV Solver -- piecewise equation of state"
   ]
  },
  {
   "cell_type": "code",
   "execution_count": 1,
   "id": "05d19f39-8776-4f24-9ce8-12650163d337",
   "metadata": {},
   "outputs": [],
   "source": [
    "import numpy as np\n",
    "from scipy.integrate import solve_ivp, odeint, quad\n",
    "from astropy.constants import G, c\n",
    "from numpy import pi\n",
    "import astropy.units as u\n",
    "import matplotlib.pyplot as plt\n",
    "import sys\n",
    "import math\n",
    "np.set_printoptions(threshold=sys.maxsize)\n",
    "from scipy import optimize\n",
    "from sympy import symbols, diff"
   ]
  },
  {
   "cell_type": "code",
   "execution_count": 2,
   "id": "74f45514-ab81-46a2-8111-8d8f80b5d9a8",
   "metadata": {},
   "outputs": [],
   "source": [
    "# Using natural units\n",
    "# 197 MeV * fm = 1\n",
    "# 1 fm = 1 / (197 MeV)\n",
    "# 3e8 m = 1 s\n",
    "# 3e8 m / s = 1\n",
    "# 1 J = 1 kg * (m / s)^2\n",
    "# 1 J = 1 / 9e16 kg\n",
    "\n",
    "natural = [(u.MeV, u.fm ** (-1), lambda fm_inverse: 1 / 197 * fm_inverse, lambda MeV: 197 * MeV),\n",
    "           (u.m, u.s, lambda s: 1 / c.value * s, lambda m: c.value * m),\n",
    "           (u.kg, u.J, lambda J: c.value ** 2 * J, lambda kg: 1 / c.value ** 2 * kg),\n",
    "           (u.m / u.s, u.dimensionless_unscaled, lambda dimensionless: 1 / c.value * dimensionless, lambda v: c.value * v),\n",
    "           (u.fm, u.MeV ** (-1), lambda MeV_inverse: 1 / 197 * MeV_inverse, lambda fm: 197 * fm)\n",
    "          ]\n",
    "\n",
    "G = (G.value * (1 * u.m / u.s).to(u.dimensionless_unscaled, equivalencies = natural) ** 2 * (1 * u.m).to(u.fm).to(1 / u.MeV, equivalencies = natural) / (1 * u.kg).to(u.J, equivalencies = natural).to(u.MeV))\n",
    "G = G.value"
   ]
  },
  {
   "cell_type": "markdown",
   "id": "ee718fe8-194a-4b2c-9a25-b1bc7b1b5a80",
   "metadata": {},
   "source": [
    "### Initial condition - central mass density"
   ]
  },
  {
   "cell_type": "code",
   "execution_count": 3,
   "id": "e2202f68-fa48-4cad-bf99-eaddbe38fcfb",
   "metadata": {},
   "outputs": [],
   "source": [
    "# Everything in natural units unless otherwise specified\n",
    "# r_small cannot be 0 b/c it would cause a singularity.\n",
    "\n",
    "small_r = (0.1 * u.km).to(u.fm).to(1 / u.MeV, equivalencies = natural).value\n",
    "m_N = 939.565 * u.MeV    # Natural units\n",
    "n_0 = 0.16 / (1 * u.fm).to(1 / u.MeV, equivalencies = natural) ** 3    # Nuclear saturation density\n",
    "\n",
    "# Setting nuclear parameters\n",
    "a = 13.0 * u.MeV\n",
    "alpha = 0.49\n",
    "b = 3.21 * u.MeV\n",
    "beta = 2.47\n",
    "\n",
    "# Setting critical energy density corresponding to n_0 for piece-wise EoS\n",
    "epsilon_c_value = 150    # In MeV / fm^3\n",
    "epsilon_c = epsilon_c_value * u.MeV / (1 * u.fm).to(1 / u.MeV, equivalencies = natural) ** 3\n",
    "\n",
    "# Piecewise EoS parameters\n",
    "epsilon_delta_value = 618.367    # In MeV / fm^3\n",
    "epsilon_delta = epsilon_delta_value * u.MeV / (1 * u.fm).to(1 / u.MeV, equivalencies = natural) ** 3\n",
    "c_s_upper = 1.0"
   ]
  },
  {
   "cell_type": "markdown",
   "id": "f3994abc-9453-45c4-900d-2a6dcc613850",
   "metadata": {},
   "source": [
    "### Setting central cumulative mass initial condition"
   ]
  },
  {
   "cell_type": "code",
   "execution_count": 4,
   "id": "6256271a-246b-4a0a-ae69-6f3235c800ce",
   "metadata": {},
   "outputs": [],
   "source": [
    "def M_from_r_and_rho(r, rho):\n",
    "    result = 4 * pi * rho * r ** 3 / 3\n",
    "    return result"
   ]
  },
  {
   "cell_type": "markdown",
   "id": "4e04d6cd-b418-4496-97a0-0910b627ab4a",
   "metadata": {},
   "source": [
    "### Horizontal axis scale"
   ]
  },
  {
   "cell_type": "code",
   "execution_count": 5,
   "id": "74ccf20c-bef9-4a07-8197-f862ee35cf20",
   "metadata": {},
   "outputs": [],
   "source": [
    "# Everything in natural units unless otherwise specified\n",
    "\n",
    "R_attempt = (100 * u.km).to(u.fm).to(1 / u.MeV, equivalencies = natural).value"
   ]
  },
  {
   "cell_type": "markdown",
   "id": "ad156571-647b-4425-8c1f-6d6dc9b56c9e",
   "metadata": {},
   "source": [
    "## Functions to find numerical EoS arrays given some number density (in natural units)"
   ]
  },
  {
   "cell_type": "code",
   "execution_count": 6,
   "id": "f017fdad-ce56-4530-9edf-83f1f29989e3",
   "metadata": {},
   "outputs": [],
   "source": [
    "# Non-rest-mass energy E\n",
    "def find_E(num_density):\n",
    "    result = a * (num_density / n_0) ** alpha + b * (num_density / n_0) ** beta\n",
    "    return result\n",
    "\n",
    "# Energy density epsilon\n",
    "def find_epsilon(num_density):\n",
    "    E = find_E(num_density)\n",
    "    result = num_density * (E + m_N)\n",
    "    return result\n",
    "\n",
    "# Chemical potential\n",
    "def find_chem_potential(num_density):\n",
    "    result = a * (alpha + 1) * (num_density / n_0) ** alpha + b * (beta + 1) * (num_density / n_0) ** beta + m_N\n",
    "    return result\n",
    "\n",
    "# Pressure\n",
    "# Using epsilon_delta = 618.367 MeV / fm^3 and c_s_upper = 1.0\n",
    "def find_pressure(num_density):\n",
    "    epsilon = find_epsilon(num_density)\n",
    "    chem_potential = find_chem_potential(num_density)\n",
    "    num_density_c = num_density_from_energy_density(epsilon_c.value) * u.MeV ** 3\n",
    "    chem_potential_c = find_chem_potential(num_density_c)\n",
    "    pressure_c = - epsilon_c + chem_potential_c * num_density_c\n",
    "    \n",
    "    # Piece-wise extremal EoS\n",
    "    if epsilon.value < epsilon_c.value:\n",
    "        result = - epsilon + chem_potential * num_density    # Gandolfi nuclear EoS\n",
    "    else:\n",
    "        if epsilon.value < epsilon_delta.value:\n",
    "            result = pressure_c    # Flat EoS\n",
    "        else:\n",
    "            result = pressure_c + c_s_upper * (epsilon - epsilon_delta)    # EoS slope = c_s_upper\n",
    "    \n",
    "    return result"
   ]
  },
  {
   "cell_type": "code",
   "execution_count": 7,
   "id": "adf79e1b-7e58-413b-82d2-dfa5e470bcc1",
   "metadata": {},
   "outputs": [],
   "source": [
    "# Finding number density as a function of energy density\n",
    "\n",
    "def energy_density_minus_target_epsilon(n, target_epsilon):\n",
    "    n = n * u.MeV ** 3\n",
    "    result = find_epsilon(n).value - target_epsilon\n",
    "    return result\n",
    "\n",
    "# Takes input parameter epsilon in MeV^4\n",
    "def num_density_from_energy_density(epsilon):\n",
    "    b = 10 ** 12\n",
    "    if energy_density_minus_target_epsilon(0, epsilon) > 0:\n",
    "        print(f\"find_epsilon is {find_epsilon(0 * u.MeV ** 3)} and epsilon is {epsilon}.\")\n",
    "        return\n",
    "    result = optimize.brentq(energy_density_minus_target_epsilon,\n",
    "                             0,\n",
    "                             b,\n",
    "                             args = (epsilon,))\n",
    "    return result"
   ]
  },
  {
   "cell_type": "code",
   "execution_count": 8,
   "id": "147529a1-8ebc-4e11-86a7-6036853a29d2",
   "metadata": {},
   "outputs": [],
   "source": [
    "# Finding number density as a function of pressure\n",
    "\n",
    "def pressure_minus_target_p(n, target_p):\n",
    "    n = n * u.MeV ** 3\n",
    "    result = find_pressure(n).value - target_p\n",
    "    return result\n",
    "\n",
    "def find_pressure_brentq_b(n_central):\n",
    "    slope = (0.125 * 10 ** 8) / n_0.value\n",
    "    intercept = 10 ** 8 - slope * 8 * n_0.value\n",
    "    result = slope * n_central + intercept\n",
    "    return result\n",
    "\n",
    "def num_density_from_pressure(p, r, n_central):\n",
    "    if pressure_minus_target_p(0, p) > 0:\n",
    "        print(f\"Distance from center is {(r / u.MeV).to(u.fm, equivalencies = natural).to(u.km)}, w/ find_pressure {find_pressure(0 * u.MeV ** 3)} and p {p}.\")\n",
    "        return\n",
    "\n",
    "    pressure_brentq_b = find_pressure_brentq_b(n_central)\n",
    "    \n",
    "    result = optimize.brentq(pressure_minus_target_p,\n",
    "                             0,\n",
    "                             pressure_brentq_b,\n",
    "                             args = (p,)\n",
    "                            )\n",
    "    \n",
    "    return result"
   ]
  },
  {
   "cell_type": "markdown",
   "id": "c8aaf644-f814-4bc3-9247-0c77cb6a3bd4",
   "metadata": {},
   "source": [
    "## Plotting EoS"
   ]
  },
  {
   "cell_type": "code",
   "execution_count": 9,
   "id": "f62b180d-7ba6-4695-afb2-7c7657adf001",
   "metadata": {},
   "outputs": [],
   "source": [
    "epsilon = []\n",
    "pressure = []\n",
    "\n",
    "n = np.logspace(-1, 1, num = 200) * n_0\n",
    "\n",
    "for num_density in n:\n",
    "    epsilon_in_MeV = find_epsilon(num_density).value\n",
    "    epsilon_in_MeV_and_fm = epsilon_in_MeV * u.MeV * (1 * u.MeV).to(1 / u.fm, equivalencies = natural) ** 3\n",
    "    epsilon.append(epsilon_in_MeV_and_fm.value)\n",
    "    pressure_in_MeV = find_pressure(num_density).value\n",
    "    pressure_in_MeV_and_fm = pressure_in_MeV * u.MeV * (1 * u.MeV).to(1 / u.fm, equivalencies = natural) ** 3\n",
    "    pressure.append(pressure_in_MeV_and_fm.value)"
   ]
  },
  {
   "cell_type": "code",
   "execution_count": 25,
   "id": "a5ab176a-69cf-40fa-bb4b-48e4690ce250",
   "metadata": {},
   "outputs": [
    {
     "data": {
      "image/png": "[encoded data removed]",
      "text/plain": [
       "<Figure size 800x800 with 1 Axes>"
      ]
     },
     "metadata": {},
     "output_type": "display_data"
    }
   ],
   "source": [
    "fig, ax = plt.subplots(figsize = (8, 8))\n",
    "\n",
    "ax.set_title(r\"Piecewise equation of state, $M_{\\mathrm{max}}\\approx2\\,\\mathrm{M}_{\\odot}$\",\n",
    "             fontsize = 15\n",
    "            );\n",
    "\n",
    "ax.set_xlabel(r\"Energy density $\\left(\\frac{\\mathrm{MeV}}{\\mathrm{fm}^3}\\right)$\", fontsize = 15);\n",
    "ax.set_ylabel(r\"Pressure $\\left(\\frac{\\mathrm{MeV}}{\\mathrm{fm}^3}\\right)$\", fontsize = 15);\n",
    "ax.plot(epsilon, pressure, label = \"EoS\");\n",
    "\n",
    "ax.axvline(x = epsilon_c_value,\n",
    "           color = \"red\",\n",
    "           linestyle = \"--\",\n",
    "           linewidth = 0.5,\n",
    "           label = r\"$\\epsilon_{c}=150\\,\\frac{\\mathrm{MeV}}{\\mathrm{fm}^3}$\"\n",
    "          );\n",
    "\n",
    "ax.axvline(x = epsilon_delta_value,\n",
    "           color = \"green\",\n",
    "           linestyle = \"--\",\n",
    "           linewidth = 0.5,\n",
    "           label = r\"$\\epsilon_{\\Delta}=618.367\\,\\frac{\\mathrm{MeV}}{\\mathrm{fm}^3}$\"\n",
    "          );\n",
    "\n",
    "# Maximum mass critical point found from mass-radius curve\n",
    "# In MeV / fm^3, rounded to 3 significant figures.\n",
    "epsilon_max = 1870\n",
    "pressure_max = 1260\n",
    "\n",
    "ax.plot(epsilon_max,\n",
    "        pressure_max,\n",
    "        marker = \"*\",\n",
    "        linestyle = \"\",\n",
    "        markersize = 15,\n",
    "        label = r\"$M_{\\mathrm{max}}=2.021\\,\\mathrm{M}_{\\odot}$\"\n",
    "       );\n",
    "\n",
    "# Labeling high density slope\n",
    "ax.text(900, 10, r\"causal limit:\"\"\\n\"\"$c_{s,\\,\\mathrm{upper}}=1$\", fontsize = 15);\n",
    "ax.loglog();\n",
    "ax.legend(fontsize = 15);\n",
    "\n",
    "plt.savefig(\"piecewise_EoS_epsilon_D_618.jpg\", bbox_inches = \"tight\");\n",
    "plt.savefig(\"piecewise_EoS_epsilon_D_618.pdf\", bbox_inches = \"tight\");"
   ]
  },
  {
   "cell_type": "markdown",
   "id": "978fd0f7-6052-48e3-88de-76fdd236cb42",
   "metadata": {},
   "source": [
    "## Generalized TOV"
   ]
  },
  {
   "cell_type": "code",
   "execution_count": 11,
   "id": "e984e37b-8156-4c59-99f1-5f3145974816",
   "metadata": {},
   "outputs": [],
   "source": [
    "# r = distance from center\n",
    "# m = cumulative mass enclosed within distance r from center\n",
    "# p = pressure at distance r from center\n",
    "# epsilon = energy density at distance r from center\n",
    "\n",
    "# TOV and EoS coded to be compatible w/ cgs units, but can't explicitly give units in code b/c solve_ivp() throws errors\n",
    "\n",
    "def TOV(r, p_and_m, n_central):\n",
    "    p = p_and_m[0]\n",
    "    m = p_and_m[1]\n",
    "    if num_density_from_pressure(p, r, n_central) is None:\n",
    "        return [0, 0]\n",
    "    n = num_density_from_pressure(p, r, n_central) * u.MeV ** 3\n",
    "    epsilon = find_epsilon(n).value\n",
    "    print(f\"number density is {n}\")\n",
    "    rel_factors = (1 + p / epsilon) * (1 + 4 * pi * r ** 3 * p / m) * (1 - 2 * G * m / r) ** (-1)\n",
    "    p_result = - G * epsilon * m / r ** 2 * rel_factors\n",
    "    m_result = 4 * pi * r ** 2 * epsilon\n",
    "    return [p_result, m_result]"
   ]
  },
  {
   "cell_type": "markdown",
   "id": "39f77127-f415-4c2a-bf5f-e73f047f7c6e",
   "metadata": {},
   "source": [
    "### TOV solver function"
   ]
  },
  {
   "cell_type": "code",
   "execution_count": 12,
   "id": "4ba3d460-96f2-4006-bb26-311cded0dc29",
   "metadata": {},
   "outputs": [],
   "source": [
    "# Keep this for all EoS\n",
    "\n",
    "def solve_TOV(n_central, p_central):\n",
    "    epsilon_central = find_epsilon(n_central * u.MeV ** 3).value\n",
    "    m_central = M_from_r_and_rho(small_r, epsilon_central)\n",
    "    \n",
    "    def reached_surface(t, y, *args):\n",
    "        return y[0]\n",
    "\n",
    "    reached_surface.terminal = True\n",
    "    reached_surface.direction = -1\n",
    "    \n",
    "    solution = solve_ivp(TOV,\n",
    "                         [small_r, R_attempt],\n",
    "                         [p_central, m_central],\n",
    "                         events = reached_surface,\n",
    "                         args = (n_central,)\n",
    "                        )\n",
    "\n",
    "    distance_from_center = (solution.t / u.MeV).to(u.fm, equivalencies = natural).to(u.km)\n",
    "    print(f\"Mass is {(solution.y[1][-1] * u. MeV).to(u.J).to(u.kg, equivalencies = natural).to(u.solMass):.3f}.\")\n",
    "    cumulative_mass = (solution.y[1] * u.MeV).to(u.J).to(u.kg, equivalencies = natural).to(u.solMass)\n",
    "    pressure = solution.y[0]\n",
    "\n",
    "    result = distance_from_center, cumulative_mass, pressure\n",
    "    return result"
   ]
  },
  {
   "cell_type": "markdown",
   "id": "d69c7fd1-f41f-4052-be5d-3accbae91d10",
   "metadata": {},
   "source": [
    "## Making mass-radius plot"
   ]
  },
  {
   "cell_type": "code",
   "execution_count": 13,
   "id": "5356b176-2431-42f1-a306-2364f4261296",
   "metadata": {},
   "outputs": [
    {
     "name": "stdout",
     "output_type": "stream",
     "text": [
      "number density is 613082.1350269818 MeV3\n",
      "number density is 613082.1350269818 MeV3\n",
      "number density is 613082.1350269818 MeV3\n",
      "number density is 613082.1350269818 MeV3\n",
      "number density is 613082.1350269818 MeV3\n",
      "number density is 613082.1350269818 MeV3\n",
      "number density is 613082.1350269818 MeV3\n",
      "number density is 613082.1350269818 MeV3\n",
      "number density is 613082.1350269818 MeV3\n",
      "number density is 613082.1350269818 MeV3\n",
      "number density is 613082.1350269818 MeV3\n",
      "number density is 613082.1350269818 MeV3\n",
      "number density is 613082.1350269818 MeV3\n",
      "number density is 613082.1350269818 MeV3\n",
      "number density is 613082.1350269818 MeV3\n",
      "number density is 613082.1350269818 MeV3\n",
      "number density is 613082.1350269796 MeV3\n",
      "number density is 613082.1350269796 MeV3\n",
      "number density is 613082.1350269796 MeV3\n"
     ]
    },
    {
     "ename": "KeyboardInterrupt",
     "evalue": "",
     "output_type": "error",
     "traceback": [
      "\u001b[0;31m---------------------------------------------------------------------------\u001b[0m",
      "\u001b[0;31mKeyboardInterrupt\u001b[0m                         Traceback (most recent call last)",
      "Cell \u001b[0;32mIn[13], line 10\u001b[0m\n\u001b[1;32m      8\u001b[0m \u001b[38;5;28;01mfor\u001b[39;00m num_density \u001b[38;5;129;01min\u001b[39;00m n_central:\n\u001b[1;32m      9\u001b[0m     p_central \u001b[38;5;241m=\u001b[39m find_pressure(num_density)\u001b[38;5;241m.\u001b[39mvalue\n\u001b[0;32m---> 10\u001b[0m     distance_from_center, cumulative_mass, pressure_values \u001b[38;5;241m=\u001b[39m \u001b[43msolve_TOV\u001b[49m\u001b[43m(\u001b[49m\u001b[43mnum_density\u001b[49m\u001b[38;5;241;43m.\u001b[39;49m\u001b[43mvalue\u001b[49m\u001b[43m,\u001b[49m\u001b[43m \u001b[49m\u001b[43mp_central\u001b[49m\u001b[43m)\u001b[49m\n\u001b[1;32m     11\u001b[0m     \u001b[38;5;28mprint\u001b[39m(\u001b[38;5;124m\"\u001b[39m\u001b[38;5;124mSolved TOV\u001b[39m\u001b[38;5;124m\"\u001b[39m)\n\u001b[1;32m     13\u001b[0m     \u001b[38;5;66;03m# Removing NaN and inf values from cumulative mass\u001b[39;00m\n",
      "Cell \u001b[0;32mIn[12], line 13\u001b[0m, in \u001b[0;36msolve_TOV\u001b[0;34m(n_central, p_central)\u001b[0m\n\u001b[1;32m     10\u001b[0m reached_surface\u001b[38;5;241m.\u001b[39mterminal \u001b[38;5;241m=\u001b[39m \u001b[38;5;28;01mTrue\u001b[39;00m\n\u001b[1;32m     11\u001b[0m reached_surface\u001b[38;5;241m.\u001b[39mdirection \u001b[38;5;241m=\u001b[39m \u001b[38;5;241m-\u001b[39m\u001b[38;5;241m1\u001b[39m\n\u001b[0;32m---> 13\u001b[0m solution \u001b[38;5;241m=\u001b[39m \u001b[43msolve_ivp\u001b[49m\u001b[43m(\u001b[49m\u001b[43mTOV\u001b[49m\u001b[43m,\u001b[49m\n\u001b[1;32m     14\u001b[0m \u001b[43m                     \u001b[49m\u001b[43m[\u001b[49m\u001b[43msmall_r\u001b[49m\u001b[43m,\u001b[49m\u001b[43m \u001b[49m\u001b[43mR_attempt\u001b[49m\u001b[43m]\u001b[49m\u001b[43m,\u001b[49m\n\u001b[1;32m     15\u001b[0m \u001b[43m                     \u001b[49m\u001b[43m[\u001b[49m\u001b[43mp_central\u001b[49m\u001b[43m,\u001b[49m\u001b[43m \u001b[49m\u001b[43mm_central\u001b[49m\u001b[43m]\u001b[49m\u001b[43m,\u001b[49m\n\u001b[1;32m     16\u001b[0m \u001b[43m                     \u001b[49m\u001b[43mevents\u001b[49m\u001b[43m \u001b[49m\u001b[38;5;241;43m=\u001b[39;49m\u001b[43m \u001b[49m\u001b[43mreached_surface\u001b[49m\u001b[43m,\u001b[49m\n\u001b[1;32m     17\u001b[0m \u001b[43m                     \u001b[49m\u001b[43margs\u001b[49m\u001b[43m \u001b[49m\u001b[38;5;241;43m=\u001b[39;49m\u001b[43m \u001b[49m\u001b[43m(\u001b[49m\u001b[43mn_central\u001b[49m\u001b[43m,\u001b[49m\u001b[43m)\u001b[49m\n\u001b[1;32m     18\u001b[0m \u001b[43m                    \u001b[49m\u001b[43m)\u001b[49m\n\u001b[1;32m     20\u001b[0m distance_from_center \u001b[38;5;241m=\u001b[39m (solution\u001b[38;5;241m.\u001b[39mt \u001b[38;5;241m/\u001b[39m u\u001b[38;5;241m.\u001b[39mMeV)\u001b[38;5;241m.\u001b[39mto(u\u001b[38;5;241m.\u001b[39mfm, equivalencies \u001b[38;5;241m=\u001b[39m natural)\u001b[38;5;241m.\u001b[39mto(u\u001b[38;5;241m.\u001b[39mkm)\n\u001b[1;32m     21\u001b[0m \u001b[38;5;28mprint\u001b[39m(\u001b[38;5;124mf\u001b[39m\u001b[38;5;124m\"\u001b[39m\u001b[38;5;124mMass is \u001b[39m\u001b[38;5;132;01m{\u001b[39;00m(solution\u001b[38;5;241m.\u001b[39my[\u001b[38;5;241m1\u001b[39m][\u001b[38;5;241m-\u001b[39m\u001b[38;5;241m1\u001b[39m]\u001b[38;5;250m \u001b[39m\u001b[38;5;241m*\u001b[39m\u001b[38;5;250m \u001b[39mu\u001b[38;5;241m.\u001b[39m\u001b[38;5;250m \u001b[39mMeV)\u001b[38;5;241m.\u001b[39mto(u\u001b[38;5;241m.\u001b[39mJ)\u001b[38;5;241m.\u001b[39mto(u\u001b[38;5;241m.\u001b[39mkg,\u001b[38;5;250m \u001b[39mequivalencies\u001b[38;5;250m \u001b[39m\u001b[38;5;241m=\u001b[39m\u001b[38;5;250m \u001b[39mnatural)\u001b[38;5;241m.\u001b[39mto(u\u001b[38;5;241m.\u001b[39msolMass)\u001b[38;5;132;01m:\u001b[39;00m\u001b[38;5;124m.3f\u001b[39m\u001b[38;5;132;01m}\u001b[39;00m\u001b[38;5;124m.\u001b[39m\u001b[38;5;124m\"\u001b[39m)\n",
      "File \u001b[0;32m/opt/conda/lib/python3.10/site-packages/scipy/integrate/_ivp/ivp.py:602\u001b[0m, in \u001b[0;36msolve_ivp\u001b[0;34m(fun, t_span, y0, method, t_eval, dense_output, events, vectorized, args, **options)\u001b[0m\n\u001b[1;32m    600\u001b[0m status \u001b[38;5;241m=\u001b[39m \u001b[38;5;28;01mNone\u001b[39;00m\n\u001b[1;32m    601\u001b[0m \u001b[38;5;28;01mwhile\u001b[39;00m status \u001b[38;5;129;01mis\u001b[39;00m \u001b[38;5;28;01mNone\u001b[39;00m:\n\u001b[0;32m--> 602\u001b[0m     message \u001b[38;5;241m=\u001b[39m \u001b[43msolver\u001b[49m\u001b[38;5;241;43m.\u001b[39;49m\u001b[43mstep\u001b[49m\u001b[43m(\u001b[49m\u001b[43m)\u001b[49m\n\u001b[1;32m    604\u001b[0m     \u001b[38;5;28;01mif\u001b[39;00m solver\u001b[38;5;241m.\u001b[39mstatus \u001b[38;5;241m==\u001b[39m \u001b[38;5;124m'\u001b[39m\u001b[38;5;124mfinished\u001b[39m\u001b[38;5;124m'\u001b[39m:\n\u001b[1;32m    605\u001b[0m         status \u001b[38;5;241m=\u001b[39m \u001b[38;5;241m0\u001b[39m\n",
      "File \u001b[0;32m/opt/conda/lib/python3.10/site-packages/scipy/integrate/_ivp/base.py:197\u001b[0m, in \u001b[0;36mOdeSolver.step\u001b[0;34m(self)\u001b[0m\n\u001b[1;32m    195\u001b[0m \u001b[38;5;28;01melse\u001b[39;00m:\n\u001b[1;32m    196\u001b[0m     t \u001b[38;5;241m=\u001b[39m \u001b[38;5;28mself\u001b[39m\u001b[38;5;241m.\u001b[39mt\n\u001b[0;32m--> 197\u001b[0m     success, message \u001b[38;5;241m=\u001b[39m \u001b[38;5;28;43mself\u001b[39;49m\u001b[38;5;241;43m.\u001b[39;49m\u001b[43m_step_impl\u001b[49m\u001b[43m(\u001b[49m\u001b[43m)\u001b[49m\n\u001b[1;32m    199\u001b[0m     \u001b[38;5;28;01mif\u001b[39;00m \u001b[38;5;129;01mnot\u001b[39;00m success:\n\u001b[1;32m    200\u001b[0m         \u001b[38;5;28mself\u001b[39m\u001b[38;5;241m.\u001b[39mstatus \u001b[38;5;241m=\u001b[39m \u001b[38;5;124m'\u001b[39m\u001b[38;5;124mfailed\u001b[39m\u001b[38;5;124m'\u001b[39m\n",
      "File \u001b[0;32m/opt/conda/lib/python3.10/site-packages/scipy/integrate/_ivp/rk.py:144\u001b[0m, in \u001b[0;36mRungeKutta._step_impl\u001b[0;34m(self)\u001b[0m\n\u001b[1;32m    141\u001b[0m h \u001b[38;5;241m=\u001b[39m t_new \u001b[38;5;241m-\u001b[39m t\n\u001b[1;32m    142\u001b[0m h_abs \u001b[38;5;241m=\u001b[39m np\u001b[38;5;241m.\u001b[39mabs(h)\n\u001b[0;32m--> 144\u001b[0m y_new, f_new \u001b[38;5;241m=\u001b[39m \u001b[43mrk_step\u001b[49m\u001b[43m(\u001b[49m\u001b[38;5;28;43mself\u001b[39;49m\u001b[38;5;241;43m.\u001b[39;49m\u001b[43mfun\u001b[49m\u001b[43m,\u001b[49m\u001b[43m \u001b[49m\u001b[43mt\u001b[49m\u001b[43m,\u001b[49m\u001b[43m \u001b[49m\u001b[43my\u001b[49m\u001b[43m,\u001b[49m\u001b[43m \u001b[49m\u001b[38;5;28;43mself\u001b[39;49m\u001b[38;5;241;43m.\u001b[39;49m\u001b[43mf\u001b[49m\u001b[43m,\u001b[49m\u001b[43m \u001b[49m\u001b[43mh\u001b[49m\u001b[43m,\u001b[49m\u001b[43m \u001b[49m\u001b[38;5;28;43mself\u001b[39;49m\u001b[38;5;241;43m.\u001b[39;49m\u001b[43mA\u001b[49m\u001b[43m,\u001b[49m\n\u001b[1;32m    145\u001b[0m \u001b[43m                       \u001b[49m\u001b[38;5;28;43mself\u001b[39;49m\u001b[38;5;241;43m.\u001b[39;49m\u001b[43mB\u001b[49m\u001b[43m,\u001b[49m\u001b[43m \u001b[49m\u001b[38;5;28;43mself\u001b[39;49m\u001b[38;5;241;43m.\u001b[39;49m\u001b[43mC\u001b[49m\u001b[43m,\u001b[49m\u001b[43m \u001b[49m\u001b[38;5;28;43mself\u001b[39;49m\u001b[38;5;241;43m.\u001b[39;49m\u001b[43mK\u001b[49m\u001b[43m)\u001b[49m\n\u001b[1;32m    146\u001b[0m scale \u001b[38;5;241m=\u001b[39m atol \u001b[38;5;241m+\u001b[39m np\u001b[38;5;241m.\u001b[39mmaximum(np\u001b[38;5;241m.\u001b[39mabs(y), np\u001b[38;5;241m.\u001b[39mabs(y_new)) \u001b[38;5;241m*\u001b[39m rtol\n\u001b[1;32m    147\u001b[0m error_norm \u001b[38;5;241m=\u001b[39m \u001b[38;5;28mself\u001b[39m\u001b[38;5;241m.\u001b[39m_estimate_error_norm(\u001b[38;5;28mself\u001b[39m\u001b[38;5;241m.\u001b[39mK, h, scale)\n",
      "File \u001b[0;32m/opt/conda/lib/python3.10/site-packages/scipy/integrate/_ivp/rk.py:67\u001b[0m, in \u001b[0;36mrk_step\u001b[0;34m(fun, t, y, f, h, A, B, C, K)\u001b[0m\n\u001b[1;32m     64\u001b[0m     K[s] \u001b[38;5;241m=\u001b[39m fun(t \u001b[38;5;241m+\u001b[39m c \u001b[38;5;241m*\u001b[39m h, y \u001b[38;5;241m+\u001b[39m dy)\n\u001b[1;32m     66\u001b[0m y_new \u001b[38;5;241m=\u001b[39m y \u001b[38;5;241m+\u001b[39m h \u001b[38;5;241m*\u001b[39m np\u001b[38;5;241m.\u001b[39mdot(K[:\u001b[38;5;241m-\u001b[39m\u001b[38;5;241m1\u001b[39m]\u001b[38;5;241m.\u001b[39mT, B)\n\u001b[0;32m---> 67\u001b[0m f_new \u001b[38;5;241m=\u001b[39m \u001b[43mfun\u001b[49m\u001b[43m(\u001b[49m\u001b[43mt\u001b[49m\u001b[43m \u001b[49m\u001b[38;5;241;43m+\u001b[39;49m\u001b[43m \u001b[49m\u001b[43mh\u001b[49m\u001b[43m,\u001b[49m\u001b[43m \u001b[49m\u001b[43my_new\u001b[49m\u001b[43m)\u001b[49m\n\u001b[1;32m     69\u001b[0m K[\u001b[38;5;241m-\u001b[39m\u001b[38;5;241m1\u001b[39m] \u001b[38;5;241m=\u001b[39m f_new\n\u001b[1;32m     71\u001b[0m \u001b[38;5;28;01mreturn\u001b[39;00m y_new, f_new\n",
      "File \u001b[0;32m/opt/conda/lib/python3.10/site-packages/scipy/integrate/_ivp/base.py:154\u001b[0m, in \u001b[0;36mOdeSolver.__init__.<locals>.fun\u001b[0;34m(t, y)\u001b[0m\n\u001b[1;32m    152\u001b[0m \u001b[38;5;28;01mdef\u001b[39;00m \u001b[38;5;21mfun\u001b[39m(t, y):\n\u001b[1;32m    153\u001b[0m     \u001b[38;5;28mself\u001b[39m\u001b[38;5;241m.\u001b[39mnfev \u001b[38;5;241m+\u001b[39m\u001b[38;5;241m=\u001b[39m \u001b[38;5;241m1\u001b[39m\n\u001b[0;32m--> 154\u001b[0m     \u001b[38;5;28;01mreturn\u001b[39;00m \u001b[38;5;28;43mself\u001b[39;49m\u001b[38;5;241;43m.\u001b[39;49m\u001b[43mfun_single\u001b[49m\u001b[43m(\u001b[49m\u001b[43mt\u001b[49m\u001b[43m,\u001b[49m\u001b[43m \u001b[49m\u001b[43my\u001b[49m\u001b[43m)\u001b[49m\n",
      "File \u001b[0;32m/opt/conda/lib/python3.10/site-packages/scipy/integrate/_ivp/base.py:23\u001b[0m, in \u001b[0;36mcheck_arguments.<locals>.fun_wrapped\u001b[0;34m(t, y)\u001b[0m\n\u001b[1;32m     22\u001b[0m \u001b[38;5;28;01mdef\u001b[39;00m \u001b[38;5;21mfun_wrapped\u001b[39m(t, y):\n\u001b[0;32m---> 23\u001b[0m     \u001b[38;5;28;01mreturn\u001b[39;00m np\u001b[38;5;241m.\u001b[39masarray(\u001b[43mfun\u001b[49m\u001b[43m(\u001b[49m\u001b[43mt\u001b[49m\u001b[43m,\u001b[49m\u001b[43m \u001b[49m\u001b[43my\u001b[49m\u001b[43m)\u001b[49m, dtype\u001b[38;5;241m=\u001b[39mdtype)\n",
      "File \u001b[0;32m/opt/conda/lib/python3.10/site-packages/scipy/integrate/_ivp/ivp.py:540\u001b[0m, in \u001b[0;36msolve_ivp.<locals>.fun\u001b[0;34m(t, x, fun)\u001b[0m\n\u001b[1;32m    539\u001b[0m \u001b[38;5;28;01mdef\u001b[39;00m \u001b[38;5;21mfun\u001b[39m(t, x, fun\u001b[38;5;241m=\u001b[39mfun):\n\u001b[0;32m--> 540\u001b[0m     \u001b[38;5;28;01mreturn\u001b[39;00m \u001b[43mfun\u001b[49m\u001b[43m(\u001b[49m\u001b[43mt\u001b[49m\u001b[43m,\u001b[49m\u001b[43m \u001b[49m\u001b[43mx\u001b[49m\u001b[43m,\u001b[49m\u001b[43m \u001b[49m\u001b[38;5;241;43m*\u001b[39;49m\u001b[43margs\u001b[49m\u001b[43m)\u001b[49m\n",
      "Cell \u001b[0;32mIn[11], line 11\u001b[0m, in \u001b[0;36mTOV\u001b[0;34m(r, p_and_m, n_central)\u001b[0m\n\u001b[1;32m      9\u001b[0m p \u001b[38;5;241m=\u001b[39m p_and_m[\u001b[38;5;241m0\u001b[39m]\n\u001b[1;32m     10\u001b[0m m \u001b[38;5;241m=\u001b[39m p_and_m[\u001b[38;5;241m1\u001b[39m]\n\u001b[0;32m---> 11\u001b[0m \u001b[38;5;28;01mif\u001b[39;00m \u001b[43mnum_density_from_pressure\u001b[49m\u001b[43m(\u001b[49m\u001b[43mp\u001b[49m\u001b[43m,\u001b[49m\u001b[43m \u001b[49m\u001b[43mr\u001b[49m\u001b[43m,\u001b[49m\u001b[43m \u001b[49m\u001b[43mn_central\u001b[49m\u001b[43m)\u001b[49m \u001b[38;5;129;01mis\u001b[39;00m \u001b[38;5;28;01mNone\u001b[39;00m:\n\u001b[1;32m     12\u001b[0m     \u001b[38;5;28;01mreturn\u001b[39;00m [\u001b[38;5;241m0\u001b[39m, \u001b[38;5;241m0\u001b[39m]\n\u001b[1;32m     13\u001b[0m n \u001b[38;5;241m=\u001b[39m num_density_from_pressure(p, r, n_central) \u001b[38;5;241m*\u001b[39m u\u001b[38;5;241m.\u001b[39mMeV \u001b[38;5;241m*\u001b[39m\u001b[38;5;241m*\u001b[39m \u001b[38;5;241m3\u001b[39m\n",
      "Cell \u001b[0;32mIn[8], line 21\u001b[0m, in \u001b[0;36mnum_density_from_pressure\u001b[0;34m(p, r, n_central)\u001b[0m\n\u001b[1;32m     17\u001b[0m     \u001b[38;5;28;01mreturn\u001b[39;00m\n\u001b[1;32m     19\u001b[0m pressure_brentq_b \u001b[38;5;241m=\u001b[39m find_pressure_brentq_b(n_central)\n\u001b[0;32m---> 21\u001b[0m result \u001b[38;5;241m=\u001b[39m \u001b[43moptimize\u001b[49m\u001b[38;5;241;43m.\u001b[39;49m\u001b[43mbrentq\u001b[49m\u001b[43m(\u001b[49m\u001b[43mpressure_minus_target_p\u001b[49m\u001b[43m,\u001b[49m\n\u001b[1;32m     22\u001b[0m \u001b[43m                         \u001b[49m\u001b[38;5;241;43m0\u001b[39;49m\u001b[43m,\u001b[49m\n\u001b[1;32m     23\u001b[0m \u001b[43m                         \u001b[49m\u001b[43mpressure_brentq_b\u001b[49m\u001b[43m,\u001b[49m\n\u001b[1;32m     24\u001b[0m \u001b[43m                         \u001b[49m\u001b[43margs\u001b[49m\u001b[43m \u001b[49m\u001b[38;5;241;43m=\u001b[39;49m\u001b[43m \u001b[49m\u001b[43m(\u001b[49m\u001b[43mp\u001b[49m\u001b[43m,\u001b[49m\u001b[43m)\u001b[49m\n\u001b[1;32m     25\u001b[0m \u001b[43m                        \u001b[49m\u001b[43m)\u001b[49m\n\u001b[1;32m     27\u001b[0m \u001b[38;5;28;01mreturn\u001b[39;00m result\n",
      "File \u001b[0;32m/opt/conda/lib/python3.10/site-packages/scipy/optimize/_zeros_py.py:802\u001b[0m, in \u001b[0;36mbrentq\u001b[0;34m(f, a, b, args, xtol, rtol, maxiter, full_output, disp)\u001b[0m\n\u001b[1;32m    800\u001b[0m     \u001b[38;5;28;01mraise\u001b[39;00m \u001b[38;5;167;01mValueError\u001b[39;00m(\u001b[38;5;124mf\u001b[39m\u001b[38;5;124m\"\u001b[39m\u001b[38;5;124mrtol too small (\u001b[39m\u001b[38;5;132;01m{\u001b[39;00mrtol\u001b[38;5;132;01m:\u001b[39;00m\u001b[38;5;124mg\u001b[39m\u001b[38;5;132;01m}\u001b[39;00m\u001b[38;5;124m < \u001b[39m\u001b[38;5;132;01m{\u001b[39;00m_rtol\u001b[38;5;132;01m:\u001b[39;00m\u001b[38;5;124mg\u001b[39m\u001b[38;5;132;01m}\u001b[39;00m\u001b[38;5;124m)\u001b[39m\u001b[38;5;124m\"\u001b[39m)\n\u001b[1;32m    801\u001b[0m f \u001b[38;5;241m=\u001b[39m _wrap_nan_raise(f)\n\u001b[0;32m--> 802\u001b[0m r \u001b[38;5;241m=\u001b[39m \u001b[43m_zeros\u001b[49m\u001b[38;5;241;43m.\u001b[39;49m\u001b[43m_brentq\u001b[49m\u001b[43m(\u001b[49m\u001b[43mf\u001b[49m\u001b[43m,\u001b[49m\u001b[43m \u001b[49m\u001b[43ma\u001b[49m\u001b[43m,\u001b[49m\u001b[43m \u001b[49m\u001b[43mb\u001b[49m\u001b[43m,\u001b[49m\u001b[43m \u001b[49m\u001b[43mxtol\u001b[49m\u001b[43m,\u001b[49m\u001b[43m \u001b[49m\u001b[43mrtol\u001b[49m\u001b[43m,\u001b[49m\u001b[43m \u001b[49m\u001b[43mmaxiter\u001b[49m\u001b[43m,\u001b[49m\u001b[43m \u001b[49m\u001b[43margs\u001b[49m\u001b[43m,\u001b[49m\u001b[43m \u001b[49m\u001b[43mfull_output\u001b[49m\u001b[43m,\u001b[49m\u001b[43m \u001b[49m\u001b[43mdisp\u001b[49m\u001b[43m)\u001b[49m\n\u001b[1;32m    803\u001b[0m \u001b[38;5;28;01mreturn\u001b[39;00m results_c(full_output, r)\n",
      "File \u001b[0;32m/opt/conda/lib/python3.10/site-packages/scipy/optimize/_zeros_py.py:90\u001b[0m, in \u001b[0;36m_wrap_nan_raise.<locals>.f_raise\u001b[0;34m(x, *args)\u001b[0m\n\u001b[1;32m     89\u001b[0m \u001b[38;5;28;01mdef\u001b[39;00m \u001b[38;5;21mf_raise\u001b[39m(x, \u001b[38;5;241m*\u001b[39margs):\n\u001b[0;32m---> 90\u001b[0m     fx \u001b[38;5;241m=\u001b[39m \u001b[43mf\u001b[49m\u001b[43m(\u001b[49m\u001b[43mx\u001b[49m\u001b[43m,\u001b[49m\u001b[43m \u001b[49m\u001b[38;5;241;43m*\u001b[39;49m\u001b[43margs\u001b[49m\u001b[43m)\u001b[49m\n\u001b[1;32m     91\u001b[0m     f_raise\u001b[38;5;241m.\u001b[39m_function_calls \u001b[38;5;241m+\u001b[39m\u001b[38;5;241m=\u001b[39m \u001b[38;5;241m1\u001b[39m\n\u001b[1;32m     92\u001b[0m     \u001b[38;5;28;01mif\u001b[39;00m np\u001b[38;5;241m.\u001b[39misnan(fx):\n",
      "Cell \u001b[0;32mIn[8], line 5\u001b[0m, in \u001b[0;36mpressure_minus_target_p\u001b[0;34m(n, target_p)\u001b[0m\n\u001b[1;32m      3\u001b[0m \u001b[38;5;28;01mdef\u001b[39;00m \u001b[38;5;21mpressure_minus_target_p\u001b[39m(n, target_p):\n\u001b[1;32m      4\u001b[0m     n \u001b[38;5;241m=\u001b[39m n \u001b[38;5;241m*\u001b[39m u\u001b[38;5;241m.\u001b[39mMeV \u001b[38;5;241m*\u001b[39m\u001b[38;5;241m*\u001b[39m \u001b[38;5;241m3\u001b[39m\n\u001b[0;32m----> 5\u001b[0m     result \u001b[38;5;241m=\u001b[39m \u001b[43mfind_pressure\u001b[49m\u001b[43m(\u001b[49m\u001b[43mn\u001b[49m\u001b[43m)\u001b[49m\u001b[38;5;241m.\u001b[39mvalue \u001b[38;5;241m-\u001b[39m target_p\n\u001b[1;32m      6\u001b[0m     \u001b[38;5;28;01mreturn\u001b[39;00m result\n",
      "Cell \u001b[0;32mIn[6], line 22\u001b[0m, in \u001b[0;36mfind_pressure\u001b[0;34m(num_density)\u001b[0m\n\u001b[1;32m     20\u001b[0m epsilon \u001b[38;5;241m=\u001b[39m find_epsilon(num_density)\n\u001b[1;32m     21\u001b[0m chem_potential \u001b[38;5;241m=\u001b[39m find_chem_potential(num_density)\n\u001b[0;32m---> 22\u001b[0m num_density_c \u001b[38;5;241m=\u001b[39m \u001b[43mnum_density_from_energy_density\u001b[49m\u001b[43m(\u001b[49m\u001b[43mepsilon_c\u001b[49m\u001b[38;5;241;43m.\u001b[39;49m\u001b[43mvalue\u001b[49m\u001b[43m)\u001b[49m \u001b[38;5;241m*\u001b[39m u\u001b[38;5;241m.\u001b[39mMeV \u001b[38;5;241m*\u001b[39m\u001b[38;5;241m*\u001b[39m \u001b[38;5;241m3\u001b[39m\n\u001b[1;32m     23\u001b[0m chem_potential_c \u001b[38;5;241m=\u001b[39m find_chem_potential(num_density_c)\n\u001b[1;32m     24\u001b[0m pressure_c \u001b[38;5;241m=\u001b[39m \u001b[38;5;241m-\u001b[39m epsilon_c \u001b[38;5;241m+\u001b[39m chem_potential_c \u001b[38;5;241m*\u001b[39m num_density_c\n",
      "Cell \u001b[0;32mIn[7], line 11\u001b[0m, in \u001b[0;36mnum_density_from_energy_density\u001b[0;34m(epsilon)\u001b[0m\n\u001b[1;32m      9\u001b[0m \u001b[38;5;28;01mdef\u001b[39;00m \u001b[38;5;21mnum_density_from_energy_density\u001b[39m(epsilon):\n\u001b[1;32m     10\u001b[0m     b \u001b[38;5;241m=\u001b[39m \u001b[38;5;241m10\u001b[39m \u001b[38;5;241m*\u001b[39m\u001b[38;5;241m*\u001b[39m \u001b[38;5;241m12\u001b[39m\n\u001b[0;32m---> 11\u001b[0m     \u001b[38;5;28;01mif\u001b[39;00m \u001b[43menergy_density_minus_target_epsilon\u001b[49m\u001b[43m(\u001b[49m\u001b[38;5;241;43m0\u001b[39;49m\u001b[43m,\u001b[49m\u001b[43m \u001b[49m\u001b[43mepsilon\u001b[49m\u001b[43m)\u001b[49m \u001b[38;5;241m>\u001b[39m \u001b[38;5;241m0\u001b[39m:\n\u001b[1;32m     12\u001b[0m         \u001b[38;5;28mprint\u001b[39m(\u001b[38;5;124mf\u001b[39m\u001b[38;5;124m\"\u001b[39m\u001b[38;5;124mfind_epsilon is \u001b[39m\u001b[38;5;132;01m{\u001b[39;00mfind_epsilon(\u001b[38;5;241m0\u001b[39m\u001b[38;5;250m \u001b[39m\u001b[38;5;241m*\u001b[39m\u001b[38;5;250m \u001b[39mu\u001b[38;5;241m.\u001b[39mMeV\u001b[38;5;250m \u001b[39m\u001b[38;5;241m*\u001b[39m\u001b[38;5;241m*\u001b[39m\u001b[38;5;250m \u001b[39m\u001b[38;5;241m3\u001b[39m)\u001b[38;5;132;01m}\u001b[39;00m\u001b[38;5;124m and epsilon is \u001b[39m\u001b[38;5;132;01m{\u001b[39;00mepsilon\u001b[38;5;132;01m}\u001b[39;00m\u001b[38;5;124m.\u001b[39m\u001b[38;5;124m\"\u001b[39m)\n\u001b[1;32m     13\u001b[0m         \u001b[38;5;28;01mreturn\u001b[39;00m\n",
      "Cell \u001b[0;32mIn[7], line 5\u001b[0m, in \u001b[0;36menergy_density_minus_target_epsilon\u001b[0;34m(n, target_epsilon)\u001b[0m\n\u001b[1;32m      3\u001b[0m \u001b[38;5;28;01mdef\u001b[39;00m \u001b[38;5;21menergy_density_minus_target_epsilon\u001b[39m(n, target_epsilon):\n\u001b[1;32m      4\u001b[0m     n \u001b[38;5;241m=\u001b[39m n \u001b[38;5;241m*\u001b[39m u\u001b[38;5;241m.\u001b[39mMeV \u001b[38;5;241m*\u001b[39m\u001b[38;5;241m*\u001b[39m \u001b[38;5;241m3\u001b[39m\n\u001b[0;32m----> 5\u001b[0m     result \u001b[38;5;241m=\u001b[39m \u001b[43mfind_epsilon\u001b[49m\u001b[43m(\u001b[49m\u001b[43mn\u001b[49m\u001b[43m)\u001b[49m\u001b[38;5;241m.\u001b[39mvalue \u001b[38;5;241m-\u001b[39m target_epsilon\n\u001b[1;32m      6\u001b[0m     \u001b[38;5;28;01mreturn\u001b[39;00m result\n",
      "Cell \u001b[0;32mIn[6], line 8\u001b[0m, in \u001b[0;36mfind_epsilon\u001b[0;34m(num_density)\u001b[0m\n\u001b[1;32m      7\u001b[0m \u001b[38;5;28;01mdef\u001b[39;00m \u001b[38;5;21mfind_epsilon\u001b[39m(num_density):\n\u001b[0;32m----> 8\u001b[0m     E \u001b[38;5;241m=\u001b[39m \u001b[43mfind_E\u001b[49m\u001b[43m(\u001b[49m\u001b[43mnum_density\u001b[49m\u001b[43m)\u001b[49m\n\u001b[1;32m      9\u001b[0m     result \u001b[38;5;241m=\u001b[39m num_density \u001b[38;5;241m*\u001b[39m (E \u001b[38;5;241m+\u001b[39m m_N)\n\u001b[1;32m     10\u001b[0m     \u001b[38;5;28;01mreturn\u001b[39;00m result\n",
      "Cell \u001b[0;32mIn[6], line 3\u001b[0m, in \u001b[0;36mfind_E\u001b[0;34m(num_density)\u001b[0m\n\u001b[1;32m      2\u001b[0m \u001b[38;5;28;01mdef\u001b[39;00m \u001b[38;5;21mfind_E\u001b[39m(num_density):\n\u001b[0;32m----> 3\u001b[0m     result \u001b[38;5;241m=\u001b[39m a \u001b[38;5;241m*\u001b[39m (num_density \u001b[38;5;241m/\u001b[39m n_0) \u001b[38;5;241m*\u001b[39m\u001b[38;5;241m*\u001b[39m alpha \u001b[38;5;241m+\u001b[39m b \u001b[38;5;241m*\u001b[39m \u001b[43m(\u001b[49m\u001b[43mnum_density\u001b[49m\u001b[43m \u001b[49m\u001b[38;5;241;43m/\u001b[39;49m\u001b[43m \u001b[49m\u001b[43mn_0\u001b[49m\u001b[43m)\u001b[49m\u001b[43m \u001b[49m\u001b[38;5;241;43m*\u001b[39;49m\u001b[38;5;241;43m*\u001b[39;49m\u001b[43m \u001b[49m\u001b[43mbeta\u001b[49m\n\u001b[1;32m      4\u001b[0m     \u001b[38;5;28;01mreturn\u001b[39;00m result\n",
      "File \u001b[0;32m/opt/conda/lib/python3.10/site-packages/astropy/units/quantity.py:1270\u001b[0m, in \u001b[0;36mQuantity.__pow__\u001b[0;34m(self, other)\u001b[0m\n\u001b[1;32m   1264\u001b[0m \u001b[38;5;28;01mif\u001b[39;00m \u001b[38;5;28misinstance\u001b[39m(other, Fraction):\n\u001b[1;32m   1265\u001b[0m     \u001b[38;5;66;03m# Avoid getting object arrays by raising the value to a Fraction.\u001b[39;00m\n\u001b[1;32m   1266\u001b[0m     \u001b[38;5;28;01mreturn\u001b[39;00m \u001b[38;5;28mself\u001b[39m\u001b[38;5;241m.\u001b[39m_new_view(\n\u001b[1;32m   1267\u001b[0m         \u001b[38;5;28mself\u001b[39m\u001b[38;5;241m.\u001b[39mvalue \u001b[38;5;241m*\u001b[39m\u001b[38;5;241m*\u001b[39m \u001b[38;5;28mfloat\u001b[39m(other), \u001b[38;5;28mself\u001b[39m\u001b[38;5;241m.\u001b[39munit\u001b[38;5;241m*\u001b[39m\u001b[38;5;241m*\u001b[39mother, propagate_info\u001b[38;5;241m=\u001b[39m\u001b[38;5;28;01mFalse\u001b[39;00m\n\u001b[1;32m   1268\u001b[0m     )\n\u001b[0;32m-> 1270\u001b[0m \u001b[38;5;28;01mreturn\u001b[39;00m \u001b[38;5;28;43msuper\u001b[39;49m\u001b[43m(\u001b[49m\u001b[43m)\u001b[49m\u001b[38;5;241;43m.\u001b[39;49m\u001b[38;5;21;43m__pow__\u001b[39;49m\u001b[43m(\u001b[49m\u001b[43mother\u001b[49m\u001b[43m)\u001b[49m\n",
      "File \u001b[0;32m/opt/conda/lib/python3.10/site-packages/astropy/units/quantity.py:636\u001b[0m, in \u001b[0;36mQuantity.__array_ufunc__\u001b[0;34m(self, function, method, *inputs, **kwargs)\u001b[0m\n\u001b[1;32m    631\u001b[0m \u001b[38;5;66;03m# Determine required conversion functions -- to bring the unit of the\u001b[39;00m\n\u001b[1;32m    632\u001b[0m \u001b[38;5;66;03m# input to that expected (e.g., radian for np.sin), or to get\u001b[39;00m\n\u001b[1;32m    633\u001b[0m \u001b[38;5;66;03m# consistent units between two inputs (e.g., in np.add) --\u001b[39;00m\n\u001b[1;32m    634\u001b[0m \u001b[38;5;66;03m# and the unit of the result (or tuple of units for nout > 1).\u001b[39;00m\n\u001b[1;32m    635\u001b[0m \u001b[38;5;28;01mtry\u001b[39;00m:\n\u001b[0;32m--> 636\u001b[0m     converters, unit \u001b[38;5;241m=\u001b[39m \u001b[43mconverters_and_unit\u001b[49m\u001b[43m(\u001b[49m\u001b[43mfunction\u001b[49m\u001b[43m,\u001b[49m\u001b[43m \u001b[49m\u001b[43mmethod\u001b[49m\u001b[43m,\u001b[49m\u001b[43m \u001b[49m\u001b[38;5;241;43m*\u001b[39;49m\u001b[43minputs\u001b[49m\u001b[43m)\u001b[49m\n\u001b[1;32m    638\u001b[0m     out \u001b[38;5;241m=\u001b[39m kwargs\u001b[38;5;241m.\u001b[39mget(\u001b[38;5;124m\"\u001b[39m\u001b[38;5;124mout\u001b[39m\u001b[38;5;124m\"\u001b[39m, \u001b[38;5;28;01mNone\u001b[39;00m)\n\u001b[1;32m    639\u001b[0m     \u001b[38;5;66;03m# Avoid loop back by turning any Quantity output into array views.\u001b[39;00m\n",
      "File \u001b[0;32m/opt/conda/lib/python3.10/site-packages/astropy/units/quantity_helper/converters.py:141\u001b[0m, in \u001b[0;36mconverters_and_unit\u001b[0;34m(function, method, *args)\u001b[0m\n\u001b[1;32m    124\u001b[0m \u001b[38;5;250m    \u001b[39m\u001b[38;5;124;03m\"\"\"Test whether the items in value can have arbitrary units.\u001b[39;00m\n\u001b[1;32m    125\u001b[0m \n\u001b[1;32m    126\u001b[0m \u001b[38;5;124;03m    Numbers whose value does not change upon a unit change, i.e.,\u001b[39;00m\n\u001b[0;32m   (...)\u001b[0m\n\u001b[1;32m    136\u001b[0m \u001b[38;5;124;03m        `True` if each member is either zero or not finite, `False` otherwise\u001b[39;00m\n\u001b[1;32m    137\u001b[0m \u001b[38;5;124;03m    \"\"\"\u001b[39;00m\n\u001b[1;32m    138\u001b[0m     \u001b[38;5;28;01mreturn\u001b[39;00m np\u001b[38;5;241m.\u001b[39mall(np\u001b[38;5;241m.\u001b[39mlogical_or(np\u001b[38;5;241m.\u001b[39mequal(value, \u001b[38;5;241m0.0\u001b[39m), \u001b[38;5;241m~\u001b[39mnp\u001b[38;5;241m.\u001b[39misfinite(value)))\n\u001b[0;32m--> 141\u001b[0m \u001b[38;5;28;01mdef\u001b[39;00m \u001b[38;5;21mconverters_and_unit\u001b[39m(function, method, \u001b[38;5;241m*\u001b[39margs):\n\u001b[1;32m    142\u001b[0m \u001b[38;5;250m    \u001b[39m\u001b[38;5;124;03m\"\"\"Determine the required converters and the unit of the ufunc result.\u001b[39;00m\n\u001b[1;32m    143\u001b[0m \n\u001b[1;32m    144\u001b[0m \u001b[38;5;124;03m    Converters are functions required to convert to a ufunc's expected unit,\u001b[39;00m\n\u001b[0;32m   (...)\u001b[0m\n\u001b[1;32m    166\u001b[0m \u001b[38;5;124;03m        is not possible.\u001b[39;00m\n\u001b[1;32m    167\u001b[0m \u001b[38;5;124;03m    \"\"\"\u001b[39;00m\n\u001b[1;32m    168\u001b[0m     \u001b[38;5;66;03m# Check whether we support this ufunc, by getting the helper function\u001b[39;00m\n\u001b[1;32m    169\u001b[0m     \u001b[38;5;66;03m# (defined in helpers) which returns a list of function(s) that convert the\u001b[39;00m\n\u001b[1;32m    170\u001b[0m     \u001b[38;5;66;03m# input(s) to the unit required for the ufunc, as well as the unit the\u001b[39;00m\n\u001b[1;32m    171\u001b[0m     \u001b[38;5;66;03m# result will have (a tuple of units if there are multiple outputs).\u001b[39;00m\n",
      "\u001b[0;31mKeyboardInterrupt\u001b[0m: "
     ]
    }
   ],
   "source": [
    "mass = []\n",
    "radius = []\n",
    "pressure_list = []\n",
    "\n",
    "# Nuclear saturation number density is 0.16 fm^(-3)\n",
    "n_central = np.logspace(-0.3, 1, num = 50) * n_0\n",
    "\n",
    "for num_density in n_central:\n",
    "    p_central = find_pressure(num_density).value\n",
    "    distance_from_center, cumulative_mass, pressure_values = solve_TOV(num_density.value, p_central)\n",
    "    print(\"Solved TOV\")\n",
    "\n",
    "    # Removing NaN and inf values from cumulative mass\n",
    "    \n",
    "    cumulative_mass = cumulative_mass[~np.isnan(cumulative_mass)]\n",
    "    cumulative_mass = cumulative_mass[~np.isinf(cumulative_mass)]\n",
    "        \n",
    "    mass.append(cumulative_mass[-1].value)\n",
    "    radius.append(distance_from_center[-1].value)\n",
    "    pressure_list.append(pressure_values[0])"
   ]
  },
  {
   "cell_type": "code",
   "execution_count": null,
   "id": "3de15859-45fe-4131-b2e1-b26b079c530a",
   "metadata": {},
   "outputs": [],
   "source": [
    "mass = mass * u.solMass\n",
    "radius = radius * u.km\n",
    "print(mass, radius)"
   ]
  },
  {
   "cell_type": "code",
   "execution_count": null,
   "id": "82a91057-2f2c-4ad9-8530-e1ebfa30d7e7",
   "metadata": {},
   "outputs": [],
   "source": [
    "fig, ax = plt.subplots(figsize = (8, 8))\n",
    "\n",
    "ax.set_title(r\"Neutron star mass vs radius -- piecewise EoS, $M_{\\mathrm{max}}\\approx2\\,\\mathrm{M}_{\\odot}$\",\n",
    "             fontsize = 15\n",
    "            );\n",
    "\n",
    "ax.set_xlabel(\"Radius (km)\", fontsize = 15);\n",
    "ax.set_ylabel(r\"Mass ($\\mathrm{M_{\\odot}}$)\", fontsize = 15);\n",
    "ax.set_xlim(7.25, 14.25);\n",
    "ax.set_ylim(0, 2.1);\n",
    "ax.plot(radius, mass, \"--o\");\n",
    "\n",
    "# Noting unrealistic mass region\n",
    "ax.fill_between([7.25, 14.25], 0, 1, color = \"grey\", alpha = 0.5, label = \"Unrealistic masses$<1\\,\\mathrm{M}_{\\odot}$\");\n",
    "\n",
    "# Noting unstable region beyond maximum mass\n",
    "ax.plot(radius[-4:], mass[-4:], marker = \"o\", color = \"g\", linestyle = \"\", label = \"Unstable region, non-physical\");\n",
    "\n",
    "# Maximum mass critical point found from mass-radius curve\n",
    "# In km and solar masses respectively, rounded to the thousandths place\n",
    "radius_max = 8.629\n",
    "mass_max = 2.021\n",
    "\n",
    "# Noting maximum mass\n",
    "ax.plot(radius_max,\n",
    "        mass_max,\n",
    "        marker = \"*\",\n",
    "        linestyle = \"\",\n",
    "        markersize = 15,\n",
    "        label = r\"$M_{\\mathrm{max}}=2.021\\,\\mathrm{M}_{\\odot}$\"\n",
    "       );\n",
    "\n",
    "ax.legend(fontsize = 15);\n",
    "\n",
    "plt.savefig(\"piecewise_mass_radius_plot_epsilon_D_618.pdf\", bbox_inches = \"tight\");\n",
    "plt.savefig(\"piecewise_mass_radius_plot_epsilon_D_618.jpg\", bbox_inches = \"tight\");"
   ]
  },
  {
   "cell_type": "code",
   "execution_count": null,
   "id": "1ac91998-f33a-4027-91ea-84de13504915",
   "metadata": {},
   "outputs": [],
   "source": [
    "index = np.where(mass == np.max(mass))[0][0]\n",
    "print(f\"Maximum mass is {np.max(mass)}, radius is {radius[index]}, n_central is {n_central[index]}, and p_central is {pressure_list[index]}.\")"
   ]
  },
  {
   "cell_type": "code",
   "execution_count": null,
   "id": "c7f30583-e915-4185-b448-175d2ede71f6",
   "metadata": {},
   "outputs": [],
   "source": [
    "n_central_max = 9580677.296029927 * u.MeV ** 3\n",
    "epsilon_max = find_epsilon(n_central_max).value * u.MeV * (1 * u.MeV).to(1 / u.fm, equivalencies = natural) ** 3\n",
    "pressure_max = find_pressure(n_central_max).value * u.MeV * (1 * u.MeV).to(1 / u.fm, equivalencies = natural) ** 3\n",
    "print(f\"Energy density that yields the maximum mass is {epsilon_max:.0f} and pressure that yields the maximum mass is {pressure_max:.0f}.\")"
   ]
  },
  {
   "cell_type": "code",
   "execution_count": null,
   "id": "5189b981-744e-45e3-b57f-d546513f7c70",
   "metadata": {},
   "outputs": [],
   "source": [
    "index_2 = 43\n",
    "print(f\"Mass around 2 is {mass[index_2]}, radius is {radius[index_2]}, n_central is {n_central[index_2]}, and p_central is {pressure_list[index_2]}.\")"
   ]
  },
  {
   "cell_type": "code",
   "execution_count": null,
   "id": "c5d4dcf2-667d-482b-9d0d-6ef70d9f1e6a",
   "metadata": {},
   "outputs": [],
   "source": [
    "n_central_2 = 8478811.646151397 * u.MeV ** 3\n",
    "epsilon_2 = find_epsilon(n_central_2).value * u.MeV * (1 * u.MeV).to(1 / u.fm, equivalencies = natural) ** 3\n",
    "pressure_2 = find_pressure(n_central_2).value * u.MeV * (1 * u.MeV).to(1 / u.fm, equivalencies = natural) ** 3\n",
    "print(f\"Energy density that yields 2 solar masses is {epsilon_2:.0f} and pressure that yields 2 solar masses is {pressure_2:.0f}.\")"
   ]
  }
 ],
 "metadata": {
  "kernelspec": {
   "display_name": "Python 3 (ipykernel)",
   "language": "python",
   "name": "python3"
  },
  "language_info": {
   "codemirror_mode": {
    "name": "ipython",
    "version": 3
   },
   "file_extension": ".py",
   "mimetype": "text/x-python",
   "name": "python",
   "nbconvert_exporter": "python",
   "pygments_lexer": "ipython3",
   "version": "3.10.13"
  }
 },
 "nbformat": 4,
 "nbformat_minor": 5
}
