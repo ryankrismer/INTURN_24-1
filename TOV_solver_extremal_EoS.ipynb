{
 "cells": [
  {
   "cell_type": "markdown",
   "id": "04da24ec-01de-4902-b8c0-7100f7613a76",
   "metadata": {},
   "source": [
    "# TOV Solver for an extremal EoS"
   ]
  },
  {
   "cell_type": "markdown",
   "id": "4d5ed76f-3792-4e1d-8bc5-50987f52b725",
   "metadata": {
    "jp-MarkdownHeadingCollapsed": true
   },
   "source": [
    "# (X) Old discontinued code"
   ]
  },
  {
   "cell_type": "markdown",
   "id": "3d4881b5-c998-4ceb-95e9-4244f0b033a1",
   "metadata": {},
   "source": [
    "### (X) Original TOV test: non-interacting pure neutron Fermi gas, relativistic EoS (does not produce good plots)"
   ]
  },
  {
   "cell_type": "code",
   "execution_count": 1,
   "id": "907a09bb-b1dd-4cfa-9389-e528f151d793",
   "metadata": {
    "jupyter": {
     "source_hidden": true
    }
   },
   "outputs": [],
   "source": [
    "# # r = distance from center\n",
    "# # m = cumulative mass enclosed within distance r from center\n",
    "# # p = pressure at distance r from center\n",
    "# # epsilon = energy density at distance r from center\n",
    "\n",
    "# # TOV simplified for relativistic pure neutron Fermi gas EoS, epsilon = 3 * p\n",
    "# # Later will generalize TOV by adding gamma polytrope exponent and K EoS constant as parameters\n",
    "# # Generalized EoS: p = K * epsilon ** gamma (right now gamma = 1 and K = 1/3)\n",
    "\n",
    "# # TOV coded to be compatible w/ cgs units, but can't explicitly give units in code b/c solve_ivp() throws errors\n",
    "\n",
    "# def TOV(r, p_and_m):\n",
    "#     p = p_and_m[0]\n",
    "#     m = p_and_m[1]\n",
    "#     p_result = - G * (4 * p) * m / c ** 2 / r ** 2 * (1 + 4 * pi * r ** 3 * p / m / c ** 2) * (1 - 2 * G * m / c ** 2 / r) ** (-1)\n",
    "#     m_result = 12 * pi * r ** 2 * p / c ** 2\n",
    "#     return [p_result, m_result]"
   ]
  },
  {
   "cell_type": "markdown",
   "id": "5bb9c344-22ab-45ad-a8e6-513728bbaa83",
   "metadata": {},
   "source": [
    "### (X) Original EoS: relativistic pure neutron Fermi gas, does not make good plots"
   ]
  },
  {
   "cell_type": "code",
   "execution_count": 2,
   "id": "ae152628-4b04-4345-b619-c099ba233427",
   "metadata": {
    "jupyter": {
     "source_hidden": true
    }
   },
   "outputs": [],
   "source": [
    "# Original EoS: relativistic pure neutron Fermi gas\n",
    "# (does not make good plots):\n",
    "\n",
    "# def p_from_rho(rho):\n",
    "#     result = c ** 2 * rho / 3\n",
    "#     return result\n",
    "\n",
    "# p_central = p_from_rho(rho_central)"
   ]
  },
  {
   "cell_type": "markdown",
   "id": "7ca4ac1a-bf7b-443f-be5c-7671e7d5b10d",
   "metadata": {},
   "source": [
    "## (X) Initial relativistic pure neutron Fermi gas EoS attempt"
   ]
  },
  {
   "cell_type": "markdown",
   "id": "9ca38c92-f94a-40f6-8815-7c739cd8e50c",
   "metadata": {
    "jp-MarkdownHeadingCollapsed": true
   },
   "source": [
    "### Original solve_ivp() attempt, bad plots"
   ]
  },
  {
   "cell_type": "code",
   "execution_count": 3,
   "id": "8ef2c84a-2ea1-4dac-b1e8-abad981e4585",
   "metadata": {},
   "outputs": [],
   "source": [
    "# solution = solve_ivp(TOV,\n",
    "#                      [small_r, R_attempt],\n",
    "#                      [p_central, m_central])"
   ]
  },
  {
   "cell_type": "code",
   "execution_count": 4,
   "id": "dcd98800-d63c-41fc-8428-df4b46e5dc45",
   "metadata": {},
   "outputs": [],
   "source": [
    "# cumulative_mass = solution.y[1] * u.g\n",
    "# cumulative_mass = cumulative_mass.to(u.solMass)\n",
    "# cumulative_mass"
   ]
  },
  {
   "cell_type": "code",
   "execution_count": 5,
   "id": "56bdeeca-ab3c-46ef-9bbe-d465edb16c5a",
   "metadata": {},
   "outputs": [],
   "source": [
    "# pressure = solution.y[0]\n",
    "# pressure"
   ]
  },
  {
   "cell_type": "code",
   "execution_count": 6,
   "id": "d54863ca-a82f-4a9b-a493-888a27c0e5f2",
   "metadata": {},
   "outputs": [],
   "source": [
    "# distance_from_center = solution.t * u.cm\n",
    "# distance_from_center = distance_from_center.to(u.km)\n",
    "# distance_from_center"
   ]
  },
  {
   "cell_type": "markdown",
   "id": "440491d7-355e-4106-be2c-d2953127e16c",
   "metadata": {
    "jp-MarkdownHeadingCollapsed": true
   },
   "source": [
    "### Plots of cumulative mass and pressure vs distance from center"
   ]
  },
  {
   "cell_type": "code",
   "execution_count": 7,
   "id": "847310b9-3122-4bdb-b07b-271f9c5f108b",
   "metadata": {
    "jupyter": {
     "source_hidden": true
    }
   },
   "outputs": [],
   "source": [
    "# fig, [ax1, ax2] = plt.subplots(nrows = 1, ncols = 2, figsize = (16, 8))\n",
    "\n",
    "# ax1.plot(distance_from_center, cumulative_mass);\n",
    "# ax2.plot(distance_from_center, pressure);"
   ]
  },
  {
   "cell_type": "markdown",
   "id": "9444aff9-3698-45e1-b927-8a6322875375",
   "metadata": {},
   "source": [
    "### Now iterating over many radii and central mass densities"
   ]
  },
  {
   "cell_type": "code",
   "execution_count": 8,
   "id": "548ae127-754c-4e17-877f-6c4e2d5048f6",
   "metadata": {
    "jupyter": {
     "source_hidden": true
    }
   },
   "outputs": [],
   "source": [
    "# rho_central_initial = 10 ** 14\n",
    "\n",
    "# rho_central = rho_central_initial\n",
    "# rho_central_step = 10 ** 14\n",
    "\n",
    "# mass = []\n",
    "# radius = []\n",
    "\n",
    "# while rho_central <= 100 * rho_central_initial:\n",
    "\n",
    "#     R_initial = 10 ** 5\n",
    "\n",
    "#     R = R_initial\n",
    "#     r_step = 10 ** 5\n",
    "\n",
    "#     p_central = p_from_rho(rho_central)\n",
    "#     m_central = M_from_r_and_rho(small_r, rho_central)\n",
    "    \n",
    "#     while R <= 60 * R_initial:\n",
    "    \n",
    "#         solution = solve_ivp(TOV,\n",
    "#                              [small_r, R],\n",
    "#                              [p_central, m_central])\n",
    "\n",
    "#         cumulative_mass = (solution.y[1] * u.g).to(u.solMass)\n",
    "    \n",
    "#         mass.append(cumulative_mass[-1])\n",
    "#         radius.append(R)\n",
    "    \n",
    "#         R += r_step\n",
    "\n",
    "#     rho_central += rho_central_step"
   ]
  },
  {
   "cell_type": "code",
   "execution_count": 9,
   "id": "1e4065b1-51a3-4eda-9bb2-0aca3cc1e178",
   "metadata": {
    "jupyter": {
     "source_hidden": true
    }
   },
   "outputs": [],
   "source": [
    "# mass = (mass * u.g).to(u.solMass)\n",
    "# radius = (radius * u.cm).to(u.km)"
   ]
  },
  {
   "cell_type": "code",
   "execution_count": 10,
   "id": "e281bc12-8225-4f6b-8bee-515b1cf20b48",
   "metadata": {
    "jupyter": {
     "source_hidden": true
    },
    "scrolled": true
   },
   "outputs": [],
   "source": [
    "# fig, ax = plt.subplots(figsize = (8, 8))\n",
    "\n",
    "# ax.plot(radius, mass, markersize = 0.5, marker = \"o\", linestyle = \"None\");"
   ]
  },
  {
   "cell_type": "markdown",
   "id": "19a717d4-c223-4d7c-bd64-6110b44dd4ab",
   "metadata": {
    "jp-MarkdownHeadingCollapsed": true
   },
   "source": [
    "### Trying odeint() instead of solve_ivp()"
   ]
  },
  {
   "cell_type": "code",
   "execution_count": 11,
   "id": "7a2e6152-cfee-4007-bd2a-a038aa592e56",
   "metadata": {
    "jupyter": {
     "source_hidden": true
    }
   },
   "outputs": [],
   "source": [
    "# distance_from_center = np.arange(small_r, R_attempt, small_r)\n",
    "\n",
    "# solution = odeint(TOV,\n",
    "#                   t = distance_from_center,\n",
    "#                   y0 = [p_central, m_central],\n",
    "#                   tfirst = True)"
   ]
  },
  {
   "cell_type": "code",
   "execution_count": 12,
   "id": "b7fbbf4e-8482-4393-9bc8-4d67ab4944f0",
   "metadata": {
    "jupyter": {
     "source_hidden": true
    }
   },
   "outputs": [],
   "source": [
    "# distance_from_center = (distance_from_center * u.cm).to(u.km)"
   ]
  },
  {
   "cell_type": "code",
   "execution_count": 13,
   "id": "377ed0fb-bf0f-4e23-9fb3-c5a94397416c",
   "metadata": {
    "jupyter": {
     "source_hidden": true
    }
   },
   "outputs": [],
   "source": [
    "# cumulative_mass = solution[:, 1] * u.g\n",
    "# cumulative_mass = cumulative_mass.to(u.solMass)\n",
    "# # cumulative_mass"
   ]
  },
  {
   "cell_type": "code",
   "execution_count": 14,
   "id": "abfd488b-6867-4834-8642-4254f401acaa",
   "metadata": {
    "jupyter": {
     "source_hidden": true
    }
   },
   "outputs": [],
   "source": [
    "# pressure = solution[:, 0]\n",
    "# #pressure"
   ]
  },
  {
   "cell_type": "code",
   "execution_count": 15,
   "id": "983c2895-63f6-4eba-a86d-834f625341c3",
   "metadata": {
    "jupyter": {
     "source_hidden": true
    }
   },
   "outputs": [],
   "source": [
    "# fig, [ax1, ax2] = plt.subplots(nrows = 1, ncols = 2, figsize = (16, 8))\n",
    "\n",
    "# ax1.plot(distance_from_center, cumulative_mass);\n",
    "# ax2.plot(distance_from_center, pressure);"
   ]
  },
  {
   "cell_type": "markdown",
   "id": "f704da32-c6ce-41b6-a6a7-1106c352c1e4",
   "metadata": {
    "jp-MarkdownHeadingCollapsed": true
   },
   "source": [
    "## (X) My EoS attempt"
   ]
  },
  {
   "cell_type": "code",
   "execution_count": 16,
   "id": "8339af8a-7ef1-497c-8354-44b92594caf6",
   "metadata": {
    "jupyter": {
     "source_hidden": true
    }
   },
   "outputs": [],
   "source": [
    "# r = distance from center\n",
    "# m = cumulative mass enclosed within distance r from center\n",
    "# p = pressure at distance r from center\n",
    "# epsilon = energy density at distance r from center\n",
    "\n",
    "# TOV and EoS coded to be compatible w/ cgs units, but can't explicitly give units in code b/c solve_ivp() throws errors\n",
    "# Will input A and gamma and epsilon_0 using args paramter for odeint()\n",
    "\n",
    "# TOV generalized for arbitrary relativity\n",
    "# A_NR = EoS coefficient for non-relativistic case\n",
    "# gamma_NR = EoS polytrope exponent for non-relativistic case\n",
    "# A_R = EoS coefficient for relativistic case\n",
    "# gamma_R = EoS polytrope exponent for relativistic case\n",
    "# epsilon_0 = additional EoS coefficient for arbitrary relativity\n",
    "\n",
    "# A = weight of non-relativistic case relative to relativistic case\n",
    "\n",
    "# def TOV(r, p_and_m, K_NR, gamma_NR, K_R, gamma_R, A):\n",
    "#     p = p_and_m[0]\n",
    "#     m = p_and_m[1]\n",
    "#     epsilon = A * (p / K_NR) ** (1 / gamma_NR) + (1 - A) * (p / K_R) ** (1 / gamma_R)\n",
    "#     p_result = - G * epsilon * m / c ** 2 / r ** 2 * (1 + p / epsilon) * (1 + 4 * pi * r ** 3 * p / m / c ** 2) * (1 - 2 * G * m / c ** 2 / r) ** (-1)\n",
    "#     m_result = 12 * pi * r ** 2 * p / c ** 2\n",
    "#     return [p_result, m_result]"
   ]
  },
  {
   "cell_type": "code",
   "execution_count": 17,
   "id": "7ae66a43-5151-40cf-b8c8-586b45128402",
   "metadata": {
    "jupyter": {
     "source_hidden": true
    }
   },
   "outputs": [],
   "source": [
    "# EoS coded to be compatible w/ cgs units, but can't explicitly give units in code b/c solve_ivp() throws errors\n",
    "\n",
    "# Arbitrary relativity EoS\n",
    "\n",
    "# def EoS_minus_rho(p, A, K_NR, gamma_NR, K_R, gamma_R, rho): # mass density minus rho\n",
    "#     result = 1 / c ** 2 * (A * (p / K_NR) ** (1 / gamma_NR) + (1 - A) * (p / K_R) ** (1 / gamma_R)) - rho\n",
    "#     return result"
   ]
  },
  {
   "cell_type": "code",
   "execution_count": 18,
   "id": "e25895d9-3d70-42e2-8c7e-0dfe62412383",
   "metadata": {
    "jupyter": {
     "source_hidden": true
    }
   },
   "outputs": [],
   "source": [
    "# def p_from_EoS(rho, K_NR, gamma_NR, K_R, gamma_R, A):\n",
    "#     # p_test = 1\n",
    "#     # rho_test = rho_from_EoS(A, p_test, K_NR, gamma_NR, K_R, gamma_R)\n",
    "\n",
    "#     result = optimize.brentq(EoS_minus_rho,\n",
    "#                              0,\n",
    "#                              10 ** 40,\n",
    "#                              args = (A, K_NR, gamma_NR, K_R, gamma_R, rho))\n",
    "#     while not math.isclose(rho_test, rho, rel_tol = 10 ** (-4)):\n",
    "#     rho_test = rho_from_EoS(A, p_test, K_NR, gamma_NR, K_R, gamma_R)\n",
    "#     p_test += K_R * (c ** 2 * rho) ** gamma_R / 10 ** 5\n",
    "\n",
    "#     print(f\"Reached this point, w/ rho_test = {rho_test:.2e}\")\n",
    "#     result = p_test"
   ]
  },
  {
   "cell_type": "code",
   "execution_count": 19,
   "id": "95c13c60-f02c-4274-8d99-0c19a2b4c54f",
   "metadata": {
    "jupyter": {
     "source_hidden": true
    }
   },
   "outputs": [],
   "source": [
    "# This should be the only cell that is changed for different EoS\n",
    "\n",
    "# Non-relativisitc and relativistic EoS for non-interacting pure\n",
    "# neutron Fermi gas\n",
    "\n",
    "# gamma_NR = 5 / 3\n",
    "# gamma_R = 1\n",
    "# K_NR = 6.483 * 10 ** (-26) # From Sanjay's paper, cgs\n",
    "# K_R = 1 / 3 # cgs\n",
    "# A = 0.0446 # Found from Sanjay's paper and Desmos\n",
    "\n",
    "# p_central = p_from_EoS(rho_central, K_NR, gamma_NR, K_R, gamma_R, A)\n",
    "\n",
    "\n",
    "# Central pressure for simple polytropic EoS\n",
    "\n",
    "# p_central = p_from_simp_poly_EoS(rho_central, K_NR, gamma_NR)"
   ]
  },
  {
   "cell_type": "code",
   "execution_count": 20,
   "id": "358cbb14-c31c-4914-b8e3-c589705d624b",
   "metadata": {
    "jupyter": {
     "source_hidden": true
    }
   },
   "outputs": [],
   "source": [
    "# Keep this for all EoS\n",
    "\n",
    "# distance_from_center = np.arange(small_r, R_attempt, small_r)\n",
    "\n",
    "# solution = odeint(TOV,\n",
    "#                   t = distance_from_center,\n",
    "#                   y0 = [p_central, m_central],\n",
    "#                   tfirst = True,\n",
    "#                   args = (K_NR, gamma_NR, K_R, gamma_R, A))"
   ]
  },
  {
   "cell_type": "code",
   "execution_count": 21,
   "id": "71aeeebc-7851-4bac-81a8-91c507ac1526",
   "metadata": {
    "jupyter": {
     "source_hidden": true
    }
   },
   "outputs": [],
   "source": [
    "# Iterating with lower resolution\n",
    "\n",
    "# rho_central_initial = 1.0 * 10 ** 11\n",
    "# mass = []\n",
    "# radius = []\n",
    "# pressure_list = []\n",
    "# mass_density = []\n",
    "\n",
    "# rho_central = rho_central_initial\n",
    "# rho_central_step = rho_central\n",
    "# rho_central_max = 1.0 * 10 ** 3 * rho_central\n",
    "\n",
    "# while rho_central <= 1000 * rho_central_initial:\n",
    "\n",
    "#     p_central = p_from_EoS(rho_central, K_NR, gamma_NR, K_R, gamma_R, A)\n",
    "#     print(\"Reached this point\")\n",
    "#     m_central = M_from_r_and_rho(small_r, rho_central)\n",
    "\n",
    "#     distance_from_center = np.arange(small_r, R_attempt, small_r)\n",
    "    \n",
    "#     solution = odeint(TOV,\n",
    "#                       t = distance_from_center,\n",
    "#                       y0 = [p_central, m_central],\n",
    "#                       tfirst = True,\n",
    "#                       args = (K_NR, gamma_NR, K_R, gamma_R, A))\n",
    "\n",
    "#     distance_from_center = (distance_from_center * u.cm).to(u.km)\n",
    "#     cumulative_mass = (solution[:, 1] * u.g).to(u.solMass)\n",
    "#     pressure = solution[:, 0]\n",
    "    \n",
    "#     # fig, [ax1, ax2] = plt.subplots(nrows = 1, ncols = 2, figsize = (1, 0.5))\n",
    "\n",
    "#     # ax1.plot(distance_from_center, cumulative_mass);\n",
    "#     # ax2.plot(distance_from_center, pressure);\n",
    "\n",
    "#     # Removing NaN and inf values from cumulative mass\n",
    "\n",
    "#     cumulative_mass = cumulative_mass[~np.isnan(cumulative_mass)]\n",
    "#     cumulative_mass = cumulative_mass[~np.isinf(cumulative_mass)]\n",
    "    \n",
    "#     max_cumulative_mass = np.max(cumulative_mass)\n",
    "#     index = np.where(cumulative_mass == max_cumulative_mass)\n",
    "#     mass.append(np.max(cumulative_mass.value))\n",
    "#     radius.append(distance_from_center[index][-1].value)\n",
    "\n",
    "#     rho_central += rho_central_step\n",
    "\n",
    "# Iterating with intermediate resolution\n",
    "  \n",
    "# rho_central_step *= 10 ** 3\n",
    "# rho_central_max *= 10 ** 3"
   ]
  },
  {
   "cell_type": "markdown",
   "id": "f4fda897-c7e4-4b4e-8348-d1cf28465ba4",
   "metadata": {
    "jp-MarkdownHeadingCollapsed": true
   },
   "source": [
    "## (X) Long-winded iterating over central mass densities"
   ]
  },
  {
   "cell_type": "code",
   "execution_count": 22,
   "id": "40d8aef3-c036-432e-8ad2-cd3bda4f1021",
   "metadata": {
    "jupyter": {
     "source_hidden": true
    }
   },
   "outputs": [],
   "source": [
    "# rho_central_initial = 1.0 * 10 ** 11\n",
    "# rho_central = rho_central_initial\n",
    "# rho_central_step = rho_central\n",
    "# rho_central_max = 1.0 * 10 ** 3 * rho_central\n",
    "\n",
    "# for i in range(3):\n",
    "#     while rho_central <= rho_central_max:\n",
    "    \n",
    "#         p_central = p_from_EoS(rho_central, gamma_NR, gamma_R, A_NR, A_R, epsilon_0)\n",
    "#         print(\"Reached this point\")\n",
    "#         m_central = M_from_r_and_rho(small_r, rho_central)\n",
    "    \n",
    "#         distance_from_center = np.arange(small_r, R_attempt, small_r)\n",
    "        \n",
    "#         solution = odeint(TOV,\n",
    "#                           t = distance_from_center,\n",
    "#                           y0 = [p_central, m_central],\n",
    "#                           tfirst = True,\n",
    "#                           args = (gamma_NR, gamma_R, A_NR, A_R, epsilon_0))\n",
    "    \n",
    "#         distance_from_center = (distance_from_center * u.cm).to(u.km)\n",
    "#         cumulative_mass = (solution[:, 1] * u.g).to(u.solMass)\n",
    "#         pressure = solution[:, 0]\n",
    "        \n",
    "#         # fig, [ax1, ax2] = plt.subplots(nrows = 1, ncols = 2, figsize = (1, 0.5))\n",
    "    \n",
    "#         # ax1.plot(distance_from_center, cumulative_mass);\n",
    "#         # ax2.plot(distance_from_center, pressure);\n",
    "    \n",
    "#         # Removing NaN and inf values from cumulative mass\n",
    "    \n",
    "#         cumulative_mass = cumulative_mass[~np.isnan(cumulative_mass)]\n",
    "#         cumulative_mass = cumulative_mass[~np.isinf(cumulative_mass)]\n",
    "        \n",
    "#         max_cumulative_mass = np.max(cumulative_mass)\n",
    "#         index = np.where(cumulative_mass == max_cumulative_mass)\n",
    "#         mass.append(max_cumulative_mass.value)\n",
    "#         radius.append(distance_from_center[index][-1].value)\n",
    "#         mass_density.append(rho_central)\n",
    "#         pressure_list.append(pressure[0])\n",
    "    \n",
    "#         rho_central += rho_central_step\n",
    "\n",
    "#     rho_central_step *= 10 ** 3\n",
    "#     rho_central_max *= 10 ** 3"
   ]
  },
  {
   "cell_type": "markdown",
   "id": "8de984fb-516c-49ba-a18c-03e809f26c67",
   "metadata": {},
   "source": [
    "## (X) Solving TOV: odeint() and solve_ivp()"
   ]
  },
  {
   "cell_type": "code",
   "execution_count": 23,
   "id": "e29b852e-9ec1-4ab4-b1e4-9d4a75a358fb",
   "metadata": {
    "jupyter": {
     "source_hidden": true
    }
   },
   "outputs": [],
   "source": [
    "# m_central = M_from_r_and_rho(small_r, rho_central)\n",
    "# Central pressure for arbitrary relativity EoS\n",
    "# p_central = p_from_EoS(rho_central, gamma_NR, gamma_R, A_NR, A_R, epsilon_0)\n",
    "\n",
    "# odeint() method:\n",
    "\n",
    "# distance_from_center = np.arange(small_r, R_attempt, small_r)\n",
    "\n",
    "# solution = odeint(TOV,\n",
    "#                   t = distance_from_center,\n",
    "#                   y0 = [p_central, m_central],\n",
    "#                   tfirst = True,\n",
    "#                   args = (gamma_NR, gamma_R, A_NR, A_R, epsilon_0))\n",
    "\n",
    "\n",
    "# solve_ivp() method:\n",
    "# solution = solve_ivp(TOV,\n",
    "#                      [small_r, R_attempt],\n",
    "#                      [p_central, m_central],\n",
    "#                      args = (gamma_NR, gamma_R, A_NR, A_R, epsilon_0))"
   ]
  },
  {
   "cell_type": "code",
   "execution_count": 24,
   "id": "3ab29fc5-92e6-4f11-a260-e93a526fbbcb",
   "metadata": {
    "jupyter": {
     "source_hidden": true
    }
   },
   "outputs": [],
   "source": [
    "# odeint() method:\n",
    "# distance_from_center = (distance_from_center * u.cm).to(u.km)\n",
    "\n",
    "\n",
    "# solve_ivp() method:\n",
    "# distance_from_center = (solution.t * u.cm).to(u.km)"
   ]
  },
  {
   "cell_type": "code",
   "execution_count": 25,
   "id": "f87741a6-41eb-412e-bc72-3b0a93c40555",
   "metadata": {
    "jupyter": {
     "source_hidden": true
    }
   },
   "outputs": [],
   "source": [
    "# odeint() method:\n",
    "# cumulative_mass = (solution[:, 1] * u.g).to(u.solMass)\n",
    "\n",
    "\n",
    "# solve_ivp() method:\n",
    "# cumulative_mass = (solution.y[1] * u.g).to(u.solMass)"
   ]
  },
  {
   "cell_type": "code",
   "execution_count": 26,
   "id": "bead0a73-4230-49da-9455-60c6ec7f376b",
   "metadata": {
    "jupyter": {
     "source_hidden": true
    }
   },
   "outputs": [],
   "source": [
    "# odeint() method:\n",
    "# pressure = solution[:, 0]\n",
    "\n",
    "\n",
    "# solve_ivp() method:\n",
    "# pressure = solution.y[0]"
   ]
  },
  {
   "cell_type": "code",
   "execution_count": 27,
   "id": "a08e6c45-178d-44cc-b70f-3685cacc5958",
   "metadata": {
    "jupyter": {
     "source_hidden": true
    }
   },
   "outputs": [],
   "source": [
    "# m_central = M_from_r_and_rho(small_r, rho_central)\n",
    "# p_central = p_from_EoS(rho_central[i], gamma_NR, gamma_R, A_NR, A_R, epsilon_0)\n",
    "\n",
    "    # distance_from_center = np.arange(small_r, R_attempt, small_r)\n",
    "    \n",
    "    # solution = odeint(TOV,\n",
    "    #                   t = distance_from_center,\n",
    "    #                   y0 = [p_central, m_central[i]],\n",
    "    #                   tfirst = True,\n",
    "    #                   args = (gamma_NR, gamma_R, A_NR, A_R, epsilon_0))\n",
    "    \n",
    "    # distance_from_center = (distance_from_center * u.cm).to(u.km)\n",
    "    # cumulative_mass = (solution[:, 1] * u.g).to(u.solMass)\n",
    "    # pressure = solution[:, 0]"
   ]
  },
  {
   "cell_type": "code",
   "execution_count": 28,
   "id": "2168a792-3f4c-4bd4-a286-870ec002ca10",
   "metadata": {
    "jupyter": {
     "source_hidden": true
    }
   },
   "outputs": [],
   "source": [
    "# This should be the only cell that is changed for different EoS\n",
    "\n",
    "# Non-relativisitc and relativistic EoS for non-interacting pure\n",
    "# neutron Fermi gas\n",
    "\n",
    "# gamma_NR = 5 / 3\n",
    "# gamma_R = 1\n",
    "# A_NR = 2.4216 # Found from Sanjay's paper\n",
    "# A_R = 2.8663 # Found from Sanjay's paper\n",
    "# epsilon_0 = 5.346 * 10 ** 36 # Found from Sanjay's paper"
   ]
  },
  {
   "cell_type": "markdown",
   "id": "d4897585-44d7-46fd-89d3-c8752b284d0c",
   "metadata": {},
   "source": [
    "## (X) Specifying the EoS (change this for different EoS)"
   ]
  },
  {
   "cell_type": "markdown",
   "id": "0b127b44-706d-41ce-ae9f-954758acd2ae",
   "metadata": {},
   "source": [
    "## (X) Functions to find numerical EoS arrays for Fermi gas given some mass density (in natural units)"
   ]
  },
  {
   "cell_type": "code",
   "execution_count": 29,
   "id": "3c2c9a85-ad93-421d-95ee-5f84bb1c4a2b",
   "metadata": {},
   "outputs": [],
   "source": [
    "# # Fermi momentum\n",
    "# def find_k_F(rho):\n",
    "#     result = (3 * pi ** 2 * rho / m_N) ** (1 / 3)\n",
    "#     return result\n",
    "\n",
    "# # Energy density epsilon\n",
    "# def find_epsilon(rho):\n",
    "#     k_F = find_k_F(rho).value\n",
    "#     integrand = lambda k: 1 / (2 * pi ** 2) * k ** 2 * np.sqrt(k ** 2 + m_N.value ** 2)\n",
    "#     integral, _ = quad(integrand, 0, k_F)\n",
    "#     result = g * integral * u.MeV ** 4\n",
    "#     return result\n",
    "\n",
    "# # Number density\n",
    "# def find_num_density(rho):\n",
    "#     k_F = find_k_F(rho).value\n",
    "#     integrand = lambda k: 1 / (2 * pi ** 2) * k ** 2\n",
    "#     integral, _ = quad(integrand, 0, k_F)\n",
    "#     result = g * integral * u.MeV ** 3\n",
    "#     return result\n",
    "\n",
    "# # Chemical potential\n",
    "# def find_chem_potential(rho):\n",
    "#     k_F = find_k_F(rho)\n",
    "#     result = np.sqrt(k_F ** 2 + m_N ** 2)\n",
    "#     return result\n",
    "\n",
    "# # Pressure\n",
    "# def find_pressure(rho):\n",
    "#     k_F = find_k_F(rho)\n",
    "#     epsilon = find_epsilon(rho)\n",
    "#     num_density = find_num_density(rho)\n",
    "#     chem_potential = find_chem_potential(rho)\n",
    "#     result = - epsilon + chem_potential * num_density\n",
    "#     return result"
   ]
  },
  {
   "cell_type": "markdown",
   "id": "a41a4eb8-d32f-4977-8dd8-f893099164e2",
   "metadata": {},
   "source": [
    "# Good code"
   ]
  },
  {
   "cell_type": "code",
   "execution_count": 30,
   "id": "05d19f39-8776-4f24-9ce8-12650163d337",
   "metadata": {},
   "outputs": [],
   "source": [
    "import numpy as np\n",
    "from scipy.integrate import solve_ivp, odeint, quad\n",
    "from astropy.constants import G, c\n",
    "from numpy import pi\n",
    "import astropy.units as u\n",
    "import matplotlib.pyplot as plt\n",
    "import sys\n",
    "import math\n",
    "np.set_printoptions(threshold=sys.maxsize)\n",
    "from scipy import optimize\n",
    "from sympy import symbols, diff"
   ]
  },
  {
   "cell_type": "code",
   "execution_count": 31,
   "id": "74f45514-ab81-46a2-8111-8d8f80b5d9a8",
   "metadata": {},
   "outputs": [
    {
     "name": "stdout",
     "output_type": "stream",
     "text": [
      "6.7199660587126e-45 1 / MeV2\n"
     ]
    }
   ],
   "source": [
    "# Using natural units\n",
    "# 197 MeV * fm = 1\n",
    "# 1 fm = 1 / (197 MeV)\n",
    "# 3e8 m = 1 s\n",
    "# 3e8 m / s = 1\n",
    "# 1 J = 1 kg * (m / s)^2\n",
    "# 1 J = 1 / 9e16 kg\n",
    "\n",
    "natural = [(u.MeV, u.fm ** (-1), lambda fm_inverse: 1 / 197 * fm_inverse, lambda MeV: 197 * MeV),\n",
    "           (u.m, u.s, lambda s: 1 / c.value * s, lambda m: c.value * m),\n",
    "           (u.kg, u.J, lambda J: c.value ** 2 * J, lambda kg: 1 / c.value ** 2 * kg),\n",
    "           (u.m / u.s, u.dimensionless_unscaled, lambda dimensionless: 1 / c.value * dimensionless, lambda v: c.value * v),\n",
    "           (u.fm, u.MeV ** (-1), lambda MeV_inverse: 1 / 197 * MeV_inverse, lambda fm: 197 * fm)\n",
    "          ]\n",
    "\n",
    "G = (G.value * (1 * u.m / u.s).to(u.dimensionless_unscaled, equivalencies = natural) ** 2 * (1 * u.m).to(u.fm).to(1 / u.MeV, equivalencies = natural) / (1 * u.kg).to(u.J, equivalencies = natural).to(u.MeV))\n",
    "print(G)\n",
    "G = G.value"
   ]
  },
  {
   "cell_type": "markdown",
   "id": "ee718fe8-194a-4b2c-9a25-b1bc7b1b5a80",
   "metadata": {},
   "source": [
    "### Setting constants"
   ]
  },
  {
   "cell_type": "code",
   "execution_count": 32,
   "id": "e2202f68-fa48-4cad-bf99-eaddbe38fcfb",
   "metadata": {},
   "outputs": [],
   "source": [
    "# Everything in natural units unless otherwise specified\n",
    "# r_small cannot be 0 b/c it would cause a singularity.\n",
    "\n",
    "small_r = (0.1 * u.km).to(u.fm).to(1 / u.MeV, equivalencies = natural).value\n",
    "m_N = 939.565 * u.MeV    # Natural units\n",
    "n_0 = 0.16 / (1 * u.fm).to(1 / u.MeV, equivalencies = natural) ** 3    # Nuclear saturation density\n",
    "\n",
    "# Setting nuclear parameters\n",
    "a = 13.0 * u.MeV\n",
    "alpha = 0.49\n",
    "b = 3.21 * u.MeV\n",
    "beta = 2.47\n",
    "\n",
    "# Setting transition energy densities for piece-wise EoS\n",
    "epsilon_c = 150 * u.MeV / (1 * u.fm).to(1 / u.MeV, equivalencies = natural)**3    # Critical energy density\n",
    "epsilon_delta = 650 * u.MeV / (1 * u.fm).to(1 / u.MeV, equivalencies = natural)**3    # Upper turning point"
   ]
  },
  {
   "cell_type": "markdown",
   "id": "f3994abc-9453-45c4-900d-2a6dcc613850",
   "metadata": {},
   "source": [
    "### Setting central cumulative mass initial condition"
   ]
  },
  {
   "cell_type": "code",
   "execution_count": 33,
   "id": "6256271a-246b-4a0a-ae69-6f3235c800ce",
   "metadata": {},
   "outputs": [],
   "source": [
    "def M_from_r_and_rho(r, rho):\n",
    "    result = 4 * pi * rho * r ** 3 / 3\n",
    "    return result"
   ]
  },
  {
   "cell_type": "markdown",
   "id": "4e04d6cd-b418-4496-97a0-0910b627ab4a",
   "metadata": {},
   "source": [
    "### Horizontal axis scale"
   ]
  },
  {
   "cell_type": "code",
   "execution_count": 34,
   "id": "74ccf20c-bef9-4a07-8197-f862ee35cf20",
   "metadata": {},
   "outputs": [],
   "source": [
    "# Everything in natural units unless otherwise specified\n",
    "\n",
    "R_attempt = (100 * u.km).to(u.fm).to(1 / u.MeV, equivalencies = natural).value"
   ]
  },
  {
   "cell_type": "markdown",
   "id": "ad156571-647b-4425-8c1f-6d6dc9b56c9e",
   "metadata": {},
   "source": [
    "## Functions to find numerical EoS arrays for Fermi gas and nuclear strong interaction given some number density (in natural units)"
   ]
  },
  {
   "cell_type": "code",
   "execution_count": 35,
   "id": "a85628f9-c820-4a62-a516-e994ca465b3e",
   "metadata": {},
   "outputs": [],
   "source": [
    "# Non-rest-mass energy E\n",
    "def find_E(num_density):\n",
    "    result = a * (num_density / n_0) ** alpha + b * (num_density / n_0) ** beta\n",
    "    return result\n",
    "\n",
    "# Energy density epsilon\n",
    "def find_epsilon(num_density):\n",
    "    E = find_E(num_density)\n",
    "    result = num_density * (E + m_N)\n",
    "    return result\n",
    "\n",
    "# Chemical potential\n",
    "def find_chem_potential(num_density):\n",
    "    result = a * (alpha + 1) * (num_density / n_0) ** alpha + b * (beta + 1) * (num_density / n_0) ** beta + m_N\n",
    "    return result\n",
    "\n",
    "# Pressure\n",
    "def find_pressure(num_density):\n",
    "    epsilon = find_epsilon(num_density)\n",
    "    chem_potential = find_chem_potential(num_density)\n",
    "    num_density_c = num_density_from_energy_density(epsilon_c.value) * u.MeV ** 3\n",
    "    chem_potential_c = find_chem_potential(num_density_c)\n",
    "    pressure_c = - epsilon_c + chem_potential_c * num_density_c\n",
    "\n",
    "    # Piece-wise extremal EoS\n",
    "    if epsilon.value < epsilon_c.value:\n",
    "        result = - epsilon + chem_potential * num_density    # Gandolfi nuclear EoS\n",
    "    else:\n",
    "        if epsilon.value < epsilon_delta.value:\n",
    "            result = pressure_c    # Flat EoS\n",
    "        else:\n",
    "            result = pressure_c + (epsilon - epsilon_delta)    # EoS slope = 1\n",
    "    \n",
    "    return result"
   ]
  },
  {
   "cell_type": "code",
   "execution_count": 36,
   "id": "7385c8d9-c140-4074-9358-8c10f63104eb",
   "metadata": {},
   "outputs": [],
   "source": [
    "# Finding number density as a function of energy density\n",
    "\n",
    "def energy_density_minus_target_epsilon(n, target_epsilon):\n",
    "    n = n * u.MeV ** 3\n",
    "    result = find_epsilon(n).value - target_epsilon\n",
    "    return result\n",
    "\n",
    "def num_density_from_energy_density(epsilon):\n",
    "    b = 10 ** 12\n",
    "    if energy_density_minus_target_epsilon(0, epsilon) > 0:\n",
    "        print(f\"find_epsilon is {find_epsilon(0 * u.MeV ** 3)} and epsilon is {epsilon}.\")\n",
    "        return\n",
    "    result = optimize.brentq(energy_density_minus_target_epsilon,\n",
    "                             0,\n",
    "                             b,\n",
    "                             args = (epsilon,))\n",
    "    return result"
   ]
  },
  {
   "cell_type": "code",
   "execution_count": 37,
   "id": "a55a62fa-b5fe-4c7e-a4b0-1fb921324047",
   "metadata": {},
   "outputs": [],
   "source": [
    "epsilon = []\n",
    "pressure = []\n",
    "\n",
    "n = np.logspace(-0.3, 1, num = 200) * n_0\n",
    "\n",
    "for num_density in n:\n",
    "    epsilon_in_MeV = find_epsilon(num_density).value\n",
    "    epsilon_in_MeV_and_fm = epsilon_in_MeV * (1 * u.MeV).to(1 / u.fm, equivalencies = natural) ** 3\n",
    "    epsilon.append(epsilon_in_MeV_and_fm.value)\n",
    "    pressure_in_MeV = find_pressure(num_density).value\n",
    "    pressure_in_MeV_and_fm = pressure_in_MeV * (1 * u.MeV).to(1 / u.fm, equivalencies = natural) ** 3\n",
    "    pressure.append(pressure_in_MeV_and_fm.value)"
   ]
  },
  {
   "cell_type": "code",
   "execution_count": 38,
   "id": "0f34c00d-d829-498a-932e-54d83df19009",
   "metadata": {},
   "outputs": [
    {
     "data": {
      "image/png": "[encoded data removed]",
      "text/plain": [
       "<Figure size 800x800 with 1 Axes>"
      ]
     },
     "metadata": {},
     "output_type": "display_data"
    }
   ],
   "source": [
    "fig, ax = plt.subplots(figsize = (8, 8))\n",
    "\n",
    "epsilon_c_MeV_and_fm = epsilon_c * (1 * u.MeV).to(1 / u.fm, equivalencies = natural) ** 3\n",
    "epsilon_delta_MeV_and_fm = epsilon_delta * (1 * u.MeV).to(1 / u.fm, equivalencies = natural) ** 3\n",
    "ax.set_title(\"Equation of state\", fontsize = 15);\n",
    "ax.set_xlabel(r\"$\\mathrm{Energy\\,density}\\,\\epsilon\\,\\left(\\mathrm{MeV/\\,fm^3}\\right)$\", fontsize = 15);\n",
    "ax.set_ylabel(r\"$\\mathrm{Pressure\\,\\left(MeV/\\,fm^3\\right)}$\", fontsize = 15);\n",
    "ax.set_xlim(0, epsilon_delta_MeV_and_fm.value + 25);\n",
    "ax.set_ylim(0, 25);\n",
    "ax.plot(epsilon, pressure, label = \"EoS\");\n",
    "ax.axvline(x = epsilon_c_MeV_and_fm.value, color = \"red\", linewidth = 0.5, label = r\"$\\epsilon_{c}=150\\,\\mathrm{MeV/\\,fm^3}$\");\n",
    "ax.axvline(x = epsilon_delta_MeV_and_fm.value, color = \"green\", linewidth = 0.5, label = r\"$\\epsilon_{\\Delta}=650\\,\\mathrm{MeV/\\,fm^3}$\");\n",
    "ax.legend(fontsize = 15);\n",
    "\n",
    "plt.savefig(\"Piecewise_EoS.pdf\", bbox_inches = \"tight\");\n",
    "plt.savefig(\"Piecewise_EoS.jpg\", bbox_inches = \"tight\");"
   ]
  },
  {
   "cell_type": "markdown",
   "id": "978fd0f7-6052-48e3-88de-76fdd236cb42",
   "metadata": {},
   "source": [
    "## Generalized TOV and polytropic EoS (this works for NR pure neutron Fermi gas)"
   ]
  },
  {
   "cell_type": "code",
   "execution_count": 39,
   "id": "e984e37b-8156-4c59-99f1-5f3145974816",
   "metadata": {},
   "outputs": [],
   "source": [
    "# r = distance from center\n",
    "# m = cumulative mass enclosed within distance r from center\n",
    "# p = pressure at distance r from center\n",
    "# epsilon = energy density at distance r from center\n",
    "\n",
    "# TOV and EoS coded to be compatible w/ cgs units, but can't explicitly give units in code b/c solve_ivp() throws errors\n",
    "# Will input A and gamma and epsilon_0 using args paramter for odeint()\n",
    "\n",
    "# TOV generalized for arbitrary relativity\n",
    "# A_NR = EoS coefficient for non-relativistic case\n",
    "# gamma_NR = EoS polytrope exponent for non-relativistic case\n",
    "# A_R = EoS coefficient for relativistic case\n",
    "# gamma_R = EoS polytrope exponent for relativistic case\n",
    "# epsilon_0 = additional EoS coefficient for arbitrary relativity\n",
    "\n",
    "# EoS returns energy density\n",
    "\n",
    "def EoS(p, A_NR, A_R, gamma_NR, gamma_R, epsilon_0):\n",
    "    result = A_NR * p ** (1 / gamma_NR) * epsilon_0 ** (1 - 1 / gamma_NR) + A_R * p ** (1 / gamma_R) * epsilon_0 ** (1 - 1 / gamma_R)\n",
    "    return result\n",
    "\n",
    "def TOV(r, p_and_m):\n",
    "    p = p_and_m[0]\n",
    "    m = p_and_m[1]\n",
    "    if num_density_from_pressure(p, r) is None:\n",
    "        return [0, 0]\n",
    "    n = num_density_from_pressure(p, r) * u.MeV ** 3\n",
    "    epsilon = find_epsilon(n).value\n",
    "    print(f\"number density is {n}\")\n",
    "    rel_factors = (1 + p / epsilon) * (1 + 4 * pi * r ** 3 * p / m) * (1 - 2 * G * m / r) ** (-1)\n",
    "    p_result = - G * epsilon * m / r ** 2 * rel_factors\n",
    "    m_result = 4 * pi * r ** 2 * epsilon\n",
    "    return [p_result, m_result]"
   ]
  },
  {
   "cell_type": "code",
   "execution_count": 40,
   "id": "147529a1-8ebc-4e11-86a7-6036853a29d2",
   "metadata": {},
   "outputs": [],
   "source": [
    "# Finding number density as a function of pressure\n",
    "\n",
    "def pressure_minus_target_p(n, target_p):\n",
    "    n = n * u.MeV ** 3\n",
    "    result = find_pressure(n).value - target_p\n",
    "    return result\n",
    "\n",
    "def num_density_from_pressure(p, r):\n",
    "    b = 10 ** 8\n",
    "    if pressure_minus_target_p(0, p) > 0:\n",
    "        print(f\"Distance from center is {(r / u.MeV).to(u.fm, equivalencies = natural).to(u.km)}, w/ find_pressure {find_pressure(0 * u.MeV ** 3)} and p {p}.\")\n",
    "        return\n",
    "    result = optimize.brentq(pressure_minus_target_p,\n",
    "                             0,\n",
    "                             b,\n",
    "                             args = (p,))\n",
    "    return result"
   ]
  },
  {
   "cell_type": "markdown",
   "id": "39f77127-f415-4c2a-bf5f-e73f047f7c6e",
   "metadata": {},
   "source": [
    "### TOV solver function"
   ]
  },
  {
   "cell_type": "code",
   "execution_count": 41,
   "id": "4ba3d460-96f2-4006-bb26-311cded0dc29",
   "metadata": {},
   "outputs": [],
   "source": [
    "# Keep this for all EoS\n",
    "\n",
    "def solve_TOV(n_central, p_central):\n",
    "    epsilon_central = find_epsilon(n_central * u.MeV ** 3).value\n",
    "    m_central = M_from_r_and_rho(small_r, epsilon_central)\n",
    "    def reached_surface(t, y):\n",
    "        return y[0]\n",
    "\n",
    "    reached_surface.terminal = True\n",
    "    reached_surface.direction = -1\n",
    "    \n",
    "    solution = solve_ivp(TOV,\n",
    "                         [small_r, R_attempt],\n",
    "                         [p_central, m_central],\n",
    "                         events = reached_surface\n",
    "                        )\n",
    "\n",
    "    distance_from_center = (solution.t / u.MeV).to(u.fm, equivalencies = natural).to(u.km)\n",
    "    print(f\"Mass is {(solution.y[1][-1] * u. MeV):.2e}.\")\n",
    "    cumulative_mass = (solution.y[1] * u.MeV).to(u.J).to(u.kg, equivalencies = natural).to(u.solMass)\n",
    "    pressure = solution.y[0]\n",
    "\n",
    "    result = distance_from_center, cumulative_mass, pressure\n",
    "    return result"
   ]
  },
  {
   "cell_type": "markdown",
   "id": "d1a2e8f3-d1b9-48b9-812a-a894558ae468",
   "metadata": {},
   "source": [
    "### Solving TOV example"
   ]
  },
  {
   "cell_type": "code",
   "execution_count": 42,
   "id": "c19b4639-b6c0-411b-a9ec-e49a8780d3fe",
   "metadata": {},
   "outputs": [
    {
     "name": "stdout",
     "output_type": "stream",
     "text": [
      "1.223e+06 MeV3\n",
      "p_central is 6742676748.502879\n",
      "number density is 8562817.760000004 MeV3\n",
      "number density is 8562817.760000004 MeV3\n",
      "number density is 8562817.760000004 MeV3\n",
      "number density is 8562817.760000004 MeV3\n",
      "number density is 8562817.760000004 MeV3\n",
      "number density is 8562817.760000004 MeV3\n",
      "number density is 8562817.760000004 MeV3\n",
      "number density is 8562817.760000004 MeV3\n",
      "number density is 8562817.760000004 MeV3\n",
      "number density is 8562817.760000004 MeV3\n",
      "number density is 8562817.760000004 MeV3\n",
      "number density is 8562817.760000004 MeV3\n",
      "number density is 8562817.760000004 MeV3\n",
      "number density is 8562817.760000004 MeV3\n",
      "number density is 8562817.760000004 MeV3\n",
      "number density is 8562817.760000004 MeV3\n",
      "number density is 8562817.760000004 MeV3\n",
      "number density is 8562817.760000004 MeV3\n",
      "number density is 8562817.760000002 MeV3\n",
      "number density is 8562817.760000002 MeV3\n",
      "number density is 8562817.760000002 MeV3\n",
      "number density is 8562817.760000002 MeV3\n",
      "number density is 8562817.76 MeV3\n",
      "number density is 8562817.760000002 MeV3\n",
      "number density is 8562817.76 MeV3\n",
      "number density is 8562817.76 MeV3\n",
      "number density is 8562817.759999998 MeV3\n",
      "number density is 8562817.759999994 MeV3\n",
      "number density is 8562817.759999981 MeV3\n",
      "number density is 8562817.759999981 MeV3\n",
      "number density is 8562817.759999977 MeV3\n",
      "number density is 8562817.759999977 MeV3\n",
      "number density is 8562817.759999935 MeV3\n",
      "number density is 8562817.75999991 MeV3\n",
      "number density is 8562817.759999799 MeV3\n",
      "number density is 8562817.75999978 MeV3\n",
      "number density is 8562817.759999754 MeV3\n",
      "number density is 8562817.759999754 MeV3\n",
      "number density is 8562817.759999307 MeV3\n",
      "number density is 8562817.759999083 MeV3\n",
      "number density is 8562817.759997966 MeV3\n",
      "number density is 8562817.759997768 MeV3\n",
      "number density is 8562817.75999752 MeV3\n"
     ]
    },
    {
     "ename": "KeyboardInterrupt",
     "evalue": "",
     "output_type": "error",
     "traceback": [
      "\u001b[0;31m---------------------------------------------------------------------------\u001b[0m",
      "\u001b[0;31mKeyboardInterrupt\u001b[0m                         Traceback (most recent call last)",
      "Cell \u001b[0;32mIn[42], line 6\u001b[0m\n\u001b[1;32m      4\u001b[0m p_central \u001b[38;5;241m=\u001b[39m find_pressure(n_central)\u001b[38;5;241m.\u001b[39mvalue\n\u001b[1;32m      5\u001b[0m \u001b[38;5;28mprint\u001b[39m(\u001b[38;5;124mf\u001b[39m\u001b[38;5;124m\"\u001b[39m\u001b[38;5;124mp_central is \u001b[39m\u001b[38;5;132;01m{\u001b[39;00mp_central\u001b[38;5;132;01m}\u001b[39;00m\u001b[38;5;124m\"\u001b[39m)\n\u001b[0;32m----> 6\u001b[0m distance_from_center, cumulative_mass, pressure \u001b[38;5;241m=\u001b[39m \u001b[43msolve_TOV\u001b[49m\u001b[43m(\u001b[49m\u001b[43mn_central\u001b[49m\u001b[38;5;241;43m.\u001b[39;49m\u001b[43mvalue\u001b[49m\u001b[43m,\u001b[49m\u001b[43m \u001b[49m\u001b[43mp_central\u001b[49m\u001b[43m)\u001b[49m\n",
      "Cell \u001b[0;32mIn[41], line 12\u001b[0m, in \u001b[0;36msolve_TOV\u001b[0;34m(n_central, p_central)\u001b[0m\n\u001b[1;32m      9\u001b[0m reached_surface\u001b[38;5;241m.\u001b[39mterminal \u001b[38;5;241m=\u001b[39m \u001b[38;5;28;01mTrue\u001b[39;00m\n\u001b[1;32m     10\u001b[0m reached_surface\u001b[38;5;241m.\u001b[39mdirection \u001b[38;5;241m=\u001b[39m \u001b[38;5;241m-\u001b[39m\u001b[38;5;241m1\u001b[39m\n\u001b[0;32m---> 12\u001b[0m solution \u001b[38;5;241m=\u001b[39m \u001b[43msolve_ivp\u001b[49m\u001b[43m(\u001b[49m\u001b[43mTOV\u001b[49m\u001b[43m,\u001b[49m\n\u001b[1;32m     13\u001b[0m \u001b[43m                     \u001b[49m\u001b[43m[\u001b[49m\u001b[43msmall_r\u001b[49m\u001b[43m,\u001b[49m\u001b[43m \u001b[49m\u001b[43mR_attempt\u001b[49m\u001b[43m]\u001b[49m\u001b[43m,\u001b[49m\n\u001b[1;32m     14\u001b[0m \u001b[43m                     \u001b[49m\u001b[43m[\u001b[49m\u001b[43mp_central\u001b[49m\u001b[43m,\u001b[49m\u001b[43m \u001b[49m\u001b[43mm_central\u001b[49m\u001b[43m]\u001b[49m\u001b[43m,\u001b[49m\n\u001b[1;32m     15\u001b[0m \u001b[43m                     \u001b[49m\u001b[43mevents\u001b[49m\u001b[43m \u001b[49m\u001b[38;5;241;43m=\u001b[39;49m\u001b[43m \u001b[49m\u001b[43mreached_surface\u001b[49m\n\u001b[1;32m     16\u001b[0m \u001b[43m                    \u001b[49m\u001b[43m)\u001b[49m\n\u001b[1;32m     18\u001b[0m distance_from_center \u001b[38;5;241m=\u001b[39m (solution\u001b[38;5;241m.\u001b[39mt \u001b[38;5;241m/\u001b[39m u\u001b[38;5;241m.\u001b[39mMeV)\u001b[38;5;241m.\u001b[39mto(u\u001b[38;5;241m.\u001b[39mfm, equivalencies \u001b[38;5;241m=\u001b[39m natural)\u001b[38;5;241m.\u001b[39mto(u\u001b[38;5;241m.\u001b[39mkm)\n\u001b[1;32m     19\u001b[0m \u001b[38;5;28mprint\u001b[39m(\u001b[38;5;124mf\u001b[39m\u001b[38;5;124m\"\u001b[39m\u001b[38;5;124mMass is \u001b[39m\u001b[38;5;132;01m{\u001b[39;00m(solution\u001b[38;5;241m.\u001b[39my[\u001b[38;5;241m1\u001b[39m][\u001b[38;5;241m-\u001b[39m\u001b[38;5;241m1\u001b[39m]\u001b[38;5;250m \u001b[39m\u001b[38;5;241m*\u001b[39m\u001b[38;5;250m \u001b[39mu\u001b[38;5;241m.\u001b[39m\u001b[38;5;250m \u001b[39mMeV)\u001b[38;5;132;01m:\u001b[39;00m\u001b[38;5;124m.2e\u001b[39m\u001b[38;5;132;01m}\u001b[39;00m\u001b[38;5;124m.\u001b[39m\u001b[38;5;124m\"\u001b[39m)\n",
      "File \u001b[0;32m/opt/conda/lib/python3.10/site-packages/scipy/integrate/_ivp/ivp.py:602\u001b[0m, in \u001b[0;36msolve_ivp\u001b[0;34m(fun, t_span, y0, method, t_eval, dense_output, events, vectorized, args, **options)\u001b[0m\n\u001b[1;32m    600\u001b[0m status \u001b[38;5;241m=\u001b[39m \u001b[38;5;28;01mNone\u001b[39;00m\n\u001b[1;32m    601\u001b[0m \u001b[38;5;28;01mwhile\u001b[39;00m status \u001b[38;5;129;01mis\u001b[39;00m \u001b[38;5;28;01mNone\u001b[39;00m:\n\u001b[0;32m--> 602\u001b[0m     message \u001b[38;5;241m=\u001b[39m \u001b[43msolver\u001b[49m\u001b[38;5;241;43m.\u001b[39;49m\u001b[43mstep\u001b[49m\u001b[43m(\u001b[49m\u001b[43m)\u001b[49m\n\u001b[1;32m    604\u001b[0m     \u001b[38;5;28;01mif\u001b[39;00m solver\u001b[38;5;241m.\u001b[39mstatus \u001b[38;5;241m==\u001b[39m \u001b[38;5;124m'\u001b[39m\u001b[38;5;124mfinished\u001b[39m\u001b[38;5;124m'\u001b[39m:\n\u001b[1;32m    605\u001b[0m         status \u001b[38;5;241m=\u001b[39m \u001b[38;5;241m0\u001b[39m\n",
      "File \u001b[0;32m/opt/conda/lib/python3.10/site-packages/scipy/integrate/_ivp/base.py:197\u001b[0m, in \u001b[0;36mOdeSolver.step\u001b[0;34m(self)\u001b[0m\n\u001b[1;32m    195\u001b[0m \u001b[38;5;28;01melse\u001b[39;00m:\n\u001b[1;32m    196\u001b[0m     t \u001b[38;5;241m=\u001b[39m \u001b[38;5;28mself\u001b[39m\u001b[38;5;241m.\u001b[39mt\n\u001b[0;32m--> 197\u001b[0m     success, message \u001b[38;5;241m=\u001b[39m \u001b[38;5;28;43mself\u001b[39;49m\u001b[38;5;241;43m.\u001b[39;49m\u001b[43m_step_impl\u001b[49m\u001b[43m(\u001b[49m\u001b[43m)\u001b[49m\n\u001b[1;32m    199\u001b[0m     \u001b[38;5;28;01mif\u001b[39;00m \u001b[38;5;129;01mnot\u001b[39;00m success:\n\u001b[1;32m    200\u001b[0m         \u001b[38;5;28mself\u001b[39m\u001b[38;5;241m.\u001b[39mstatus \u001b[38;5;241m=\u001b[39m \u001b[38;5;124m'\u001b[39m\u001b[38;5;124mfailed\u001b[39m\u001b[38;5;124m'\u001b[39m\n",
      "File \u001b[0;32m/opt/conda/lib/python3.10/site-packages/scipy/integrate/_ivp/rk.py:144\u001b[0m, in \u001b[0;36mRungeKutta._step_impl\u001b[0;34m(self)\u001b[0m\n\u001b[1;32m    141\u001b[0m h \u001b[38;5;241m=\u001b[39m t_new \u001b[38;5;241m-\u001b[39m t\n\u001b[1;32m    142\u001b[0m h_abs \u001b[38;5;241m=\u001b[39m np\u001b[38;5;241m.\u001b[39mabs(h)\n\u001b[0;32m--> 144\u001b[0m y_new, f_new \u001b[38;5;241m=\u001b[39m \u001b[43mrk_step\u001b[49m\u001b[43m(\u001b[49m\u001b[38;5;28;43mself\u001b[39;49m\u001b[38;5;241;43m.\u001b[39;49m\u001b[43mfun\u001b[49m\u001b[43m,\u001b[49m\u001b[43m \u001b[49m\u001b[43mt\u001b[49m\u001b[43m,\u001b[49m\u001b[43m \u001b[49m\u001b[43my\u001b[49m\u001b[43m,\u001b[49m\u001b[43m \u001b[49m\u001b[38;5;28;43mself\u001b[39;49m\u001b[38;5;241;43m.\u001b[39;49m\u001b[43mf\u001b[49m\u001b[43m,\u001b[49m\u001b[43m \u001b[49m\u001b[43mh\u001b[49m\u001b[43m,\u001b[49m\u001b[43m \u001b[49m\u001b[38;5;28;43mself\u001b[39;49m\u001b[38;5;241;43m.\u001b[39;49m\u001b[43mA\u001b[49m\u001b[43m,\u001b[49m\n\u001b[1;32m    145\u001b[0m \u001b[43m                       \u001b[49m\u001b[38;5;28;43mself\u001b[39;49m\u001b[38;5;241;43m.\u001b[39;49m\u001b[43mB\u001b[49m\u001b[43m,\u001b[49m\u001b[43m \u001b[49m\u001b[38;5;28;43mself\u001b[39;49m\u001b[38;5;241;43m.\u001b[39;49m\u001b[43mC\u001b[49m\u001b[43m,\u001b[49m\u001b[43m \u001b[49m\u001b[38;5;28;43mself\u001b[39;49m\u001b[38;5;241;43m.\u001b[39;49m\u001b[43mK\u001b[49m\u001b[43m)\u001b[49m\n\u001b[1;32m    146\u001b[0m scale \u001b[38;5;241m=\u001b[39m atol \u001b[38;5;241m+\u001b[39m np\u001b[38;5;241m.\u001b[39mmaximum(np\u001b[38;5;241m.\u001b[39mabs(y), np\u001b[38;5;241m.\u001b[39mabs(y_new)) \u001b[38;5;241m*\u001b[39m rtol\n\u001b[1;32m    147\u001b[0m error_norm \u001b[38;5;241m=\u001b[39m \u001b[38;5;28mself\u001b[39m\u001b[38;5;241m.\u001b[39m_estimate_error_norm(\u001b[38;5;28mself\u001b[39m\u001b[38;5;241m.\u001b[39mK, h, scale)\n",
      "File \u001b[0;32m/opt/conda/lib/python3.10/site-packages/scipy/integrate/_ivp/rk.py:67\u001b[0m, in \u001b[0;36mrk_step\u001b[0;34m(fun, t, y, f, h, A, B, C, K)\u001b[0m\n\u001b[1;32m     64\u001b[0m     K[s] \u001b[38;5;241m=\u001b[39m fun(t \u001b[38;5;241m+\u001b[39m c \u001b[38;5;241m*\u001b[39m h, y \u001b[38;5;241m+\u001b[39m dy)\n\u001b[1;32m     66\u001b[0m y_new \u001b[38;5;241m=\u001b[39m y \u001b[38;5;241m+\u001b[39m h \u001b[38;5;241m*\u001b[39m np\u001b[38;5;241m.\u001b[39mdot(K[:\u001b[38;5;241m-\u001b[39m\u001b[38;5;241m1\u001b[39m]\u001b[38;5;241m.\u001b[39mT, B)\n\u001b[0;32m---> 67\u001b[0m f_new \u001b[38;5;241m=\u001b[39m \u001b[43mfun\u001b[49m\u001b[43m(\u001b[49m\u001b[43mt\u001b[49m\u001b[43m \u001b[49m\u001b[38;5;241;43m+\u001b[39;49m\u001b[43m \u001b[49m\u001b[43mh\u001b[49m\u001b[43m,\u001b[49m\u001b[43m \u001b[49m\u001b[43my_new\u001b[49m\u001b[43m)\u001b[49m\n\u001b[1;32m     69\u001b[0m K[\u001b[38;5;241m-\u001b[39m\u001b[38;5;241m1\u001b[39m] \u001b[38;5;241m=\u001b[39m f_new\n\u001b[1;32m     71\u001b[0m \u001b[38;5;28;01mreturn\u001b[39;00m y_new, f_new\n",
      "File \u001b[0;32m/opt/conda/lib/python3.10/site-packages/scipy/integrate/_ivp/base.py:154\u001b[0m, in \u001b[0;36mOdeSolver.__init__.<locals>.fun\u001b[0;34m(t, y)\u001b[0m\n\u001b[1;32m    152\u001b[0m \u001b[38;5;28;01mdef\u001b[39;00m \u001b[38;5;21mfun\u001b[39m(t, y):\n\u001b[1;32m    153\u001b[0m     \u001b[38;5;28mself\u001b[39m\u001b[38;5;241m.\u001b[39mnfev \u001b[38;5;241m+\u001b[39m\u001b[38;5;241m=\u001b[39m \u001b[38;5;241m1\u001b[39m\n\u001b[0;32m--> 154\u001b[0m     \u001b[38;5;28;01mreturn\u001b[39;00m \u001b[38;5;28;43mself\u001b[39;49m\u001b[38;5;241;43m.\u001b[39;49m\u001b[43mfun_single\u001b[49m\u001b[43m(\u001b[49m\u001b[43mt\u001b[49m\u001b[43m,\u001b[49m\u001b[43m \u001b[49m\u001b[43my\u001b[49m\u001b[43m)\u001b[49m\n",
      "File \u001b[0;32m/opt/conda/lib/python3.10/site-packages/scipy/integrate/_ivp/base.py:23\u001b[0m, in \u001b[0;36mcheck_arguments.<locals>.fun_wrapped\u001b[0;34m(t, y)\u001b[0m\n\u001b[1;32m     22\u001b[0m \u001b[38;5;28;01mdef\u001b[39;00m \u001b[38;5;21mfun_wrapped\u001b[39m(t, y):\n\u001b[0;32m---> 23\u001b[0m     \u001b[38;5;28;01mreturn\u001b[39;00m np\u001b[38;5;241m.\u001b[39masarray(\u001b[43mfun\u001b[49m\u001b[43m(\u001b[49m\u001b[43mt\u001b[49m\u001b[43m,\u001b[49m\u001b[43m \u001b[49m\u001b[43my\u001b[49m\u001b[43m)\u001b[49m, dtype\u001b[38;5;241m=\u001b[39mdtype)\n",
      "Cell \u001b[0;32mIn[39], line 25\u001b[0m, in \u001b[0;36mTOV\u001b[0;34m(r, p_and_m)\u001b[0m\n\u001b[1;32m     23\u001b[0m p \u001b[38;5;241m=\u001b[39m p_and_m[\u001b[38;5;241m0\u001b[39m]\n\u001b[1;32m     24\u001b[0m m \u001b[38;5;241m=\u001b[39m p_and_m[\u001b[38;5;241m1\u001b[39m]\n\u001b[0;32m---> 25\u001b[0m \u001b[38;5;28;01mif\u001b[39;00m \u001b[43mnum_density_from_pressure\u001b[49m\u001b[43m(\u001b[49m\u001b[43mp\u001b[49m\u001b[43m,\u001b[49m\u001b[43m \u001b[49m\u001b[43mr\u001b[49m\u001b[43m)\u001b[49m \u001b[38;5;129;01mis\u001b[39;00m \u001b[38;5;28;01mNone\u001b[39;00m:\n\u001b[1;32m     26\u001b[0m     \u001b[38;5;28;01mreturn\u001b[39;00m [\u001b[38;5;241m0\u001b[39m, \u001b[38;5;241m0\u001b[39m]\n\u001b[1;32m     27\u001b[0m n \u001b[38;5;241m=\u001b[39m num_density_from_pressure(p, r) \u001b[38;5;241m*\u001b[39m u\u001b[38;5;241m.\u001b[39mMeV \u001b[38;5;241m*\u001b[39m\u001b[38;5;241m*\u001b[39m \u001b[38;5;241m3\u001b[39m\n",
      "Cell \u001b[0;32mIn[40], line 13\u001b[0m, in \u001b[0;36mnum_density_from_pressure\u001b[0;34m(p, r)\u001b[0m\n\u001b[1;32m     11\u001b[0m     \u001b[38;5;28mprint\u001b[39m(\u001b[38;5;124mf\u001b[39m\u001b[38;5;124m\"\u001b[39m\u001b[38;5;124mDistance from center is \u001b[39m\u001b[38;5;132;01m{\u001b[39;00m(r\u001b[38;5;250m \u001b[39m\u001b[38;5;241m/\u001b[39m\u001b[38;5;250m \u001b[39mu\u001b[38;5;241m.\u001b[39mMeV)\u001b[38;5;241m.\u001b[39mto(u\u001b[38;5;241m.\u001b[39mfm,\u001b[38;5;250m \u001b[39mequivalencies\u001b[38;5;250m \u001b[39m\u001b[38;5;241m=\u001b[39m\u001b[38;5;250m \u001b[39mnatural)\u001b[38;5;241m.\u001b[39mto(u\u001b[38;5;241m.\u001b[39mkm)\u001b[38;5;132;01m}\u001b[39;00m\u001b[38;5;124m, w/ find_pressure \u001b[39m\u001b[38;5;132;01m{\u001b[39;00mfind_pressure(\u001b[38;5;241m0\u001b[39m\u001b[38;5;250m \u001b[39m\u001b[38;5;241m*\u001b[39m\u001b[38;5;250m \u001b[39mu\u001b[38;5;241m.\u001b[39mMeV\u001b[38;5;250m \u001b[39m\u001b[38;5;241m*\u001b[39m\u001b[38;5;241m*\u001b[39m\u001b[38;5;250m \u001b[39m\u001b[38;5;241m3\u001b[39m)\u001b[38;5;132;01m}\u001b[39;00m\u001b[38;5;124m and p \u001b[39m\u001b[38;5;132;01m{\u001b[39;00mp\u001b[38;5;132;01m}\u001b[39;00m\u001b[38;5;124m.\u001b[39m\u001b[38;5;124m\"\u001b[39m)\n\u001b[1;32m     12\u001b[0m     \u001b[38;5;28;01mreturn\u001b[39;00m\n\u001b[0;32m---> 13\u001b[0m result \u001b[38;5;241m=\u001b[39m \u001b[43moptimize\u001b[49m\u001b[38;5;241;43m.\u001b[39;49m\u001b[43mbrentq\u001b[49m\u001b[43m(\u001b[49m\u001b[43mpressure_minus_target_p\u001b[49m\u001b[43m,\u001b[49m\n\u001b[1;32m     14\u001b[0m \u001b[43m                         \u001b[49m\u001b[38;5;241;43m0\u001b[39;49m\u001b[43m,\u001b[49m\n\u001b[1;32m     15\u001b[0m \u001b[43m                         \u001b[49m\u001b[43mb\u001b[49m\u001b[43m,\u001b[49m\n\u001b[1;32m     16\u001b[0m \u001b[43m                         \u001b[49m\u001b[43margs\u001b[49m\u001b[43m \u001b[49m\u001b[38;5;241;43m=\u001b[39;49m\u001b[43m \u001b[49m\u001b[43m(\u001b[49m\u001b[43mp\u001b[49m\u001b[43m,\u001b[49m\u001b[43m)\u001b[49m\u001b[43m)\u001b[49m\n\u001b[1;32m     17\u001b[0m \u001b[38;5;28;01mreturn\u001b[39;00m result\n",
      "File \u001b[0;32m/opt/conda/lib/python3.10/site-packages/scipy/optimize/_zeros_py.py:802\u001b[0m, in \u001b[0;36mbrentq\u001b[0;34m(f, a, b, args, xtol, rtol, maxiter, full_output, disp)\u001b[0m\n\u001b[1;32m    800\u001b[0m     \u001b[38;5;28;01mraise\u001b[39;00m \u001b[38;5;167;01mValueError\u001b[39;00m(\u001b[38;5;124mf\u001b[39m\u001b[38;5;124m\"\u001b[39m\u001b[38;5;124mrtol too small (\u001b[39m\u001b[38;5;132;01m{\u001b[39;00mrtol\u001b[38;5;132;01m:\u001b[39;00m\u001b[38;5;124mg\u001b[39m\u001b[38;5;132;01m}\u001b[39;00m\u001b[38;5;124m < \u001b[39m\u001b[38;5;132;01m{\u001b[39;00m_rtol\u001b[38;5;132;01m:\u001b[39;00m\u001b[38;5;124mg\u001b[39m\u001b[38;5;132;01m}\u001b[39;00m\u001b[38;5;124m)\u001b[39m\u001b[38;5;124m\"\u001b[39m)\n\u001b[1;32m    801\u001b[0m f \u001b[38;5;241m=\u001b[39m _wrap_nan_raise(f)\n\u001b[0;32m--> 802\u001b[0m r \u001b[38;5;241m=\u001b[39m \u001b[43m_zeros\u001b[49m\u001b[38;5;241;43m.\u001b[39;49m\u001b[43m_brentq\u001b[49m\u001b[43m(\u001b[49m\u001b[43mf\u001b[49m\u001b[43m,\u001b[49m\u001b[43m \u001b[49m\u001b[43ma\u001b[49m\u001b[43m,\u001b[49m\u001b[43m \u001b[49m\u001b[43mb\u001b[49m\u001b[43m,\u001b[49m\u001b[43m \u001b[49m\u001b[43mxtol\u001b[49m\u001b[43m,\u001b[49m\u001b[43m \u001b[49m\u001b[43mrtol\u001b[49m\u001b[43m,\u001b[49m\u001b[43m \u001b[49m\u001b[43mmaxiter\u001b[49m\u001b[43m,\u001b[49m\u001b[43m \u001b[49m\u001b[43margs\u001b[49m\u001b[43m,\u001b[49m\u001b[43m \u001b[49m\u001b[43mfull_output\u001b[49m\u001b[43m,\u001b[49m\u001b[43m \u001b[49m\u001b[43mdisp\u001b[49m\u001b[43m)\u001b[49m\n\u001b[1;32m    803\u001b[0m \u001b[38;5;28;01mreturn\u001b[39;00m results_c(full_output, r)\n",
      "File \u001b[0;32m/opt/conda/lib/python3.10/site-packages/scipy/optimize/_zeros_py.py:90\u001b[0m, in \u001b[0;36m_wrap_nan_raise.<locals>.f_raise\u001b[0;34m(x, *args)\u001b[0m\n\u001b[1;32m     89\u001b[0m \u001b[38;5;28;01mdef\u001b[39;00m \u001b[38;5;21mf_raise\u001b[39m(x, \u001b[38;5;241m*\u001b[39margs):\n\u001b[0;32m---> 90\u001b[0m     fx \u001b[38;5;241m=\u001b[39m \u001b[43mf\u001b[49m\u001b[43m(\u001b[49m\u001b[43mx\u001b[49m\u001b[43m,\u001b[49m\u001b[43m \u001b[49m\u001b[38;5;241;43m*\u001b[39;49m\u001b[43margs\u001b[49m\u001b[43m)\u001b[49m\n\u001b[1;32m     91\u001b[0m     f_raise\u001b[38;5;241m.\u001b[39m_function_calls \u001b[38;5;241m+\u001b[39m\u001b[38;5;241m=\u001b[39m \u001b[38;5;241m1\u001b[39m\n\u001b[1;32m     92\u001b[0m     \u001b[38;5;28;01mif\u001b[39;00m np\u001b[38;5;241m.\u001b[39misnan(fx):\n",
      "Cell \u001b[0;32mIn[40], line 5\u001b[0m, in \u001b[0;36mpressure_minus_target_p\u001b[0;34m(n, target_p)\u001b[0m\n\u001b[1;32m      3\u001b[0m \u001b[38;5;28;01mdef\u001b[39;00m \u001b[38;5;21mpressure_minus_target_p\u001b[39m(n, target_p):\n\u001b[1;32m      4\u001b[0m     n \u001b[38;5;241m=\u001b[39m n \u001b[38;5;241m*\u001b[39m u\u001b[38;5;241m.\u001b[39mMeV \u001b[38;5;241m*\u001b[39m\u001b[38;5;241m*\u001b[39m \u001b[38;5;241m3\u001b[39m\n\u001b[0;32m----> 5\u001b[0m     result \u001b[38;5;241m=\u001b[39m \u001b[43mfind_pressure\u001b[49m\u001b[43m(\u001b[49m\u001b[43mn\u001b[49m\u001b[43m)\u001b[49m\u001b[38;5;241m.\u001b[39mvalue \u001b[38;5;241m-\u001b[39m target_p\n\u001b[1;32m      6\u001b[0m     \u001b[38;5;28;01mreturn\u001b[39;00m result\n",
      "Cell \u001b[0;32mIn[35], line 21\u001b[0m, in \u001b[0;36mfind_pressure\u001b[0;34m(num_density)\u001b[0m\n\u001b[1;32m     19\u001b[0m epsilon \u001b[38;5;241m=\u001b[39m find_epsilon(num_density)\n\u001b[1;32m     20\u001b[0m chem_potential \u001b[38;5;241m=\u001b[39m find_chem_potential(num_density)\n\u001b[0;32m---> 21\u001b[0m num_density_c \u001b[38;5;241m=\u001b[39m \u001b[43mnum_density_from_energy_density\u001b[49m\u001b[43m(\u001b[49m\u001b[43mepsilon_c\u001b[49m\u001b[38;5;241;43m.\u001b[39;49m\u001b[43mvalue\u001b[49m\u001b[43m)\u001b[49m \u001b[38;5;241m*\u001b[39m u\u001b[38;5;241m.\u001b[39mMeV \u001b[38;5;241m*\u001b[39m\u001b[38;5;241m*\u001b[39m \u001b[38;5;241m3\u001b[39m\n\u001b[1;32m     22\u001b[0m chem_potential_c \u001b[38;5;241m=\u001b[39m find_chem_potential(num_density_c)\n\u001b[1;32m     23\u001b[0m pressure_c \u001b[38;5;241m=\u001b[39m \u001b[38;5;241m-\u001b[39m epsilon_c \u001b[38;5;241m+\u001b[39m chem_potential_c \u001b[38;5;241m*\u001b[39m num_density_c\n",
      "Cell \u001b[0;32mIn[36], line 10\u001b[0m, in \u001b[0;36mnum_density_from_energy_density\u001b[0;34m(epsilon)\u001b[0m\n\u001b[1;32m      8\u001b[0m \u001b[38;5;28;01mdef\u001b[39;00m \u001b[38;5;21mnum_density_from_energy_density\u001b[39m(epsilon):\n\u001b[1;32m      9\u001b[0m     b \u001b[38;5;241m=\u001b[39m \u001b[38;5;241m10\u001b[39m \u001b[38;5;241m*\u001b[39m\u001b[38;5;241m*\u001b[39m \u001b[38;5;241m12\u001b[39m\n\u001b[0;32m---> 10\u001b[0m     \u001b[38;5;28;01mif\u001b[39;00m \u001b[43menergy_density_minus_target_epsilon\u001b[49m\u001b[43m(\u001b[49m\u001b[38;5;241;43m0\u001b[39;49m\u001b[43m,\u001b[49m\u001b[43m \u001b[49m\u001b[43mepsilon\u001b[49m\u001b[43m)\u001b[49m \u001b[38;5;241m>\u001b[39m \u001b[38;5;241m0\u001b[39m:\n\u001b[1;32m     11\u001b[0m         \u001b[38;5;28mprint\u001b[39m(\u001b[38;5;124mf\u001b[39m\u001b[38;5;124m\"\u001b[39m\u001b[38;5;124mfind_epsilon is \u001b[39m\u001b[38;5;132;01m{\u001b[39;00mfind_epsilon(\u001b[38;5;241m0\u001b[39m\u001b[38;5;250m \u001b[39m\u001b[38;5;241m*\u001b[39m\u001b[38;5;250m \u001b[39mu\u001b[38;5;241m.\u001b[39mMeV\u001b[38;5;250m \u001b[39m\u001b[38;5;241m*\u001b[39m\u001b[38;5;241m*\u001b[39m\u001b[38;5;250m \u001b[39m\u001b[38;5;241m3\u001b[39m)\u001b[38;5;132;01m}\u001b[39;00m\u001b[38;5;124m and epsilon is \u001b[39m\u001b[38;5;132;01m{\u001b[39;00mepsilon\u001b[38;5;132;01m}\u001b[39;00m\u001b[38;5;124m.\u001b[39m\u001b[38;5;124m\"\u001b[39m)\n\u001b[1;32m     12\u001b[0m         \u001b[38;5;28;01mreturn\u001b[39;00m\n",
      "Cell \u001b[0;32mIn[36], line 5\u001b[0m, in \u001b[0;36menergy_density_minus_target_epsilon\u001b[0;34m(n, target_epsilon)\u001b[0m\n\u001b[1;32m      3\u001b[0m \u001b[38;5;28;01mdef\u001b[39;00m \u001b[38;5;21menergy_density_minus_target_epsilon\u001b[39m(n, target_epsilon):\n\u001b[1;32m      4\u001b[0m     n \u001b[38;5;241m=\u001b[39m n \u001b[38;5;241m*\u001b[39m u\u001b[38;5;241m.\u001b[39mMeV \u001b[38;5;241m*\u001b[39m\u001b[38;5;241m*\u001b[39m \u001b[38;5;241m3\u001b[39m\n\u001b[0;32m----> 5\u001b[0m     result \u001b[38;5;241m=\u001b[39m \u001b[43mfind_epsilon\u001b[49m\u001b[43m(\u001b[49m\u001b[43mn\u001b[49m\u001b[43m)\u001b[49m\u001b[38;5;241m.\u001b[39mvalue \u001b[38;5;241m-\u001b[39m target_epsilon\n\u001b[1;32m      6\u001b[0m     \u001b[38;5;28;01mreturn\u001b[39;00m result\n",
      "Cell \u001b[0;32mIn[35], line 8\u001b[0m, in \u001b[0;36mfind_epsilon\u001b[0;34m(num_density)\u001b[0m\n\u001b[1;32m      7\u001b[0m \u001b[38;5;28;01mdef\u001b[39;00m \u001b[38;5;21mfind_epsilon\u001b[39m(num_density):\n\u001b[0;32m----> 8\u001b[0m     E \u001b[38;5;241m=\u001b[39m \u001b[43mfind_E\u001b[49m\u001b[43m(\u001b[49m\u001b[43mnum_density\u001b[49m\u001b[43m)\u001b[49m\n\u001b[1;32m      9\u001b[0m     result \u001b[38;5;241m=\u001b[39m num_density \u001b[38;5;241m*\u001b[39m (E \u001b[38;5;241m+\u001b[39m m_N)\n\u001b[1;32m     10\u001b[0m     \u001b[38;5;28;01mreturn\u001b[39;00m result\n",
      "Cell \u001b[0;32mIn[35], line 3\u001b[0m, in \u001b[0;36mfind_E\u001b[0;34m(num_density)\u001b[0m\n\u001b[1;32m      2\u001b[0m \u001b[38;5;28;01mdef\u001b[39;00m \u001b[38;5;21mfind_E\u001b[39m(num_density):\n\u001b[0;32m----> 3\u001b[0m     result \u001b[38;5;241m=\u001b[39m a \u001b[38;5;241m*\u001b[39m (\u001b[43mnum_density\u001b[49m\u001b[43m \u001b[49m\u001b[38;5;241;43m/\u001b[39;49m\u001b[43m \u001b[49m\u001b[43mn_0\u001b[49m) \u001b[38;5;241m*\u001b[39m\u001b[38;5;241m*\u001b[39m alpha \u001b[38;5;241m+\u001b[39m b \u001b[38;5;241m*\u001b[39m (num_density \u001b[38;5;241m/\u001b[39m n_0) \u001b[38;5;241m*\u001b[39m\u001b[38;5;241m*\u001b[39m beta\n\u001b[1;32m      4\u001b[0m     \u001b[38;5;28;01mreturn\u001b[39;00m result\n",
      "File \u001b[0;32m/opt/conda/lib/python3.10/site-packages/astropy/units/quantity.py:1244\u001b[0m, in \u001b[0;36mQuantity.__truediv__\u001b[0;34m(self, other)\u001b[0m\n\u001b[1;32m   1241\u001b[0m     \u001b[38;5;28;01mexcept\u001b[39;00m UnitsError:  \u001b[38;5;66;03m# let other try to deal with it\u001b[39;00m\n\u001b[1;32m   1242\u001b[0m         \u001b[38;5;28;01mreturn\u001b[39;00m \u001b[38;5;28mNotImplemented\u001b[39m\n\u001b[0;32m-> 1244\u001b[0m \u001b[38;5;28;01mreturn\u001b[39;00m \u001b[38;5;28;43msuper\u001b[39;49m\u001b[43m(\u001b[49m\u001b[43m)\u001b[49m\u001b[38;5;241;43m.\u001b[39;49m\u001b[38;5;21;43m__truediv__\u001b[39;49m\u001b[43m(\u001b[49m\u001b[43mother\u001b[49m\u001b[43m)\u001b[49m\n",
      "File \u001b[0;32m/opt/conda/lib/python3.10/site-packages/astropy/units/quantity.py:636\u001b[0m, in \u001b[0;36mQuantity.__array_ufunc__\u001b[0;34m(self, function, method, *inputs, **kwargs)\u001b[0m\n\u001b[1;32m    631\u001b[0m \u001b[38;5;66;03m# Determine required conversion functions -- to bring the unit of the\u001b[39;00m\n\u001b[1;32m    632\u001b[0m \u001b[38;5;66;03m# input to that expected (e.g., radian for np.sin), or to get\u001b[39;00m\n\u001b[1;32m    633\u001b[0m \u001b[38;5;66;03m# consistent units between two inputs (e.g., in np.add) --\u001b[39;00m\n\u001b[1;32m    634\u001b[0m \u001b[38;5;66;03m# and the unit of the result (or tuple of units for nout > 1).\u001b[39;00m\n\u001b[1;32m    635\u001b[0m \u001b[38;5;28;01mtry\u001b[39;00m:\n\u001b[0;32m--> 636\u001b[0m     converters, unit \u001b[38;5;241m=\u001b[39m \u001b[43mconverters_and_unit\u001b[49m\u001b[43m(\u001b[49m\u001b[43mfunction\u001b[49m\u001b[43m,\u001b[49m\u001b[43m \u001b[49m\u001b[43mmethod\u001b[49m\u001b[43m,\u001b[49m\u001b[43m \u001b[49m\u001b[38;5;241;43m*\u001b[39;49m\u001b[43minputs\u001b[49m\u001b[43m)\u001b[49m\n\u001b[1;32m    638\u001b[0m     out \u001b[38;5;241m=\u001b[39m kwargs\u001b[38;5;241m.\u001b[39mget(\u001b[38;5;124m\"\u001b[39m\u001b[38;5;124mout\u001b[39m\u001b[38;5;124m\"\u001b[39m, \u001b[38;5;28;01mNone\u001b[39;00m)\n\u001b[1;32m    639\u001b[0m     \u001b[38;5;66;03m# Avoid loop back by turning any Quantity output into array views.\u001b[39;00m\n",
      "File \u001b[0;32m/opt/conda/lib/python3.10/site-packages/astropy/units/quantity_helper/converters.py:181\u001b[0m, in \u001b[0;36mconverters_and_unit\u001b[0;34m(function, method, *args)\u001b[0m\n\u001b[1;32m    178\u001b[0m units \u001b[38;5;241m=\u001b[39m [\u001b[38;5;28mgetattr\u001b[39m(arg, \u001b[38;5;124m\"\u001b[39m\u001b[38;5;124munit\u001b[39m\u001b[38;5;124m\"\u001b[39m, \u001b[38;5;28;01mNone\u001b[39;00m) \u001b[38;5;28;01mfor\u001b[39;00m arg \u001b[38;5;129;01min\u001b[39;00m args]\n\u001b[1;32m    180\u001b[0m \u001b[38;5;66;03m# Determine possible conversion functions, and the result unit.\u001b[39;00m\n\u001b[0;32m--> 181\u001b[0m converters, result_unit \u001b[38;5;241m=\u001b[39m \u001b[43mufunc_helper\u001b[49m\u001b[43m(\u001b[49m\u001b[43mfunction\u001b[49m\u001b[43m,\u001b[49m\u001b[43m \u001b[49m\u001b[38;5;241;43m*\u001b[39;49m\u001b[43munits\u001b[49m\u001b[43m)\u001b[49m\n\u001b[1;32m    183\u001b[0m \u001b[38;5;28;01mif\u001b[39;00m \u001b[38;5;28many\u001b[39m(converter \u001b[38;5;129;01mis\u001b[39;00m \u001b[38;5;28;01mFalse\u001b[39;00m \u001b[38;5;28;01mfor\u001b[39;00m converter \u001b[38;5;129;01min\u001b[39;00m converters):\n\u001b[1;32m    184\u001b[0m     \u001b[38;5;66;03m# for multi-argument ufuncs with a quantity and a non-quantity,\u001b[39;00m\n\u001b[1;32m    185\u001b[0m     \u001b[38;5;66;03m# the quantity normally needs to be dimensionless, *except*\u001b[39;00m\n\u001b[0;32m   (...)\u001b[0m\n\u001b[1;32m    188\u001b[0m     \u001b[38;5;66;03m# can just have the unit of the quantity\u001b[39;00m\n\u001b[1;32m    189\u001b[0m     \u001b[38;5;66;03m# (this allows, e.g., `q > 0.` independent of unit)\u001b[39;00m\n\u001b[1;32m    190\u001b[0m     \u001b[38;5;28;01mtry\u001b[39;00m:\n\u001b[1;32m    191\u001b[0m         \u001b[38;5;66;03m# Don't fold this loop in the test above: this rare case\u001b[39;00m\n\u001b[1;32m    192\u001b[0m         \u001b[38;5;66;03m# should not make the common case slower.\u001b[39;00m\n",
      "File \u001b[0;32m/opt/conda/lib/python3.10/site-packages/astropy/units/quantity_helper/helpers.py:224\u001b[0m, in \u001b[0;36mhelper_division\u001b[0;34m(f, unit1, unit2)\u001b[0m\n\u001b[1;32m    223\u001b[0m \u001b[38;5;28;01mdef\u001b[39;00m \u001b[38;5;21mhelper_division\u001b[39m(f, unit1, unit2):\n\u001b[0;32m--> 224\u001b[0m     \u001b[38;5;28;01mreturn\u001b[39;00m [\u001b[38;5;28;01mNone\u001b[39;00m, \u001b[38;5;28;01mNone\u001b[39;00m], \u001b[43m_d\u001b[49m\u001b[43m(\u001b[49m\u001b[43munit1\u001b[49m\u001b[43m)\u001b[49m\u001b[43m \u001b[49m\u001b[38;5;241;43m/\u001b[39;49m\u001b[43m \u001b[49m\u001b[43m_d\u001b[49m\u001b[43m(\u001b[49m\u001b[43munit2\u001b[49m\u001b[43m)\u001b[49m\n",
      "File \u001b[0;32m/opt/conda/lib/python3.10/site-packages/astropy/units/core.py:839\u001b[0m, in \u001b[0;36mUnitBase.__truediv__\u001b[0;34m(self, m)\u001b[0m\n\u001b[1;32m    837\u001b[0m     \u001b[38;5;28;01mif\u001b[39;00m m\u001b[38;5;241m.\u001b[39mis_unity():\n\u001b[1;32m    838\u001b[0m         \u001b[38;5;28;01mreturn\u001b[39;00m \u001b[38;5;28mself\u001b[39m\n\u001b[0;32m--> 839\u001b[0m     \u001b[38;5;28;01mreturn\u001b[39;00m \u001b[43mCompositeUnit\u001b[49m\u001b[43m(\u001b[49m\u001b[38;5;241;43m1\u001b[39;49m\u001b[43m,\u001b[49m\u001b[43m \u001b[49m\u001b[43m[\u001b[49m\u001b[38;5;28;43mself\u001b[39;49m\u001b[43m,\u001b[49m\u001b[43m \u001b[49m\u001b[43mm\u001b[49m\u001b[43m]\u001b[49m\u001b[43m,\u001b[49m\u001b[43m \u001b[49m\u001b[43m[\u001b[49m\u001b[38;5;241;43m1\u001b[39;49m\u001b[43m,\u001b[49m\u001b[43m \u001b[49m\u001b[38;5;241;43m-\u001b[39;49m\u001b[38;5;241;43m1\u001b[39;49m\u001b[43m]\u001b[49m\u001b[43m,\u001b[49m\u001b[43m \u001b[49m\u001b[43m_error_check\u001b[49m\u001b[38;5;241;43m=\u001b[39;49m\u001b[38;5;28;43;01mFalse\u001b[39;49;00m\u001b[43m)\u001b[49m\n\u001b[1;32m    841\u001b[0m \u001b[38;5;28;01mtry\u001b[39;00m:\n\u001b[1;32m    842\u001b[0m     \u001b[38;5;66;03m# Cannot handle this as Unit, re-try as Quantity\u001b[39;00m\n\u001b[1;32m    843\u001b[0m     \u001b[38;5;28;01mfrom\u001b[39;00m \u001b[38;5;21;01m.\u001b[39;00m\u001b[38;5;21;01mquantity\u001b[39;00m \u001b[38;5;28;01mimport\u001b[39;00m Quantity\n",
      "File \u001b[0;32m/opt/conda/lib/python3.10/site-packages/astropy/units/core.py:2349\u001b[0m, in \u001b[0;36mCompositeUnit.__init__\u001b[0;34m(self, scale, bases, powers, decompose, decompose_bases, _error_check)\u001b[0m\n\u001b[1;32m   2347\u001b[0m \u001b[38;5;28mself\u001b[39m\u001b[38;5;241m.\u001b[39m_bases \u001b[38;5;241m=\u001b[39m bases\n\u001b[1;32m   2348\u001b[0m \u001b[38;5;28mself\u001b[39m\u001b[38;5;241m.\u001b[39m_powers \u001b[38;5;241m=\u001b[39m powers\n\u001b[0;32m-> 2349\u001b[0m \u001b[38;5;28;43mself\u001b[39;49m\u001b[38;5;241;43m.\u001b[39;49m\u001b[43m_expand_and_gather\u001b[49m\u001b[43m(\u001b[49m\u001b[43mdecompose\u001b[49m\u001b[38;5;241;43m=\u001b[39;49m\u001b[43mdecompose\u001b[49m\u001b[43m,\u001b[49m\u001b[43m \u001b[49m\u001b[43mbases\u001b[49m\u001b[38;5;241;43m=\u001b[39;49m\u001b[43mdecompose_bases\u001b[49m\u001b[43m)\u001b[49m\n",
      "File \u001b[0;32m/opt/conda/lib/python3.10/site-packages/astropy/units/core.py:2411\u001b[0m, in \u001b[0;36mCompositeUnit._expand_and_gather\u001b[0;34m(self, decompose, bases)\u001b[0m\n\u001b[1;32m   2409\u001b[0m     \u001b[38;5;28;01mfor\u001b[39;00m b_sub, p_sub \u001b[38;5;129;01min\u001b[39;00m \u001b[38;5;28mzip\u001b[39m(b\u001b[38;5;241m.\u001b[39m_bases, b\u001b[38;5;241m.\u001b[39m_powers):\n\u001b[1;32m   2410\u001b[0m         a, b \u001b[38;5;241m=\u001b[39m resolve_fractions(p_sub, p)\n\u001b[0;32m-> 2411\u001b[0m         scale \u001b[38;5;241m=\u001b[39m \u001b[43madd_unit\u001b[49m\u001b[43m(\u001b[49m\u001b[43mb_sub\u001b[49m\u001b[43m,\u001b[49m\u001b[43m \u001b[49m\u001b[43ma\u001b[49m\u001b[43m \u001b[49m\u001b[38;5;241;43m*\u001b[39;49m\u001b[43m \u001b[49m\u001b[43mb\u001b[49m\u001b[43m,\u001b[49m\u001b[43m \u001b[49m\u001b[43mscale\u001b[49m\u001b[43m)\u001b[49m\n\u001b[1;32m   2412\u001b[0m \u001b[38;5;28;01melse\u001b[39;00m:\n\u001b[1;32m   2413\u001b[0m     scale \u001b[38;5;241m=\u001b[39m add_unit(b, p, scale)\n",
      "File \u001b[0;32m/opt/conda/lib/python3.10/site-packages/astropy/units/core.py:2393\u001b[0m, in \u001b[0;36mCompositeUnit._expand_and_gather.<locals>.add_unit\u001b[0;34m(unit, power, scale)\u001b[0m\n\u001b[1;32m   2390\u001b[0m             unit \u001b[38;5;241m=\u001b[39m base\n\u001b[1;32m   2391\u001b[0m             \u001b[38;5;28;01mbreak\u001b[39;00m\n\u001b[0;32m-> 2393\u001b[0m \u001b[38;5;28;01mif\u001b[39;00m \u001b[43munit\u001b[49m\u001b[43m \u001b[49m\u001b[38;5;129;43;01min\u001b[39;49;00m\u001b[43m \u001b[49m\u001b[43mnew_parts\u001b[49m:\n\u001b[1;32m   2394\u001b[0m     a, b \u001b[38;5;241m=\u001b[39m resolve_fractions(new_parts[unit], power)\n\u001b[1;32m   2395\u001b[0m     new_parts[unit] \u001b[38;5;241m=\u001b[39m a \u001b[38;5;241m+\u001b[39m b\n",
      "File \u001b[0;32m/opt/conda/lib/python3.10/site-packages/astropy/units/core.py:2249\u001b[0m, in \u001b[0;36mUnit.__hash__\u001b[0;34m(self)\u001b[0m\n\u001b[1;32m   2248\u001b[0m \u001b[38;5;28;01mdef\u001b[39;00m \u001b[38;5;21m__hash__\u001b[39m(\u001b[38;5;28mself\u001b[39m):\n\u001b[0;32m-> 2249\u001b[0m     \u001b[38;5;28;01mif\u001b[39;00m \u001b[38;5;28mself\u001b[39m\u001b[38;5;241m.\u001b[39m_hash \u001b[38;5;129;01mis\u001b[39;00m \u001b[38;5;28;01mNone\u001b[39;00m:\n\u001b[1;32m   2250\u001b[0m         \u001b[38;5;28mself\u001b[39m\u001b[38;5;241m.\u001b[39m_hash \u001b[38;5;241m=\u001b[39m \u001b[38;5;28mhash\u001b[39m((\u001b[38;5;28mself\u001b[39m\u001b[38;5;241m.\u001b[39mname, \u001b[38;5;28mself\u001b[39m\u001b[38;5;241m.\u001b[39m_represents))\n\u001b[1;32m   2251\u001b[0m     \u001b[38;5;28;01mreturn\u001b[39;00m \u001b[38;5;28mself\u001b[39m\u001b[38;5;241m.\u001b[39m_hash\n",
      "\u001b[0;31mKeyboardInterrupt\u001b[0m: "
     ]
    }
   ],
   "source": [
    "# Nuclear saturation number density is 0.16 fm^(-3)\n",
    "n_central = 7 * n_0\n",
    "print(f\"{n_0:.3e}\")\n",
    "p_central = find_pressure(n_central).value\n",
    "print(f\"p_central is {p_central}\")\n",
    "distance_from_center, cumulative_mass, pressure = solve_TOV(n_central.value, p_central)"
   ]
  },
  {
   "cell_type": "code",
   "execution_count": null,
   "id": "a4da0560-1ce6-4dbb-bd25-29c2a535c13c",
   "metadata": {},
   "outputs": [],
   "source": [
    "fig, [ax1, ax2] = plt.subplots(nrows = 1, ncols = 2, figsize = (16, 8))\n",
    "\n",
    "ax1.set_title(\"Cumulative mass vs distance from center\", fontsize = 18);\n",
    "ax1.set_xlabel(\"Distance from center (km)\", fontsize = 18);\n",
    "ax1.set_ylabel(r\"Cumulative mass ($\\mathrm{M_{\\odot}}$)\", fontsize = 18);\n",
    "# ax1.set_xlim(0, 20);\n",
    "# ax1.set_ylim(0, 0.6);\n",
    "ax1.plot(distance_from_center, cumulative_mass);\n",
    "ax2.set_title(\"Pressure vs distance from center\", fontsize = 18);\n",
    "ax2.set_xlabel(\"Distance from center (km)\", fontsize = 18);\n",
    "ax2.set_ylabel(r\"Pressure $\\left(\\mathrm{MeV/\\,fm^3}\\right)$\", fontsize = 18);\n",
    "# ax2.set_xlim(0, 20);\n",
    "ax2.plot(distance_from_center, pressure);"
   ]
  },
  {
   "cell_type": "code",
   "execution_count": null,
   "id": "77d3c880-f6d5-46f9-b27d-e7153c67a2d2",
   "metadata": {},
   "outputs": [],
   "source": [
    "print(f\"Mass is {np.max(cumulative_mass):.2f}.\")"
   ]
  },
  {
   "cell_type": "markdown",
   "id": "d69c7fd1-f41f-4052-be5d-3accbae91d10",
   "metadata": {},
   "source": [
    "## Making mass-radius plot"
   ]
  },
  {
   "cell_type": "code",
   "execution_count": null,
   "id": "5356b176-2431-42f1-a306-2364f4261296",
   "metadata": {},
   "outputs": [],
   "source": [
    "mass = []\n",
    "radius = []\n",
    "pressure_list = []\n",
    "\n",
    "# Nuclear saturation number density is 0.16 fm^(-3)\n",
    "n_central = np.logspace(-0.3, 1, num = 50) * n_0\n",
    "\n",
    "for num_density in n_central:\n",
    "    p_central = find_pressure(num_density).value\n",
    "    distance_from_center, cumulative_mass, pressure = solve_TOV(num_density.value, p_central)\n",
    "    print(\"Solved TOV\")\n",
    "\n",
    "    # Removing NaN and inf values from cumulative mass\n",
    "    \n",
    "    cumulative_mass = cumulative_mass[~np.isnan(cumulative_mass)]\n",
    "    cumulative_mass = cumulative_mass[~np.isinf(cumulative_mass)]\n",
    "        \n",
    "    mass.append(cumulative_mass[-1].value)\n",
    "    radius.append(distance_from_center[-1].value)\n",
    "    pressure_list.append(pressure[0])"
   ]
  },
  {
   "cell_type": "code",
   "execution_count": null,
   "id": "3de15859-45fe-4131-b2e1-b26b079c530a",
   "metadata": {},
   "outputs": [],
   "source": [
    "mass = mass * u.solMass\n",
    "radius = radius * u.km\n",
    "print(mass, radius)"
   ]
  },
  {
   "cell_type": "code",
   "execution_count": null,
   "id": "c8cf0d17-aedd-44df-884c-2763d78145a7",
   "metadata": {},
   "outputs": [],
   "source": [
    "# modified_radius = radius[(mass.value < 10) & (radius.value < 100)]\n",
    "# modified_mass = mass[(mass.value < 10) & (radius.value < 100)]\n",
    "\n",
    "# print(modified_mass, modified_radius)"
   ]
  },
  {
   "cell_type": "code",
   "execution_count": null,
   "id": "82a91057-2f2c-4ad9-8530-e1ebfa30d7e7",
   "metadata": {},
   "outputs": [],
   "source": [
    "fig, ax = plt.subplots(figsize = (8, 8))\n",
    "ax.set_title(r\"NS mass vs radius - piecewise EoS, $\\epsilon_{\\Delta}=650\\,\\mathrm{\\frac{MeV}{fm^{3}}}$\", fontsize = 15);\n",
    "ax.set_xlabel(\"Radius (km)\", fontsize = 15);\n",
    "ax.set_ylabel(r\"Mass ($\\mathrm{M_{\\odot}}$)\", fontsize = 15);\n",
    "# ax2.set_ylim(0, 1);\n",
    "# ax2.set_xlim(0, 25);\n",
    "# ax.set_ylim(0.3, 0.8);\n",
    "# ax1.set_ylim(-0.25 * 10 ** 303, 0.01 * 10 ** 304)\n",
    "# ax1.plot(np.log(mass_density.value), np.log(pressure_list), \"o\");\n",
    "ax.plot(radius, mass, \"--o\");\n",
    "\n",
    "plt.savefig(\"piecewise_mass_radius_plot_max_mass_2.jpg\", bbox_inches = \"tight\");\n",
    "plt.savefig(\"piecewise_mass_radius_plot_max_mass_2.pdf\", bbox_inches = \"tight\");"
   ]
  },
  {
   "cell_type": "code",
   "execution_count": null,
   "id": "1ac91998-f33a-4027-91ea-84de13504915",
   "metadata": {},
   "outputs": [],
   "source": [
    "index = np.where(mass == np.max(mass))\n",
    "print(f\"Maximum mass is {np.max(mass)} and radius is {radius[index]}.\")"
   ]
  }
 ],
 "metadata": {
  "kernelspec": {
   "display_name": "Python 3 (ipykernel)",
   "language": "python",
   "name": "python3"
  },
  "language_info": {
   "codemirror_mode": {
    "name": "ipython",
    "version": 3
   },
   "file_extension": ".py",
   "mimetype": "text/x-python",
   "name": "python",
   "nbconvert_exporter": "python",
   "pygments_lexer": "ipython3",
   "version": "3.10.13"
  }
 },
 "nbformat": 4,
 "nbformat_minor": 5
}
