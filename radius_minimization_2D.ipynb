{
 "cells": [
  {
   "cell_type": "markdown",
   "id": "04da24ec-01de-4902-b8c0-7100f7613a76",
   "metadata": {},
   "source": [
    "# Minimizing the radius of an extremal EoS -- varying $\\epsilon_{\\Delta}$ and $c_{s,\\,\\mathrm{upper}}$"
   ]
  },
  {
   "cell_type": "code",
   "execution_count": 1,
   "id": "22d21f7a-204e-4123-8c14-bedb11e61442",
   "metadata": {},
   "outputs": [],
   "source": [
    "# For measuring runtime\n",
    "import time\n",
    "start_time = time.time()"
   ]
  },
  {
   "cell_type": "code",
   "execution_count": 2,
   "id": "05d19f39-8776-4f24-9ce8-12650163d337",
   "metadata": {},
   "outputs": [],
   "source": [
    "import numpy as np\n",
    "from scipy.integrate import solve_ivp, odeint, quad\n",
    "from astropy.constants import G, c\n",
    "from numpy import pi\n",
    "import astropy.units as u\n",
    "import matplotlib.pyplot as plt\n",
    "import sys\n",
    "import math\n",
    "np.set_printoptions(threshold=sys.maxsize)\n",
    "from scipy import optimize\n",
    "from sympy import symbols, diff\n",
    "import csv"
   ]
  },
  {
   "cell_type": "code",
   "execution_count": 3,
   "id": "74f45514-ab81-46a2-8111-8d8f80b5d9a8",
   "metadata": {},
   "outputs": [],
   "source": [
    "# Using natural units\n",
    "# 197 MeV * fm = 1\n",
    "# 1 fm = 1 / (197 MeV)\n",
    "# 3e8 m = 1 s\n",
    "# 3e8 m / s = 1\n",
    "# 1 J = 1 kg * (m / s)^2\n",
    "# 1 J = 1 / 9e16 kg\n",
    "\n",
    "natural = [(u.MeV, u.fm ** (-1), lambda fm_inverse: 1 / 197 * fm_inverse, lambda MeV: 197 * MeV),\n",
    "           (u.m, u.s, lambda s: 1 / c.value * s, lambda m: c.value * m),\n",
    "           (u.kg, u.J, lambda J: c.value ** 2 * J, lambda kg: 1 / c.value ** 2 * kg),\n",
    "           (u.m / u.s, u.dimensionless_unscaled, lambda dimensionless: 1 / c.value * dimensionless, lambda v: c.value * v),\n",
    "           (u.fm, u.MeV ** (-1), lambda MeV_inverse: 1 / 197 * MeV_inverse, lambda fm: 197 * fm)\n",
    "          ]\n",
    "\n",
    "G = (G.value * (1 * u.m / u.s).to(u.dimensionless_unscaled, equivalencies = natural) ** 2 * (1 * u.m).to(u.fm).to(1 / u.MeV, equivalencies = natural) / (1 * u.kg).to(u.J, equivalencies = natural).to(u.MeV))\n",
    "G = G.value"
   ]
  },
  {
   "cell_type": "markdown",
   "id": "ad156571-647b-4425-8c1f-6d6dc9b56c9e",
   "metadata": {},
   "source": [
    "## Functions to find numerical EoS arrays for Fermi gas and strong interaction given some number density (in natural units)"
   ]
  },
  {
   "cell_type": "code",
   "execution_count": 4,
   "id": "a85628f9-c820-4a62-a516-e994ca465b3e",
   "metadata": {},
   "outputs": [],
   "source": [
    "# Non-rest-mass energy E\n",
    "def find_E(num_density):\n",
    "    result = a * (num_density / n_0) ** alpha + b * (num_density / n_0) ** beta\n",
    "    return result\n",
    "\n",
    "# Energy density epsilon\n",
    "def find_epsilon(num_density):\n",
    "    E = find_E(num_density)\n",
    "    result = num_density * (E + m_N)\n",
    "    return result\n",
    "\n",
    "# Chemical potential\n",
    "def find_chem_potential(num_density):\n",
    "    result = a * (alpha + 1) * (num_density / n_0) ** alpha + b * (beta + 1) * (num_density / n_0) ** beta + m_N\n",
    "    return result\n",
    "\n",
    "# Pressure\n",
    "def find_pressure(num_density, epsilon_D, c_s_Upper):\n",
    "    epsilon = find_epsilon(num_density)\n",
    "    chem_potential = find_chem_potential(num_density)\n",
    "\n",
    "    epsilon_Delta = epsilon_D * u.MeV / (1 * u.fm).to(1 / u.MeV, equivalencies = natural) ** 3\n",
    "    \n",
    "    num_density_c = num_density_from_energy_density(epsilon_c.value) * u.MeV ** 3\n",
    "    chem_potential_c = find_chem_potential(num_density_c)\n",
    "    pressure_c = - epsilon_c + chem_potential_c * num_density_c\n",
    "    \n",
    "    # Piece-wise extremal EoS\n",
    "    if epsilon.value < epsilon_c.value:\n",
    "        result = - epsilon + chem_potential * num_density    # Gandolfi nuclear EoS\n",
    "    else:\n",
    "        if epsilon.value < epsilon_Delta.value:\n",
    "            result = pressure_c    # Flat EoS\n",
    "        else:\n",
    "            result = pressure_c + c_s_Upper * (epsilon - epsilon_Delta)    # EoS slope = c_s_Upper\n",
    "    \n",
    "    return result"
   ]
  },
  {
   "cell_type": "code",
   "execution_count": 5,
   "id": "7385c8d9-c140-4074-9358-8c10f63104eb",
   "metadata": {},
   "outputs": [],
   "source": [
    "# Finding number density as a function of energy density\n",
    "\n",
    "def energy_density_minus_target_epsilon(n, target_epsilon):\n",
    "    n = n * u.MeV ** 3\n",
    "    result = find_epsilon(n).value - target_epsilon\n",
    "    return result\n",
    "\n",
    "def num_density_from_energy_density(epsilon):\n",
    "    b = 10 ** 12\n",
    "    if energy_density_minus_target_epsilon(0, epsilon) > 0:\n",
    "        print(f\"find_epsilon is {find_epsilon(0 * u.MeV ** 3)} and epsilon is {epsilon}.\")\n",
    "        return\n",
    "    result = optimize.brentq(energy_density_minus_target_epsilon,\n",
    "                             0,\n",
    "                             b,\n",
    "                             args = (epsilon,))\n",
    "    return result"
   ]
  },
  {
   "cell_type": "markdown",
   "id": "e90c44c9-3089-4939-b97f-0304b6eed950",
   "metadata": {
    "jp-MarkdownHeadingCollapsed": true
   },
   "source": [
    "## Plotting the EoS"
   ]
  },
  {
   "cell_type": "code",
   "execution_count": 6,
   "id": "a55a62fa-b5fe-4c7e-a4b0-1fb921324047",
   "metadata": {},
   "outputs": [],
   "source": [
    "# epsilon = []\n",
    "# pressure = []\n",
    "\n",
    "# n = np.logspace(-0.3, 1, num = 200) * n_0\n",
    "\n",
    "# for num_density in n:\n",
    "#     epsilon_in_MeV = find_epsilon(num_density).value\n",
    "#     epsilon_in_MeV_and_fm = epsilon_in_MeV * (1 * u.MeV).to(1 / u.fm, equivalencies = natural) ** 3\n",
    "#     epsilon.append(epsilon_in_MeV_and_fm.value)\n",
    "#     pressure_in_MeV = find_pressure(num_density, epsilon_D).value\n",
    "#     pressure_in_MeV_and_fm = pressure_in_MeV * (1 * u.MeV).to(1 / u.fm, equivalencies = natural) ** 3\n",
    "#     pressure.append(pressure_in_MeV_and_fm.value)"
   ]
  },
  {
   "cell_type": "code",
   "execution_count": 7,
   "id": "0f34c00d-d829-498a-932e-54d83df19009",
   "metadata": {},
   "outputs": [],
   "source": [
    "# fig, ax = plt.subplots(figsize = (8, 8))\n",
    "\n",
    "# epsilon_c_MeV_and_fm = epsilon_c * (1 * u.MeV).to(1 / u.fm, equivalencies = natural) ** 3\n",
    "# epsilon_delta_MeV_and_fm = epsilon_delta * (1 * u.MeV).to(1 / u.fm, equivalencies = natural) ** 3\n",
    "# ax.set_title(\"Equation of state\", fontsize = 15);\n",
    "# ax.set_xlabel(r\"$\\mathrm{Energy\\,density}\\,\\epsilon\\,\\left(\\mathrm{MeV/\\,fm^3}\\right)$\", fontsize = 15);\n",
    "# ax.set_ylabel(r\"$\\mathrm{Pressure\\,\\left(MeV/\\,fm^3\\right)}$\", fontsize = 15);\n",
    "# ax.set_xlim(0, epsilon_delta_MeV_and_fm.value + 25);\n",
    "# ax.set_ylim(0, 25);\n",
    "# ax.plot(epsilon, pressure, label = \"EoS\");\n",
    "# ax.axvline(x = epsilon_c_MeV_and_fm.value, color = \"red\", linewidth = 0.5, label = r\"$\\epsilon_{c}=150\\,\\mathrm{MeV/\\,fm^3}$\");\n",
    "# ax.axvline(x = epsilon_delta_MeV_and_fm.value, color = \"green\", linewidth = 0.5, label = r\"$\\epsilon_{\\Delta}=650\\,\\mathrm{MeV/\\,fm^3}$\");\n",
    "# ax.legend(fontsize = 15);\n",
    "\n",
    "# plt.savefig(\"Piecewise_EoS.pdf\", bbox_inches = \"tight\");\n",
    "# plt.savefig(\"Piecewise_EoS.jpg\", bbox_inches = \"tight\");"
   ]
  },
  {
   "cell_type": "markdown",
   "id": "978fd0f7-6052-48e3-88de-76fdd236cb42",
   "metadata": {},
   "source": [
    "## Generalized TOV"
   ]
  },
  {
   "cell_type": "code",
   "execution_count": 8,
   "id": "e984e37b-8156-4c59-99f1-5f3145974816",
   "metadata": {},
   "outputs": [],
   "source": [
    "# r = distance from center\n",
    "# m = cumulative mass enclosed within distance r from center\n",
    "# p = pressure at distance r from center\n",
    "# epsilon = energy density at distance r from center\n",
    "\n",
    "# TOV coded to be compatible w/ cgs units, but can't explicitly give units in code b/c solve_ivp() throws errors\n",
    "\n",
    "def TOV(r, p_and_m, epsilon_D, c_s_Upper):\n",
    "    p = p_and_m[0]\n",
    "    m = p_and_m[1]\n",
    "    if num_density_from_pressure(p, r, epsilon_D, c_s_Upper) is None:\n",
    "        return [0, 0]\n",
    "    n = num_density_from_pressure(p, r, epsilon_D, c_s_Upper) * u.MeV ** 3\n",
    "    epsilon = find_epsilon(n).value\n",
    "    print(f\"number density is {n}\")\n",
    "    rel_factors = (1 + p / epsilon) * (1 + 4 * pi * r ** 3 * p / m) * (1 - 2 * G * m / r) ** (-1)\n",
    "    p_result = - G * epsilon * m / r ** 2 * rel_factors\n",
    "    m_result = 4 * pi * r ** 2 * epsilon\n",
    "    return [p_result, m_result]"
   ]
  },
  {
   "cell_type": "code",
   "execution_count": 9,
   "id": "147529a1-8ebc-4e11-86a7-6036853a29d2",
   "metadata": {},
   "outputs": [],
   "source": [
    "# Finding number density as a function of pressure\n",
    "\n",
    "def pressure_minus_target_p(n, target_p, epsilon_D, c_s_Upper):\n",
    "    n = n * u.MeV ** 3\n",
    "    result = find_pressure(n, epsilon_D, c_s_Upper).value - target_p\n",
    "    return result\n",
    "\n",
    "# Global variable so it can be modified when n_high needs to be increased later\n",
    "pressure_brentq_b = 10 ** 8\n",
    "\n",
    "def num_density_from_pressure(p, r, epsilon_D, c_s_Upper):\n",
    "    if pressure_minus_target_p(0, p, epsilon_D, c_s_Upper) > 0:\n",
    "        print(f\"Distance from center is {(r / u.MeV).to(u.fm, equivalencies = natural).to(u.km)}, w/ find_pressure {find_pressure(0 * u.MeV ** 3, epsilon_D, c_s_Upper)} and p {p}.\")\n",
    "        return\n",
    "        \n",
    "    result = optimize.brentq(pressure_minus_target_p,\n",
    "                             0,\n",
    "                             pressure_brentq_b,\n",
    "                             args = (p, epsilon_D, c_s_Upper))\n",
    "    \n",
    "    return result"
   ]
  },
  {
   "cell_type": "markdown",
   "id": "f3994abc-9453-45c4-900d-2a6dcc613850",
   "metadata": {},
   "source": [
    "### Setting central cumulative mass initial condition"
   ]
  },
  {
   "cell_type": "code",
   "execution_count": 10,
   "id": "6256271a-246b-4a0a-ae69-6f3235c800ce",
   "metadata": {},
   "outputs": [],
   "source": [
    "def M_from_r_and_rho(r, rho):\n",
    "    result = 4 * pi * rho * r ** 3 / 3\n",
    "    return result"
   ]
  },
  {
   "cell_type": "markdown",
   "id": "39f77127-f415-4c2a-bf5f-e73f047f7c6e",
   "metadata": {},
   "source": [
    "### TOV solver function"
   ]
  },
  {
   "cell_type": "code",
   "execution_count": 11,
   "id": "4ba3d460-96f2-4006-bb26-311cded0dc29",
   "metadata": {},
   "outputs": [],
   "source": [
    "# Keep this for all EoS\n",
    "\n",
    "def solve_TOV(n_central, p_central, epsilon_D, c_s_Upper):\n",
    "    epsilon_central = find_epsilon(n_central * u.MeV ** 3).value\n",
    "    m_central = M_from_r_and_rho(small_r, epsilon_central)\n",
    "    \n",
    "    def reached_surface(t, y, *args):\n",
    "        return y[0]\n",
    "\n",
    "    reached_surface.terminal = True\n",
    "    reached_surface.direction = -1\n",
    "    \n",
    "    solution = solve_ivp(TOV,\n",
    "                         [small_r, R_attempt],\n",
    "                         [p_central, m_central],\n",
    "                         events = reached_surface,\n",
    "                         args = (epsilon_D, c_s_Upper)\n",
    "                        )\n",
    "\n",
    "    distance_from_center = (solution.t / u.MeV).to(u.fm, equivalencies = natural).to(u.km)\n",
    "    print(f\"Mass is {(solution.y[1][-1] * u. MeV).to(u.J).to(u.kg, equivalencies = natural).to(u.solMass):.3f}.\")\n",
    "    cumulative_mass = (solution.y[1] * u.MeV).to(u.J).to(u.kg, equivalencies = natural).to(u.solMass)\n",
    "    pressure = solution.y[0]\n",
    "\n",
    "    result = distance_from_center, cumulative_mass, pressure\n",
    "    return result"
   ]
  },
  {
   "cell_type": "markdown",
   "id": "ee718fe8-194a-4b2c-9a25-b1bc7b1b5a80",
   "metadata": {},
   "source": [
    "### Setting constants for solving TOV"
   ]
  },
  {
   "cell_type": "code",
   "execution_count": 12,
   "id": "e2202f68-fa48-4cad-bf99-eaddbe38fcfb",
   "metadata": {},
   "outputs": [],
   "source": [
    "# Everything in natural units unless otherwise specified\n",
    "# r_small cannot be 0 b/c it would cause a singularity.\n",
    "\n",
    "small_r = (0.1 * u.km).to(u.fm).to(1 / u.MeV, equivalencies = natural).value\n",
    "m_N = 939.565 * u.MeV    # Natural units\n",
    "n_0 = 0.16 / (1 * u.fm).to(1 / u.MeV, equivalencies = natural) ** 3    # Nuclear saturation density\n",
    "\n",
    "# Setting nuclear parameters (from Gandolfi et. al.)\n",
    "a = 13.0 * u.MeV\n",
    "alpha = 0.49\n",
    "b = 3.21 * u.MeV\n",
    "beta = 2.47\n",
    "\n",
    "# Setting critical energy density corresponding to n_0 for piece-wise EoS\n",
    "epsilon_c_value = 150    # In MeV / fm^3\n",
    "epsilon_c = epsilon_c_value * u.MeV / (1 * u.fm).to(1 / u.MeV, equivalencies = natural) ** 3\n",
    "# Note: need to specify epsilon_delta before solving TOV for piece-wise EoS"
   ]
  },
  {
   "cell_type": "markdown",
   "id": "4e04d6cd-b418-4496-97a0-0910b627ab4a",
   "metadata": {},
   "source": [
    "### Horizontal axis scale"
   ]
  },
  {
   "cell_type": "code",
   "execution_count": 13,
   "id": "74ccf20c-bef9-4a07-8197-f862ee35cf20",
   "metadata": {},
   "outputs": [],
   "source": [
    "# Everything in natural units unless otherwise specified\n",
    "\n",
    "R_attempt = (100 * u.km).to(u.fm).to(1 / u.MeV, equivalencies = natural).value"
   ]
  },
  {
   "cell_type": "markdown",
   "id": "d1a2e8f3-d1b9-48b9-812a-a894558ae468",
   "metadata": {
    "jp-MarkdownHeadingCollapsed": true
   },
   "source": [
    "### Solving TOV example"
   ]
  },
  {
   "cell_type": "code",
   "execution_count": 14,
   "id": "c19b4639-b6c0-411b-a9ec-e49a8780d3fe",
   "metadata": {},
   "outputs": [],
   "source": [
    "# # Nuclear saturation number density is 0.16 fm^(-3)\n",
    "# n_central = 7 * n_0\n",
    "# print(f\"{n_0:.3e}\")\n",
    "# p_central = find_pressure(n_central, epsilon_D).value\n",
    "# print(f\"p_central is {p_central}\")\n",
    "# distance_from_center, cumulative_mass, pressure = solve_TOV(n_central.value, p_central)"
   ]
  },
  {
   "cell_type": "code",
   "execution_count": 15,
   "id": "a4da0560-1ce6-4dbb-bd25-29c2a535c13c",
   "metadata": {},
   "outputs": [],
   "source": [
    "# fig, [ax1, ax2] = plt.subplots(nrows = 1, ncols = 2, figsize = (16, 8))\n",
    "\n",
    "# ax1.set_title(\"Cumulative mass vs distance from center\", fontsize = 18);\n",
    "# ax1.set_xlabel(\"Distance from center (km)\", fontsize = 18);\n",
    "# ax1.set_ylabel(r\"Cumulative mass ($\\mathrm{M_{\\odot}}$)\", fontsize = 18);\n",
    "# # ax1.set_xlim(0, 20);\n",
    "# # ax1.set_ylim(0, 0.6);\n",
    "# ax1.plot(distance_from_center, cumulative_mass);\n",
    "# ax2.set_title(\"Pressure vs distance from center\", fontsize = 18);\n",
    "# ax2.set_xlabel(\"Distance from center (km)\", fontsize = 18);\n",
    "# ax2.set_ylabel(r\"Pressure $\\left(\\mathrm{MeV/\\,fm^3}\\right)$\", fontsize = 18);\n",
    "# # ax2.set_xlim(0, 20);\n",
    "# ax2.plot(distance_from_center, pressure);"
   ]
  },
  {
   "cell_type": "code",
   "execution_count": 16,
   "id": "77d3c880-f6d5-46f9-b27d-e7153c67a2d2",
   "metadata": {},
   "outputs": [],
   "source": [
    "# print(f\"Mass is {np.max(cumulative_mass):.2f}.\")"
   ]
  },
  {
   "cell_type": "markdown",
   "id": "d69c7fd1-f41f-4052-be5d-3accbae91d10",
   "metadata": {},
   "source": [
    "## Finding the minimum radius for a given EoS"
   ]
  },
  {
   "cell_type": "code",
   "execution_count": 17,
   "id": "2b292dcf-1f4b-4c7d-b3d1-018adc367792",
   "metadata": {},
   "outputs": [],
   "source": [
    "# Function to find mass and radius for particular central number density and EoS parameters\n",
    "def find_mass_radius(num_density, epsilon_D, c_s_Upper):\n",
    "    # Solving TOV\n",
    "    p_central = find_pressure(num_density, epsilon_D, c_s_Upper).value\n",
    "    distance_from_center, cumulative_mass, _ = solve_TOV(num_density.value, p_central, epsilon_D, c_s_Upper)\n",
    "    print(f\"Solved TOV for epsilon_delta {epsilon_D} MeV / fm^3 and c_s_upper {c_s_Upper}\")\n",
    "\n",
    "    # Removing NaN and inf values\n",
    "    cumulative_mass = cumulative_mass[~np.isnan(cumulative_mass)]\n",
    "    cumulative_mass = cumulative_mass[~np.isinf(cumulative_mass)]\n",
    "\n",
    "    # Picking out single values\n",
    "    mass = cumulative_mass[-1].value\n",
    "    radius = distance_from_center[-1].value\n",
    "    \n",
    "    return mass, radius"
   ]
  },
  {
   "cell_type": "code",
   "execution_count": 18,
   "id": "3ee8ce4a-a0e6-42f5-ad0c-035840f1151b",
   "metadata": {},
   "outputs": [],
   "source": [
    "# Setting initial densities and default increment direction\n",
    "n_low = n_0    # Undershoot\n",
    "n_high = 8 * n_0    # Overshoot\n",
    "direction = 1    # For low mass_high errors: +1 means increase, -1 means decrease"
   ]
  },
  {
   "cell_type": "code",
   "execution_count": 19,
   "id": "2a0768ad-56c1-495f-a594-e7d7dc27ff76",
   "metadata": {},
   "outputs": [],
   "source": [
    "# Function to find the minimum radius for a given EoS -- 2 parameters, epsilon_delta and c_s_Upper\n",
    "def find_min_radius(epsilon_D, c_s_Upper):\n",
    "    # Stating global variables to allow modification\n",
    "    global pressure_brentq_b\n",
    "    \n",
    "    # Creating empty masses, radius_candidates arrays to be populated\n",
    "    masses = []\n",
    "    radius_candidates = []\n",
    "\n",
    "    # Creating initial array of central number densities\n",
    "    n_exp_high = 1\n",
    "    n_central = np.logspace(-0.1, n_exp_high, num = 50) * n_0\n",
    "    \n",
    "    for n_attempt in n_central:\n",
    "        # Solving TOV\n",
    "        mass, radius_candidate = find_mass_radius(n_attempt, epsilon_D, c_s_Upper)\n",
    "        masses.append(mass)\n",
    "        radius_candidates.append(radius_candidate)\n",
    "\n",
    "    # Verifying that maximum mass is reached\n",
    "    while np.max(masses) == masses[-1]:\n",
    "        n_exp_high += 0.022\n",
    "        n_attempt = 10 ** n_exp_high * n_0\n",
    "        pressure_brentq_b += 10 ** 7.022    # Exactly the right amount\n",
    "        mass, radius_candidate = find_mass_radius(n_attempt, epsilon_D, c_s_Upper)\n",
    "        masses.append(mass)\n",
    "        radius_candidates.append(radius_candidate)\n",
    "        \n",
    "    # Identifying minimum radius\n",
    "    max_mass_index = np.argmax(masses)\n",
    "    radius_candidates = radius_candidates[:max_mass_index + 1]\n",
    "    min_radius_result = np.min(radius_candidates)\n",
    "    \n",
    "    # Recording minimum radius\n",
    "    print(f\"The minimum radius is {min_radius_result:.3f} km, while epsilon_delta is {epsilon_D:.3f} MeV / fm^3, and c_s_upper is {c_s_Upper:.3f}.\")\n",
    "    \n",
    "    return min_radius_result"
   ]
  },
  {
   "cell_type": "markdown",
   "id": "a532e42c-6a7c-4115-b9af-94c2176702e0",
   "metadata": {},
   "source": [
    "## Surveying minimum radius while varying $\\epsilon_{\\Delta}$ and $c_{s,\\,\\mathrm{upper}}$"
   ]
  },
  {
   "cell_type": "code",
   "execution_count": 20,
   "id": "0e239b31-81f0-412f-bd8b-7c36cabd3ec3",
   "metadata": {},
   "outputs": [],
   "source": [
    "# Setting piece-wise EoS parameters to check\n",
    "N = 6\n",
    "\n",
    "epsilon_low = epsilon_c_value    # This would mean no flat segment\n",
    "epsilon_high = epsilon_low * 10\n",
    "epsilon_delta = np.linspace(epsilon_low, epsilon_high, N)\n",
    "\n",
    "c_s_upper_low = 0.01\n",
    "c_s_upper_high = 1\n",
    "c_s_upper = np.linspace(c_s_upper_low, c_s_upper_high, N)\n",
    "\n",
    "# Verifying value of energy density corresponding to n_high is greater than maximum epsilon_delta test value\n",
    "# This is to ensure that the global maximum mass is not missed\n",
    "epsilon_higher = find_epsilon(n_high).value * u.MeV * (1 * u.MeV).to(1 / u.fm, equivalencies = natural) ** 3\n",
    "if (epsilon_higher.value - epsilon_low) / (epsilon_high - epsilon_low) < 1.1:\n",
    "    print(f\"Error: The energy density corresponding to n_high -- {epsilon_higher:.2f} -- is too low.\")\n",
    "    epsilon_higher_ideal = 1.1 * (epsilon_high - epsilon_low) + epsilon_low\n",
    "    print(f\"epsilon_high is {epsilon_high:.2f} MeV / fm3, so the n_high energy density should be {epsilon_higher_ideal:.2f} MeV / fm3.\")\n",
    "    raise KeyboardInterrupt"
   ]
  },
  {
   "cell_type": "code",
   "execution_count": 21,
   "id": "c96d1762-554e-4ad7-9c5d-87e1ca63e4a0",
   "metadata": {},
   "outputs": [
    {
     "name": "stdout",
     "output_type": "stream",
     "text": [
      "number density is 971669.7022237899 MeV3\n",
      "number density is 971669.7022237899 MeV3\n",
      "number density is 971669.7022237899 MeV3\n",
      "number density is 971669.7022237899 MeV3\n",
      "number density is 971669.7022237899 MeV3\n",
      "number density is 971669.7022237899 MeV3\n",
      "number density is 971669.7022237899 MeV3\n",
      "number density is 971669.7022237899 MeV3\n",
      "number density is 971669.7022237899 MeV3\n",
      "number density is 971669.7022237899 MeV3\n",
      "number density is 971669.7022237899 MeV3\n",
      "number density is 971669.7022237899 MeV3\n",
      "number density is 971669.7022237899 MeV3\n",
      "number density is 971669.7022237899 MeV3\n",
      "number density is 971669.7022237899 MeV3\n",
      "number density is 971669.7022237899 MeV3\n",
      "number density is 971669.7022237899 MeV3\n",
      "number density is 971669.7022237899 MeV3\n",
      "number density is 971669.7022237899 MeV3\n",
      "number density is 971669.7022237899 MeV3\n",
      "number density is 971669.7022237857 MeV3\n",
      "number density is 971669.7022237857 MeV3\n",
      "number density is 971669.7022237853 MeV3\n",
      "number density is 971669.7022237855 MeV3\n"
     ]
    },
    {
     "ename": "KeyboardInterrupt",
     "evalue": "",
     "output_type": "error",
     "traceback": [
      "\u001b[0;31m---------------------------------------------------------------------------\u001b[0m",
      "\u001b[0;31mKeyboardInterrupt\u001b[0m                         Traceback (most recent call last)",
      "Cell \u001b[0;32mIn[21], line 23\u001b[0m\n\u001b[1;32m     21\u001b[0m \u001b[38;5;28;01mfor\u001b[39;00m j \u001b[38;5;129;01min\u001b[39;00m \u001b[38;5;28mrange\u001b[39m(c_s_upper_size):\n\u001b[1;32m     22\u001b[0m     c_s_upper_value \u001b[38;5;241m=\u001b[39m c_s_upper[j]\n\u001b[0;32m---> 23\u001b[0m     radius_value \u001b[38;5;241m=\u001b[39m \u001b[43mfind_min_radius\u001b[49m\u001b[43m(\u001b[49m\u001b[43mepsilon_delta_value\u001b[49m\u001b[43m,\u001b[49m\u001b[43m \u001b[49m\u001b[43mc_s_upper_value\u001b[49m\u001b[43m)\u001b[49m\n\u001b[1;32m     25\u001b[0m     \u001b[38;5;66;03m# Calculating runtime\u001b[39;00m\n\u001b[1;32m     26\u001b[0m     end_time \u001b[38;5;241m=\u001b[39m time\u001b[38;5;241m.\u001b[39mtime()\n",
      "Cell \u001b[0;32mIn[19], line 16\u001b[0m, in \u001b[0;36mfind_min_radius\u001b[0;34m(epsilon_D, c_s_Upper)\u001b[0m\n\u001b[1;32m     12\u001b[0m n_central \u001b[38;5;241m=\u001b[39m np\u001b[38;5;241m.\u001b[39mlogspace(\u001b[38;5;241m-\u001b[39m\u001b[38;5;241m0.1\u001b[39m, n_exp_high, num \u001b[38;5;241m=\u001b[39m \u001b[38;5;241m50\u001b[39m) \u001b[38;5;241m*\u001b[39m n_0\n\u001b[1;32m     14\u001b[0m \u001b[38;5;28;01mfor\u001b[39;00m n_attempt \u001b[38;5;129;01min\u001b[39;00m n_central:\n\u001b[1;32m     15\u001b[0m     \u001b[38;5;66;03m# Solving TOV\u001b[39;00m\n\u001b[0;32m---> 16\u001b[0m     mass, radius_candidate \u001b[38;5;241m=\u001b[39m \u001b[43mfind_mass_radius\u001b[49m\u001b[43m(\u001b[49m\u001b[43mn_attempt\u001b[49m\u001b[43m,\u001b[49m\u001b[43m \u001b[49m\u001b[43mepsilon_D\u001b[49m\u001b[43m,\u001b[49m\u001b[43m \u001b[49m\u001b[43mc_s_Upper\u001b[49m\u001b[43m)\u001b[49m\n\u001b[1;32m     17\u001b[0m     masses\u001b[38;5;241m.\u001b[39mappend(mass)\n\u001b[1;32m     18\u001b[0m     radius_candidates\u001b[38;5;241m.\u001b[39mappend(radius_candidate)\n",
      "Cell \u001b[0;32mIn[17], line 5\u001b[0m, in \u001b[0;36mfind_mass_radius\u001b[0;34m(num_density, epsilon_D, c_s_Upper)\u001b[0m\n\u001b[1;32m      2\u001b[0m \u001b[38;5;28;01mdef\u001b[39;00m \u001b[38;5;21mfind_mass_radius\u001b[39m(num_density, epsilon_D, c_s_Upper):\n\u001b[1;32m      3\u001b[0m     \u001b[38;5;66;03m# Solving TOV\u001b[39;00m\n\u001b[1;32m      4\u001b[0m     p_central \u001b[38;5;241m=\u001b[39m find_pressure(num_density, epsilon_D, c_s_Upper)\u001b[38;5;241m.\u001b[39mvalue\n\u001b[0;32m----> 5\u001b[0m     distance_from_center, cumulative_mass, _ \u001b[38;5;241m=\u001b[39m \u001b[43msolve_TOV\u001b[49m\u001b[43m(\u001b[49m\u001b[43mnum_density\u001b[49m\u001b[38;5;241;43m.\u001b[39;49m\u001b[43mvalue\u001b[49m\u001b[43m,\u001b[49m\u001b[43m \u001b[49m\u001b[43mp_central\u001b[49m\u001b[43m,\u001b[49m\u001b[43m \u001b[49m\u001b[43mepsilon_D\u001b[49m\u001b[43m,\u001b[49m\u001b[43m \u001b[49m\u001b[43mc_s_Upper\u001b[49m\u001b[43m)\u001b[49m\n\u001b[1;32m      6\u001b[0m     \u001b[38;5;28mprint\u001b[39m(\u001b[38;5;124mf\u001b[39m\u001b[38;5;124m\"\u001b[39m\u001b[38;5;124mSolved TOV for epsilon_delta \u001b[39m\u001b[38;5;132;01m{\u001b[39;00mepsilon_D\u001b[38;5;132;01m}\u001b[39;00m\u001b[38;5;124m MeV / fm^3 and c_s_upper \u001b[39m\u001b[38;5;132;01m{\u001b[39;00mc_s_Upper\u001b[38;5;132;01m}\u001b[39;00m\u001b[38;5;124m\"\u001b[39m)\n\u001b[1;32m      8\u001b[0m     \u001b[38;5;66;03m# Removing NaN and inf values\u001b[39;00m\n",
      "Cell \u001b[0;32mIn[11], line 13\u001b[0m, in \u001b[0;36msolve_TOV\u001b[0;34m(n_central, p_central, epsilon_D, c_s_Upper)\u001b[0m\n\u001b[1;32m     10\u001b[0m reached_surface\u001b[38;5;241m.\u001b[39mterminal \u001b[38;5;241m=\u001b[39m \u001b[38;5;28;01mTrue\u001b[39;00m\n\u001b[1;32m     11\u001b[0m reached_surface\u001b[38;5;241m.\u001b[39mdirection \u001b[38;5;241m=\u001b[39m \u001b[38;5;241m-\u001b[39m\u001b[38;5;241m1\u001b[39m\n\u001b[0;32m---> 13\u001b[0m solution \u001b[38;5;241m=\u001b[39m \u001b[43msolve_ivp\u001b[49m\u001b[43m(\u001b[49m\u001b[43mTOV\u001b[49m\u001b[43m,\u001b[49m\n\u001b[1;32m     14\u001b[0m \u001b[43m                     \u001b[49m\u001b[43m[\u001b[49m\u001b[43msmall_r\u001b[49m\u001b[43m,\u001b[49m\u001b[43m \u001b[49m\u001b[43mR_attempt\u001b[49m\u001b[43m]\u001b[49m\u001b[43m,\u001b[49m\n\u001b[1;32m     15\u001b[0m \u001b[43m                     \u001b[49m\u001b[43m[\u001b[49m\u001b[43mp_central\u001b[49m\u001b[43m,\u001b[49m\u001b[43m \u001b[49m\u001b[43mm_central\u001b[49m\u001b[43m]\u001b[49m\u001b[43m,\u001b[49m\n\u001b[1;32m     16\u001b[0m \u001b[43m                     \u001b[49m\u001b[43mevents\u001b[49m\u001b[43m \u001b[49m\u001b[38;5;241;43m=\u001b[39;49m\u001b[43m \u001b[49m\u001b[43mreached_surface\u001b[49m\u001b[43m,\u001b[49m\n\u001b[1;32m     17\u001b[0m \u001b[43m                     \u001b[49m\u001b[43margs\u001b[49m\u001b[43m \u001b[49m\u001b[38;5;241;43m=\u001b[39;49m\u001b[43m \u001b[49m\u001b[43m(\u001b[49m\u001b[43mepsilon_D\u001b[49m\u001b[43m,\u001b[49m\u001b[43m \u001b[49m\u001b[43mc_s_Upper\u001b[49m\u001b[43m)\u001b[49m\n\u001b[1;32m     18\u001b[0m \u001b[43m                    \u001b[49m\u001b[43m)\u001b[49m\n\u001b[1;32m     20\u001b[0m distance_from_center \u001b[38;5;241m=\u001b[39m (solution\u001b[38;5;241m.\u001b[39mt \u001b[38;5;241m/\u001b[39m u\u001b[38;5;241m.\u001b[39mMeV)\u001b[38;5;241m.\u001b[39mto(u\u001b[38;5;241m.\u001b[39mfm, equivalencies \u001b[38;5;241m=\u001b[39m natural)\u001b[38;5;241m.\u001b[39mto(u\u001b[38;5;241m.\u001b[39mkm)\n\u001b[1;32m     21\u001b[0m \u001b[38;5;28mprint\u001b[39m(\u001b[38;5;124mf\u001b[39m\u001b[38;5;124m\"\u001b[39m\u001b[38;5;124mMass is \u001b[39m\u001b[38;5;132;01m{\u001b[39;00m(solution\u001b[38;5;241m.\u001b[39my[\u001b[38;5;241m1\u001b[39m][\u001b[38;5;241m-\u001b[39m\u001b[38;5;241m1\u001b[39m]\u001b[38;5;250m \u001b[39m\u001b[38;5;241m*\u001b[39m\u001b[38;5;250m \u001b[39mu\u001b[38;5;241m.\u001b[39m\u001b[38;5;250m \u001b[39mMeV)\u001b[38;5;241m.\u001b[39mto(u\u001b[38;5;241m.\u001b[39mJ)\u001b[38;5;241m.\u001b[39mto(u\u001b[38;5;241m.\u001b[39mkg,\u001b[38;5;250m \u001b[39mequivalencies\u001b[38;5;250m \u001b[39m\u001b[38;5;241m=\u001b[39m\u001b[38;5;250m \u001b[39mnatural)\u001b[38;5;241m.\u001b[39mto(u\u001b[38;5;241m.\u001b[39msolMass)\u001b[38;5;132;01m:\u001b[39;00m\u001b[38;5;124m.3f\u001b[39m\u001b[38;5;132;01m}\u001b[39;00m\u001b[38;5;124m.\u001b[39m\u001b[38;5;124m\"\u001b[39m)\n",
      "File \u001b[0;32m/opt/conda/lib/python3.10/site-packages/scipy/integrate/_ivp/ivp.py:602\u001b[0m, in \u001b[0;36msolve_ivp\u001b[0;34m(fun, t_span, y0, method, t_eval, dense_output, events, vectorized, args, **options)\u001b[0m\n\u001b[1;32m    600\u001b[0m status \u001b[38;5;241m=\u001b[39m \u001b[38;5;28;01mNone\u001b[39;00m\n\u001b[1;32m    601\u001b[0m \u001b[38;5;28;01mwhile\u001b[39;00m status \u001b[38;5;129;01mis\u001b[39;00m \u001b[38;5;28;01mNone\u001b[39;00m:\n\u001b[0;32m--> 602\u001b[0m     message \u001b[38;5;241m=\u001b[39m \u001b[43msolver\u001b[49m\u001b[38;5;241;43m.\u001b[39;49m\u001b[43mstep\u001b[49m\u001b[43m(\u001b[49m\u001b[43m)\u001b[49m\n\u001b[1;32m    604\u001b[0m     \u001b[38;5;28;01mif\u001b[39;00m solver\u001b[38;5;241m.\u001b[39mstatus \u001b[38;5;241m==\u001b[39m \u001b[38;5;124m'\u001b[39m\u001b[38;5;124mfinished\u001b[39m\u001b[38;5;124m'\u001b[39m:\n\u001b[1;32m    605\u001b[0m         status \u001b[38;5;241m=\u001b[39m \u001b[38;5;241m0\u001b[39m\n",
      "File \u001b[0;32m/opt/conda/lib/python3.10/site-packages/scipy/integrate/_ivp/base.py:197\u001b[0m, in \u001b[0;36mOdeSolver.step\u001b[0;34m(self)\u001b[0m\n\u001b[1;32m    195\u001b[0m \u001b[38;5;28;01melse\u001b[39;00m:\n\u001b[1;32m    196\u001b[0m     t \u001b[38;5;241m=\u001b[39m \u001b[38;5;28mself\u001b[39m\u001b[38;5;241m.\u001b[39mt\n\u001b[0;32m--> 197\u001b[0m     success, message \u001b[38;5;241m=\u001b[39m \u001b[38;5;28;43mself\u001b[39;49m\u001b[38;5;241;43m.\u001b[39;49m\u001b[43m_step_impl\u001b[49m\u001b[43m(\u001b[49m\u001b[43m)\u001b[49m\n\u001b[1;32m    199\u001b[0m     \u001b[38;5;28;01mif\u001b[39;00m \u001b[38;5;129;01mnot\u001b[39;00m success:\n\u001b[1;32m    200\u001b[0m         \u001b[38;5;28mself\u001b[39m\u001b[38;5;241m.\u001b[39mstatus \u001b[38;5;241m=\u001b[39m \u001b[38;5;124m'\u001b[39m\u001b[38;5;124mfailed\u001b[39m\u001b[38;5;124m'\u001b[39m\n",
      "File \u001b[0;32m/opt/conda/lib/python3.10/site-packages/scipy/integrate/_ivp/rk.py:144\u001b[0m, in \u001b[0;36mRungeKutta._step_impl\u001b[0;34m(self)\u001b[0m\n\u001b[1;32m    141\u001b[0m h \u001b[38;5;241m=\u001b[39m t_new \u001b[38;5;241m-\u001b[39m t\n\u001b[1;32m    142\u001b[0m h_abs \u001b[38;5;241m=\u001b[39m np\u001b[38;5;241m.\u001b[39mabs(h)\n\u001b[0;32m--> 144\u001b[0m y_new, f_new \u001b[38;5;241m=\u001b[39m \u001b[43mrk_step\u001b[49m\u001b[43m(\u001b[49m\u001b[38;5;28;43mself\u001b[39;49m\u001b[38;5;241;43m.\u001b[39;49m\u001b[43mfun\u001b[49m\u001b[43m,\u001b[49m\u001b[43m \u001b[49m\u001b[43mt\u001b[49m\u001b[43m,\u001b[49m\u001b[43m \u001b[49m\u001b[43my\u001b[49m\u001b[43m,\u001b[49m\u001b[43m \u001b[49m\u001b[38;5;28;43mself\u001b[39;49m\u001b[38;5;241;43m.\u001b[39;49m\u001b[43mf\u001b[49m\u001b[43m,\u001b[49m\u001b[43m \u001b[49m\u001b[43mh\u001b[49m\u001b[43m,\u001b[49m\u001b[43m \u001b[49m\u001b[38;5;28;43mself\u001b[39;49m\u001b[38;5;241;43m.\u001b[39;49m\u001b[43mA\u001b[49m\u001b[43m,\u001b[49m\n\u001b[1;32m    145\u001b[0m \u001b[43m                       \u001b[49m\u001b[38;5;28;43mself\u001b[39;49m\u001b[38;5;241;43m.\u001b[39;49m\u001b[43mB\u001b[49m\u001b[43m,\u001b[49m\u001b[43m \u001b[49m\u001b[38;5;28;43mself\u001b[39;49m\u001b[38;5;241;43m.\u001b[39;49m\u001b[43mC\u001b[49m\u001b[43m,\u001b[49m\u001b[43m \u001b[49m\u001b[38;5;28;43mself\u001b[39;49m\u001b[38;5;241;43m.\u001b[39;49m\u001b[43mK\u001b[49m\u001b[43m)\u001b[49m\n\u001b[1;32m    146\u001b[0m scale \u001b[38;5;241m=\u001b[39m atol \u001b[38;5;241m+\u001b[39m np\u001b[38;5;241m.\u001b[39mmaximum(np\u001b[38;5;241m.\u001b[39mabs(y), np\u001b[38;5;241m.\u001b[39mabs(y_new)) \u001b[38;5;241m*\u001b[39m rtol\n\u001b[1;32m    147\u001b[0m error_norm \u001b[38;5;241m=\u001b[39m \u001b[38;5;28mself\u001b[39m\u001b[38;5;241m.\u001b[39m_estimate_error_norm(\u001b[38;5;28mself\u001b[39m\u001b[38;5;241m.\u001b[39mK, h, scale)\n",
      "File \u001b[0;32m/opt/conda/lib/python3.10/site-packages/scipy/integrate/_ivp/rk.py:64\u001b[0m, in \u001b[0;36mrk_step\u001b[0;34m(fun, t, y, f, h, A, B, C, K)\u001b[0m\n\u001b[1;32m     62\u001b[0m \u001b[38;5;28;01mfor\u001b[39;00m s, (a, c) \u001b[38;5;129;01min\u001b[39;00m \u001b[38;5;28menumerate\u001b[39m(\u001b[38;5;28mzip\u001b[39m(A[\u001b[38;5;241m1\u001b[39m:], C[\u001b[38;5;241m1\u001b[39m:]), start\u001b[38;5;241m=\u001b[39m\u001b[38;5;241m1\u001b[39m):\n\u001b[1;32m     63\u001b[0m     dy \u001b[38;5;241m=\u001b[39m np\u001b[38;5;241m.\u001b[39mdot(K[:s]\u001b[38;5;241m.\u001b[39mT, a[:s]) \u001b[38;5;241m*\u001b[39m h\n\u001b[0;32m---> 64\u001b[0m     K[s] \u001b[38;5;241m=\u001b[39m \u001b[43mfun\u001b[49m\u001b[43m(\u001b[49m\u001b[43mt\u001b[49m\u001b[43m \u001b[49m\u001b[38;5;241;43m+\u001b[39;49m\u001b[43m \u001b[49m\u001b[43mc\u001b[49m\u001b[43m \u001b[49m\u001b[38;5;241;43m*\u001b[39;49m\u001b[43m \u001b[49m\u001b[43mh\u001b[49m\u001b[43m,\u001b[49m\u001b[43m \u001b[49m\u001b[43my\u001b[49m\u001b[43m \u001b[49m\u001b[38;5;241;43m+\u001b[39;49m\u001b[43m \u001b[49m\u001b[43mdy\u001b[49m\u001b[43m)\u001b[49m\n\u001b[1;32m     66\u001b[0m y_new \u001b[38;5;241m=\u001b[39m y \u001b[38;5;241m+\u001b[39m h \u001b[38;5;241m*\u001b[39m np\u001b[38;5;241m.\u001b[39mdot(K[:\u001b[38;5;241m-\u001b[39m\u001b[38;5;241m1\u001b[39m]\u001b[38;5;241m.\u001b[39mT, B)\n\u001b[1;32m     67\u001b[0m f_new \u001b[38;5;241m=\u001b[39m fun(t \u001b[38;5;241m+\u001b[39m h, y_new)\n",
      "File \u001b[0;32m/opt/conda/lib/python3.10/site-packages/scipy/integrate/_ivp/base.py:154\u001b[0m, in \u001b[0;36mOdeSolver.__init__.<locals>.fun\u001b[0;34m(t, y)\u001b[0m\n\u001b[1;32m    152\u001b[0m \u001b[38;5;28;01mdef\u001b[39;00m \u001b[38;5;21mfun\u001b[39m(t, y):\n\u001b[1;32m    153\u001b[0m     \u001b[38;5;28mself\u001b[39m\u001b[38;5;241m.\u001b[39mnfev \u001b[38;5;241m+\u001b[39m\u001b[38;5;241m=\u001b[39m \u001b[38;5;241m1\u001b[39m\n\u001b[0;32m--> 154\u001b[0m     \u001b[38;5;28;01mreturn\u001b[39;00m \u001b[38;5;28;43mself\u001b[39;49m\u001b[38;5;241;43m.\u001b[39;49m\u001b[43mfun_single\u001b[49m\u001b[43m(\u001b[49m\u001b[43mt\u001b[49m\u001b[43m,\u001b[49m\u001b[43m \u001b[49m\u001b[43my\u001b[49m\u001b[43m)\u001b[49m\n",
      "File \u001b[0;32m/opt/conda/lib/python3.10/site-packages/scipy/integrate/_ivp/base.py:23\u001b[0m, in \u001b[0;36mcheck_arguments.<locals>.fun_wrapped\u001b[0;34m(t, y)\u001b[0m\n\u001b[1;32m     22\u001b[0m \u001b[38;5;28;01mdef\u001b[39;00m \u001b[38;5;21mfun_wrapped\u001b[39m(t, y):\n\u001b[0;32m---> 23\u001b[0m     \u001b[38;5;28;01mreturn\u001b[39;00m np\u001b[38;5;241m.\u001b[39masarray(\u001b[43mfun\u001b[49m\u001b[43m(\u001b[49m\u001b[43mt\u001b[49m\u001b[43m,\u001b[49m\u001b[43m \u001b[49m\u001b[43my\u001b[49m\u001b[43m)\u001b[49m, dtype\u001b[38;5;241m=\u001b[39mdtype)\n",
      "File \u001b[0;32m/opt/conda/lib/python3.10/site-packages/scipy/integrate/_ivp/ivp.py:540\u001b[0m, in \u001b[0;36msolve_ivp.<locals>.fun\u001b[0;34m(t, x, fun)\u001b[0m\n\u001b[1;32m    539\u001b[0m \u001b[38;5;28;01mdef\u001b[39;00m \u001b[38;5;21mfun\u001b[39m(t, x, fun\u001b[38;5;241m=\u001b[39mfun):\n\u001b[0;32m--> 540\u001b[0m     \u001b[38;5;28;01mreturn\u001b[39;00m \u001b[43mfun\u001b[49m\u001b[43m(\u001b[49m\u001b[43mt\u001b[49m\u001b[43m,\u001b[49m\u001b[43m \u001b[49m\u001b[43mx\u001b[49m\u001b[43m,\u001b[49m\u001b[43m \u001b[49m\u001b[38;5;241;43m*\u001b[39;49m\u001b[43margs\u001b[49m\u001b[43m)\u001b[49m\n",
      "Cell \u001b[0;32mIn[8], line 11\u001b[0m, in \u001b[0;36mTOV\u001b[0;34m(r, p_and_m, epsilon_D, c_s_Upper)\u001b[0m\n\u001b[1;32m      9\u001b[0m p \u001b[38;5;241m=\u001b[39m p_and_m[\u001b[38;5;241m0\u001b[39m]\n\u001b[1;32m     10\u001b[0m m \u001b[38;5;241m=\u001b[39m p_and_m[\u001b[38;5;241m1\u001b[39m]\n\u001b[0;32m---> 11\u001b[0m \u001b[38;5;28;01mif\u001b[39;00m \u001b[43mnum_density_from_pressure\u001b[49m\u001b[43m(\u001b[49m\u001b[43mp\u001b[49m\u001b[43m,\u001b[49m\u001b[43m \u001b[49m\u001b[43mr\u001b[49m\u001b[43m,\u001b[49m\u001b[43m \u001b[49m\u001b[43mepsilon_D\u001b[49m\u001b[43m,\u001b[49m\u001b[43m \u001b[49m\u001b[43mc_s_Upper\u001b[49m\u001b[43m)\u001b[49m \u001b[38;5;129;01mis\u001b[39;00m \u001b[38;5;28;01mNone\u001b[39;00m:\n\u001b[1;32m     12\u001b[0m     \u001b[38;5;28;01mreturn\u001b[39;00m [\u001b[38;5;241m0\u001b[39m, \u001b[38;5;241m0\u001b[39m]\n\u001b[1;32m     13\u001b[0m n \u001b[38;5;241m=\u001b[39m num_density_from_pressure(p, r, epsilon_D, c_s_Upper) \u001b[38;5;241m*\u001b[39m u\u001b[38;5;241m.\u001b[39mMeV \u001b[38;5;241m*\u001b[39m\u001b[38;5;241m*\u001b[39m \u001b[38;5;241m3\u001b[39m\n",
      "Cell \u001b[0;32mIn[9], line 16\u001b[0m, in \u001b[0;36mnum_density_from_pressure\u001b[0;34m(p, r, epsilon_D, c_s_Upper)\u001b[0m\n\u001b[1;32m     13\u001b[0m     \u001b[38;5;28mprint\u001b[39m(\u001b[38;5;124mf\u001b[39m\u001b[38;5;124m\"\u001b[39m\u001b[38;5;124mDistance from center is \u001b[39m\u001b[38;5;132;01m{\u001b[39;00m(r\u001b[38;5;250m \u001b[39m\u001b[38;5;241m/\u001b[39m\u001b[38;5;250m \u001b[39mu\u001b[38;5;241m.\u001b[39mMeV)\u001b[38;5;241m.\u001b[39mto(u\u001b[38;5;241m.\u001b[39mfm,\u001b[38;5;250m \u001b[39mequivalencies\u001b[38;5;250m \u001b[39m\u001b[38;5;241m=\u001b[39m\u001b[38;5;250m \u001b[39mnatural)\u001b[38;5;241m.\u001b[39mto(u\u001b[38;5;241m.\u001b[39mkm)\u001b[38;5;132;01m}\u001b[39;00m\u001b[38;5;124m, w/ find_pressure \u001b[39m\u001b[38;5;132;01m{\u001b[39;00mfind_pressure(\u001b[38;5;241m0\u001b[39m\u001b[38;5;250m \u001b[39m\u001b[38;5;241m*\u001b[39m\u001b[38;5;250m \u001b[39mu\u001b[38;5;241m.\u001b[39mMeV\u001b[38;5;250m \u001b[39m\u001b[38;5;241m*\u001b[39m\u001b[38;5;241m*\u001b[39m\u001b[38;5;250m \u001b[39m\u001b[38;5;241m3\u001b[39m,\u001b[38;5;250m \u001b[39mepsilon_D,\u001b[38;5;250m \u001b[39mc_s_Upper)\u001b[38;5;132;01m}\u001b[39;00m\u001b[38;5;124m and p \u001b[39m\u001b[38;5;132;01m{\u001b[39;00mp\u001b[38;5;132;01m}\u001b[39;00m\u001b[38;5;124m.\u001b[39m\u001b[38;5;124m\"\u001b[39m)\n\u001b[1;32m     14\u001b[0m     \u001b[38;5;28;01mreturn\u001b[39;00m\n\u001b[0;32m---> 16\u001b[0m result \u001b[38;5;241m=\u001b[39m \u001b[43moptimize\u001b[49m\u001b[38;5;241;43m.\u001b[39;49m\u001b[43mbrentq\u001b[49m\u001b[43m(\u001b[49m\u001b[43mpressure_minus_target_p\u001b[49m\u001b[43m,\u001b[49m\n\u001b[1;32m     17\u001b[0m \u001b[43m                         \u001b[49m\u001b[38;5;241;43m0\u001b[39;49m\u001b[43m,\u001b[49m\n\u001b[1;32m     18\u001b[0m \u001b[43m                         \u001b[49m\u001b[43mpressure_brentq_b\u001b[49m\u001b[43m,\u001b[49m\n\u001b[1;32m     19\u001b[0m \u001b[43m                         \u001b[49m\u001b[43margs\u001b[49m\u001b[43m \u001b[49m\u001b[38;5;241;43m=\u001b[39;49m\u001b[43m \u001b[49m\u001b[43m(\u001b[49m\u001b[43mp\u001b[49m\u001b[43m,\u001b[49m\u001b[43m \u001b[49m\u001b[43mepsilon_D\u001b[49m\u001b[43m,\u001b[49m\u001b[43m \u001b[49m\u001b[43mc_s_Upper\u001b[49m\u001b[43m)\u001b[49m\u001b[43m)\u001b[49m\n\u001b[1;32m     21\u001b[0m \u001b[38;5;28;01mreturn\u001b[39;00m result\n",
      "File \u001b[0;32m/opt/conda/lib/python3.10/site-packages/scipy/optimize/_zeros_py.py:802\u001b[0m, in \u001b[0;36mbrentq\u001b[0;34m(f, a, b, args, xtol, rtol, maxiter, full_output, disp)\u001b[0m\n\u001b[1;32m    800\u001b[0m     \u001b[38;5;28;01mraise\u001b[39;00m \u001b[38;5;167;01mValueError\u001b[39;00m(\u001b[38;5;124mf\u001b[39m\u001b[38;5;124m\"\u001b[39m\u001b[38;5;124mrtol too small (\u001b[39m\u001b[38;5;132;01m{\u001b[39;00mrtol\u001b[38;5;132;01m:\u001b[39;00m\u001b[38;5;124mg\u001b[39m\u001b[38;5;132;01m}\u001b[39;00m\u001b[38;5;124m < \u001b[39m\u001b[38;5;132;01m{\u001b[39;00m_rtol\u001b[38;5;132;01m:\u001b[39;00m\u001b[38;5;124mg\u001b[39m\u001b[38;5;132;01m}\u001b[39;00m\u001b[38;5;124m)\u001b[39m\u001b[38;5;124m\"\u001b[39m)\n\u001b[1;32m    801\u001b[0m f \u001b[38;5;241m=\u001b[39m _wrap_nan_raise(f)\n\u001b[0;32m--> 802\u001b[0m r \u001b[38;5;241m=\u001b[39m \u001b[43m_zeros\u001b[49m\u001b[38;5;241;43m.\u001b[39;49m\u001b[43m_brentq\u001b[49m\u001b[43m(\u001b[49m\u001b[43mf\u001b[49m\u001b[43m,\u001b[49m\u001b[43m \u001b[49m\u001b[43ma\u001b[49m\u001b[43m,\u001b[49m\u001b[43m \u001b[49m\u001b[43mb\u001b[49m\u001b[43m,\u001b[49m\u001b[43m \u001b[49m\u001b[43mxtol\u001b[49m\u001b[43m,\u001b[49m\u001b[43m \u001b[49m\u001b[43mrtol\u001b[49m\u001b[43m,\u001b[49m\u001b[43m \u001b[49m\u001b[43mmaxiter\u001b[49m\u001b[43m,\u001b[49m\u001b[43m \u001b[49m\u001b[43margs\u001b[49m\u001b[43m,\u001b[49m\u001b[43m \u001b[49m\u001b[43mfull_output\u001b[49m\u001b[43m,\u001b[49m\u001b[43m \u001b[49m\u001b[43mdisp\u001b[49m\u001b[43m)\u001b[49m\n\u001b[1;32m    803\u001b[0m \u001b[38;5;28;01mreturn\u001b[39;00m results_c(full_output, r)\n",
      "File \u001b[0;32m/opt/conda/lib/python3.10/site-packages/scipy/optimize/_zeros_py.py:90\u001b[0m, in \u001b[0;36m_wrap_nan_raise.<locals>.f_raise\u001b[0;34m(x, *args)\u001b[0m\n\u001b[1;32m     89\u001b[0m \u001b[38;5;28;01mdef\u001b[39;00m \u001b[38;5;21mf_raise\u001b[39m(x, \u001b[38;5;241m*\u001b[39margs):\n\u001b[0;32m---> 90\u001b[0m     fx \u001b[38;5;241m=\u001b[39m \u001b[43mf\u001b[49m\u001b[43m(\u001b[49m\u001b[43mx\u001b[49m\u001b[43m,\u001b[49m\u001b[43m \u001b[49m\u001b[38;5;241;43m*\u001b[39;49m\u001b[43margs\u001b[49m\u001b[43m)\u001b[49m\n\u001b[1;32m     91\u001b[0m     f_raise\u001b[38;5;241m.\u001b[39m_function_calls \u001b[38;5;241m+\u001b[39m\u001b[38;5;241m=\u001b[39m \u001b[38;5;241m1\u001b[39m\n\u001b[1;32m     92\u001b[0m     \u001b[38;5;28;01mif\u001b[39;00m np\u001b[38;5;241m.\u001b[39misnan(fx):\n",
      "Cell \u001b[0;32mIn[9], line 5\u001b[0m, in \u001b[0;36mpressure_minus_target_p\u001b[0;34m(n, target_p, epsilon_D, c_s_Upper)\u001b[0m\n\u001b[1;32m      3\u001b[0m \u001b[38;5;28;01mdef\u001b[39;00m \u001b[38;5;21mpressure_minus_target_p\u001b[39m(n, target_p, epsilon_D, c_s_Upper):\n\u001b[1;32m      4\u001b[0m     n \u001b[38;5;241m=\u001b[39m n \u001b[38;5;241m*\u001b[39m u\u001b[38;5;241m.\u001b[39mMeV \u001b[38;5;241m*\u001b[39m\u001b[38;5;241m*\u001b[39m \u001b[38;5;241m3\u001b[39m\n\u001b[0;32m----> 5\u001b[0m     result \u001b[38;5;241m=\u001b[39m \u001b[43mfind_pressure\u001b[49m\u001b[43m(\u001b[49m\u001b[43mn\u001b[49m\u001b[43m,\u001b[49m\u001b[43m \u001b[49m\u001b[43mepsilon_D\u001b[49m\u001b[43m,\u001b[49m\u001b[43m \u001b[49m\u001b[43mc_s_Upper\u001b[49m\u001b[43m)\u001b[49m\u001b[38;5;241m.\u001b[39mvalue \u001b[38;5;241m-\u001b[39m target_p\n\u001b[1;32m      6\u001b[0m     \u001b[38;5;28;01mreturn\u001b[39;00m result\n",
      "Cell \u001b[0;32mIn[4], line 22\u001b[0m, in \u001b[0;36mfind_pressure\u001b[0;34m(num_density, epsilon_D, c_s_Upper)\u001b[0m\n\u001b[1;32m     19\u001b[0m epsilon \u001b[38;5;241m=\u001b[39m find_epsilon(num_density)\n\u001b[1;32m     20\u001b[0m chem_potential \u001b[38;5;241m=\u001b[39m find_chem_potential(num_density)\n\u001b[0;32m---> 22\u001b[0m epsilon_Delta \u001b[38;5;241m=\u001b[39m epsilon_D \u001b[38;5;241m*\u001b[39m u\u001b[38;5;241m.\u001b[39mMeV \u001b[38;5;241m/\u001b[39m \u001b[43m(\u001b[49m\u001b[38;5;241;43m1\u001b[39;49m\u001b[43m \u001b[49m\u001b[38;5;241;43m*\u001b[39;49m\u001b[43m \u001b[49m\u001b[43mu\u001b[49m\u001b[38;5;241;43m.\u001b[39;49m\u001b[43mfm\u001b[49m\u001b[43m)\u001b[49m\u001b[38;5;241;43m.\u001b[39;49m\u001b[43mto\u001b[49m\u001b[43m(\u001b[49m\u001b[38;5;241;43m1\u001b[39;49m\u001b[43m \u001b[49m\u001b[38;5;241;43m/\u001b[39;49m\u001b[43m \u001b[49m\u001b[43mu\u001b[49m\u001b[38;5;241;43m.\u001b[39;49m\u001b[43mMeV\u001b[49m\u001b[43m,\u001b[49m\u001b[43m \u001b[49m\u001b[43mequivalencies\u001b[49m\u001b[43m \u001b[49m\u001b[38;5;241;43m=\u001b[39;49m\u001b[43m \u001b[49m\u001b[43mnatural\u001b[49m\u001b[43m)\u001b[49m \u001b[38;5;241m*\u001b[39m\u001b[38;5;241m*\u001b[39m \u001b[38;5;241m3\u001b[39m\n\u001b[1;32m     24\u001b[0m num_density_c \u001b[38;5;241m=\u001b[39m num_density_from_energy_density(epsilon_c\u001b[38;5;241m.\u001b[39mvalue) \u001b[38;5;241m*\u001b[39m u\u001b[38;5;241m.\u001b[39mMeV \u001b[38;5;241m*\u001b[39m\u001b[38;5;241m*\u001b[39m \u001b[38;5;241m3\u001b[39m\n\u001b[1;32m     25\u001b[0m chem_potential_c \u001b[38;5;241m=\u001b[39m find_chem_potential(num_density_c)\n",
      "File \u001b[0;32m/opt/conda/lib/python3.10/site-packages/astropy/units/quantity.py:938\u001b[0m, in \u001b[0;36mQuantity.to\u001b[0;34m(self, unit, equivalencies, copy)\u001b[0m\n\u001b[1;32m    934\u001b[0m unit \u001b[38;5;241m=\u001b[39m Unit(unit)\n\u001b[1;32m    935\u001b[0m \u001b[38;5;28;01mif\u001b[39;00m copy:\n\u001b[1;32m    936\u001b[0m     \u001b[38;5;66;03m# Avoid using to_value to ensure that we make a copy. We also\u001b[39;00m\n\u001b[1;32m    937\u001b[0m     \u001b[38;5;66;03m# don't want to slow down this method (esp. the scalar case).\u001b[39;00m\n\u001b[0;32m--> 938\u001b[0m     value \u001b[38;5;241m=\u001b[39m \u001b[38;5;28;43mself\u001b[39;49m\u001b[38;5;241;43m.\u001b[39;49m\u001b[43m_to_value\u001b[49m\u001b[43m(\u001b[49m\u001b[43munit\u001b[49m\u001b[43m,\u001b[49m\u001b[43m \u001b[49m\u001b[43mequivalencies\u001b[49m\u001b[43m)\u001b[49m\n\u001b[1;32m    939\u001b[0m \u001b[38;5;28;01melse\u001b[39;00m:\n\u001b[1;32m    940\u001b[0m     \u001b[38;5;66;03m# to_value only copies if necessary\u001b[39;00m\n\u001b[1;32m    941\u001b[0m     value \u001b[38;5;241m=\u001b[39m \u001b[38;5;28mself\u001b[39m\u001b[38;5;241m.\u001b[39mto_value(unit, equivalencies)\n",
      "File \u001b[0;32m/opt/conda/lib/python3.10/site-packages/astropy/units/quantity.py:891\u001b[0m, in \u001b[0;36mQuantity._to_value\u001b[0;34m(self, unit, equivalencies)\u001b[0m\n\u001b[1;32m    888\u001b[0m     equivalencies \u001b[38;5;241m=\u001b[39m \u001b[38;5;28mself\u001b[39m\u001b[38;5;241m.\u001b[39m_equivalencies\n\u001b[1;32m    889\u001b[0m \u001b[38;5;28;01mif\u001b[39;00m \u001b[38;5;129;01mnot\u001b[39;00m \u001b[38;5;28mself\u001b[39m\u001b[38;5;241m.\u001b[39mdtype\u001b[38;5;241m.\u001b[39mnames \u001b[38;5;129;01mor\u001b[39;00m \u001b[38;5;28misinstance\u001b[39m(\u001b[38;5;28mself\u001b[39m\u001b[38;5;241m.\u001b[39munit, StructuredUnit):\n\u001b[1;32m    890\u001b[0m     \u001b[38;5;66;03m# Standard path, let unit to do work.\u001b[39;00m\n\u001b[0;32m--> 891\u001b[0m     \u001b[38;5;28;01mreturn\u001b[39;00m \u001b[38;5;28;43mself\u001b[39;49m\u001b[38;5;241;43m.\u001b[39;49m\u001b[43munit\u001b[49m\u001b[38;5;241;43m.\u001b[39;49m\u001b[43mto\u001b[49m\u001b[43m(\u001b[49m\n\u001b[1;32m    892\u001b[0m \u001b[43m        \u001b[49m\u001b[43munit\u001b[49m\u001b[43m,\u001b[49m\u001b[43m \u001b[49m\u001b[38;5;28;43mself\u001b[39;49m\u001b[38;5;241;43m.\u001b[39;49m\u001b[43mview\u001b[49m\u001b[43m(\u001b[49m\u001b[43mnp\u001b[49m\u001b[38;5;241;43m.\u001b[39;49m\u001b[43mndarray\u001b[49m\u001b[43m)\u001b[49m\u001b[43m,\u001b[49m\u001b[43m \u001b[49m\u001b[43mequivalencies\u001b[49m\u001b[38;5;241;43m=\u001b[39;49m\u001b[43mequivalencies\u001b[49m\n\u001b[1;32m    893\u001b[0m \u001b[43m    \u001b[49m\u001b[43m)\u001b[49m\n\u001b[1;32m    895\u001b[0m \u001b[38;5;28;01melse\u001b[39;00m:\n\u001b[1;32m    896\u001b[0m     \u001b[38;5;66;03m# The .to() method of a simple unit cannot convert a structured\u001b[39;00m\n\u001b[1;32m    897\u001b[0m     \u001b[38;5;66;03m# dtype, so we work around it, by recursing.\u001b[39;00m\n\u001b[1;32m    898\u001b[0m     \u001b[38;5;66;03m# TODO: deprecate this?\u001b[39;00m\n\u001b[1;32m    899\u001b[0m     \u001b[38;5;66;03m# Convert simple to Structured on initialization?\u001b[39;00m\n\u001b[1;32m    900\u001b[0m     result \u001b[38;5;241m=\u001b[39m np\u001b[38;5;241m.\u001b[39mempty_like(\u001b[38;5;28mself\u001b[39m\u001b[38;5;241m.\u001b[39mview(np\u001b[38;5;241m.\u001b[39mndarray))\n",
      "File \u001b[0;32m/opt/conda/lib/python3.10/site-packages/astropy/units/core.py:1195\u001b[0m, in \u001b[0;36mUnitBase.to\u001b[0;34m(self, other, value, equivalencies)\u001b[0m\n\u001b[1;32m   1193\u001b[0m     \u001b[38;5;28;01mreturn\u001b[39;00m UNITY\n\u001b[1;32m   1194\u001b[0m \u001b[38;5;28;01melse\u001b[39;00m:\n\u001b[0;32m-> 1195\u001b[0m     \u001b[38;5;28;01mreturn\u001b[39;00m \u001b[38;5;28;43mself\u001b[39;49m\u001b[38;5;241;43m.\u001b[39;49m\u001b[43m_get_converter\u001b[49m\u001b[43m(\u001b[49m\u001b[43mUnit\u001b[49m\u001b[43m(\u001b[49m\u001b[43mother\u001b[49m\u001b[43m)\u001b[49m\u001b[43m,\u001b[49m\u001b[43m \u001b[49m\u001b[43mequivalencies\u001b[49m\u001b[43m)\u001b[49m(value)\n",
      "File \u001b[0;32m/opt/conda/lib/python3.10/site-packages/astropy/units/core.py:1107\u001b[0m, in \u001b[0;36mUnitBase._get_converter\u001b[0;34m(self, other, equivalencies)\u001b[0m\n\u001b[1;32m   1105\u001b[0m \u001b[38;5;66;03m# if that doesn't work, maybe we can do it with equivalencies?\u001b[39;00m\n\u001b[1;32m   1106\u001b[0m \u001b[38;5;28;01mtry\u001b[39;00m:\n\u001b[0;32m-> 1107\u001b[0m     \u001b[38;5;28;01mreturn\u001b[39;00m \u001b[38;5;28;43mself\u001b[39;49m\u001b[38;5;241;43m.\u001b[39;49m\u001b[43m_apply_equivalencies\u001b[49m\u001b[43m(\u001b[49m\n\u001b[1;32m   1108\u001b[0m \u001b[43m        \u001b[49m\u001b[38;5;28;43mself\u001b[39;49m\u001b[43m,\u001b[49m\u001b[43m \u001b[49m\u001b[43mother\u001b[49m\u001b[43m,\u001b[49m\u001b[43m \u001b[49m\u001b[38;5;28;43mself\u001b[39;49m\u001b[38;5;241;43m.\u001b[39;49m\u001b[43m_normalize_equivalencies\u001b[49m\u001b[43m(\u001b[49m\u001b[43mequivalencies\u001b[49m\u001b[43m)\u001b[49m\n\u001b[1;32m   1109\u001b[0m \u001b[43m    \u001b[49m\u001b[43m)\u001b[49m\n\u001b[1;32m   1110\u001b[0m \u001b[38;5;28;01mexcept\u001b[39;00m UnitsError \u001b[38;5;28;01mas\u001b[39;00m exc:\n\u001b[1;32m   1111\u001b[0m     \u001b[38;5;66;03m# Last hope: maybe other knows how to do it?\u001b[39;00m\n\u001b[1;32m   1112\u001b[0m     \u001b[38;5;66;03m# We assume the equivalencies have the unit itself as first item.\u001b[39;00m\n\u001b[1;32m   1113\u001b[0m     \u001b[38;5;66;03m# TODO: maybe better for other to have a `_back_converter` method?\u001b[39;00m\n\u001b[1;32m   1114\u001b[0m     \u001b[38;5;28;01mif\u001b[39;00m \u001b[38;5;28mhasattr\u001b[39m(other, \u001b[38;5;124m\"\u001b[39m\u001b[38;5;124mequivalencies\u001b[39m\u001b[38;5;124m\"\u001b[39m):\n",
      "File \u001b[0;32m/opt/conda/lib/python3.10/site-packages/astropy/units/core.py:1067\u001b[0m, in \u001b[0;36mUnitBase._apply_equivalencies\u001b[0;34m(self, unit, other, equivalencies)\u001b[0m\n\u001b[1;32m   1065\u001b[0m     \u001b[38;5;28;01mpass\u001b[39;00m\n\u001b[1;32m   1066\u001b[0m \u001b[38;5;28;01mtry\u001b[39;00m:\n\u001b[0;32m-> 1067\u001b[0m     scale1 \u001b[38;5;241m=\u001b[39m \u001b[43mtunit\u001b[49m\u001b[38;5;241;43m.\u001b[39;49m\u001b[43m_to\u001b[49m\u001b[43m(\u001b[49m\u001b[43munit\u001b[49m\u001b[43m)\u001b[49m\n\u001b[1;32m   1068\u001b[0m     scale2 \u001b[38;5;241m=\u001b[39m funit\u001b[38;5;241m.\u001b[39m_to(other)\n\u001b[1;32m   1069\u001b[0m     \u001b[38;5;28;01mreturn\u001b[39;00m make_converter(scale1, b, scale2)\n",
      "File \u001b[0;32m/opt/conda/lib/python3.10/site-packages/astropy/units/core.py:1159\u001b[0m, in \u001b[0;36mUnitBase._to\u001b[0;34m(self, other)\u001b[0m\n\u001b[1;32m   1151\u001b[0m     \u001b[38;5;28;01mif\u001b[39;00m self_decomposed\u001b[38;5;241m.\u001b[39mpowers \u001b[38;5;241m==\u001b[39m other_decomposed\u001b[38;5;241m.\u001b[39mpowers \u001b[38;5;129;01mand\u001b[39;00m \u001b[38;5;28mall\u001b[39m(\n\u001b[1;32m   1152\u001b[0m         self_base \u001b[38;5;129;01mis\u001b[39;00m other_base\n\u001b[1;32m   1153\u001b[0m         \u001b[38;5;28;01mfor\u001b[39;00m (self_base, other_base) \u001b[38;5;129;01min\u001b[39;00m \u001b[38;5;28mzip\u001b[39m(\n\u001b[1;32m   1154\u001b[0m             self_decomposed\u001b[38;5;241m.\u001b[39mbases, other_decomposed\u001b[38;5;241m.\u001b[39mbases\n\u001b[1;32m   1155\u001b[0m         )\n\u001b[1;32m   1156\u001b[0m     ):\n\u001b[1;32m   1157\u001b[0m         \u001b[38;5;28;01mreturn\u001b[39;00m self_decomposed\u001b[38;5;241m.\u001b[39mscale \u001b[38;5;241m/\u001b[39m other_decomposed\u001b[38;5;241m.\u001b[39mscale\n\u001b[0;32m-> 1159\u001b[0m \u001b[38;5;28;01mraise\u001b[39;00m UnitConversionError(\u001b[38;5;124mf\u001b[39m\u001b[38;5;124m\"\u001b[39m\u001b[38;5;124m'\u001b[39m\u001b[38;5;132;01m{\u001b[39;00m\u001b[38;5;28mself\u001b[39m\u001b[38;5;132;01m!r}\u001b[39;00m\u001b[38;5;124m'\u001b[39m\u001b[38;5;124m is not a scaled version of \u001b[39m\u001b[38;5;124m'\u001b[39m\u001b[38;5;132;01m{\u001b[39;00mother\u001b[38;5;132;01m!r}\u001b[39;00m\u001b[38;5;124m'\u001b[39m\u001b[38;5;124m\"\u001b[39m)\n",
      "File \u001b[0;32m/opt/conda/lib/python3.10/site-packages/astropy/units/core.py:683\u001b[0m, in \u001b[0;36mUnitBase.__repr__\u001b[0;34m(self)\u001b[0m\n\u001b[1;32m    682\u001b[0m \u001b[38;5;28;01mdef\u001b[39;00m \u001b[38;5;21m__repr__\u001b[39m(\u001b[38;5;28mself\u001b[39m):\n\u001b[0;32m--> 683\u001b[0m     string \u001b[38;5;241m=\u001b[39m \u001b[43munit_format\u001b[49m\u001b[38;5;241;43m.\u001b[39;49m\u001b[43mGeneric\u001b[49m\u001b[38;5;241;43m.\u001b[39;49m\u001b[43mto_string\u001b[49m\u001b[43m(\u001b[49m\u001b[38;5;28;43mself\u001b[39;49m\u001b[43m)\u001b[49m\n\u001b[1;32m    685\u001b[0m     \u001b[38;5;28;01mreturn\u001b[39;00m \u001b[38;5;124mf\u001b[39m\u001b[38;5;124m'\u001b[39m\u001b[38;5;124mUnit(\u001b[39m\u001b[38;5;124m\"\u001b[39m\u001b[38;5;132;01m{\u001b[39;00mstring\u001b[38;5;132;01m}\u001b[39;00m\u001b[38;5;124m\"\u001b[39m\u001b[38;5;124m)\u001b[39m\u001b[38;5;124m'\u001b[39m\n",
      "File \u001b[0;32m/opt/conda/lib/python3.10/site-packages/astropy/units/format/base.py:142\u001b[0m, in \u001b[0;36mBase.to_string\u001b[0;34m(cls, unit, fraction)\u001b[0m\n\u001b[1;32m    140\u001b[0m         s \u001b[38;5;241m=\u001b[39m \u001b[38;5;28mcls\u001b[39m\u001b[38;5;241m.\u001b[39m_format_fraction(s, numerator, denominator, fraction\u001b[38;5;241m=\u001b[39mfraction)\n\u001b[1;32m    141\u001b[0m     \u001b[38;5;28;01melse\u001b[39;00m:\n\u001b[0;32m--> 142\u001b[0m         s \u001b[38;5;241m+\u001b[39m\u001b[38;5;241m=\u001b[39m \u001b[38;5;28;43mcls\u001b[39;49m\u001b[38;5;241;43m.\u001b[39;49m\u001b[43m_format_unit_list\u001b[49m\u001b[43m(\u001b[49m\u001b[43mnumerator\u001b[49m\u001b[43m)\u001b[49m\n\u001b[1;32m    144\u001b[0m \u001b[38;5;28;01mreturn\u001b[39;00m s\n",
      "File \u001b[0;32m/opt/conda/lib/python3.10/site-packages/astropy/units/format/base.py:71\u001b[0m, in \u001b[0;36mBase._format_unit_list\u001b[0;34m(cls, units)\u001b[0m\n\u001b[1;32m     69\u001b[0m \u001b[38;5;129m@classmethod\u001b[39m\n\u001b[1;32m     70\u001b[0m \u001b[38;5;28;01mdef\u001b[39;00m \u001b[38;5;21m_format_unit_list\u001b[39m(\u001b[38;5;28mcls\u001b[39m, units):\n\u001b[0;32m---> 71\u001b[0m     \u001b[38;5;28;01mreturn\u001b[39;00m \u001b[38;5;28;43mcls\u001b[39;49m\u001b[38;5;241;43m.\u001b[39;49m\u001b[43m_space\u001b[49m\u001b[38;5;241;43m.\u001b[39;49m\u001b[43mjoin\u001b[49m\u001b[43m(\u001b[49m\n\u001b[1;32m     72\u001b[0m \u001b[43m        \u001b[49m\u001b[38;5;28;43mcls\u001b[39;49m\u001b[38;5;241;43m.\u001b[39;49m\u001b[43m_format_unit_power\u001b[49m\u001b[43m(\u001b[49m\u001b[43mbase_\u001b[49m\u001b[43m,\u001b[49m\u001b[43m \u001b[49m\u001b[43mpower\u001b[49m\u001b[43m)\u001b[49m\u001b[43m \u001b[49m\u001b[38;5;28;43;01mfor\u001b[39;49;00m\u001b[43m \u001b[49m\u001b[43mbase_\u001b[49m\u001b[43m,\u001b[49m\u001b[43m \u001b[49m\u001b[43mpower\u001b[49m\u001b[43m \u001b[49m\u001b[38;5;129;43;01min\u001b[39;49;00m\u001b[43m \u001b[49m\u001b[43munits\u001b[49m\n\u001b[1;32m     73\u001b[0m \u001b[43m    \u001b[49m\u001b[43m)\u001b[49m\n",
      "File \u001b[0;32m/opt/conda/lib/python3.10/site-packages/astropy/units/format/base.py:72\u001b[0m, in \u001b[0;36m<genexpr>\u001b[0;34m(.0)\u001b[0m\n\u001b[1;32m     69\u001b[0m \u001b[38;5;129m@classmethod\u001b[39m\n\u001b[1;32m     70\u001b[0m \u001b[38;5;28;01mdef\u001b[39;00m \u001b[38;5;21m_format_unit_list\u001b[39m(\u001b[38;5;28mcls\u001b[39m, units):\n\u001b[1;32m     71\u001b[0m     \u001b[38;5;28;01mreturn\u001b[39;00m \u001b[38;5;28mcls\u001b[39m\u001b[38;5;241m.\u001b[39m_space\u001b[38;5;241m.\u001b[39mjoin(\n\u001b[0;32m---> 72\u001b[0m         \u001b[38;5;28;43mcls\u001b[39;49m\u001b[38;5;241;43m.\u001b[39;49m\u001b[43m_format_unit_power\u001b[49m\u001b[43m(\u001b[49m\u001b[43mbase_\u001b[49m\u001b[43m,\u001b[49m\u001b[43m \u001b[49m\u001b[43mpower\u001b[49m\u001b[43m)\u001b[49m \u001b[38;5;28;01mfor\u001b[39;00m base_, power \u001b[38;5;129;01min\u001b[39;00m units\n\u001b[1;32m     73\u001b[0m     )\n",
      "File \u001b[0;32m/opt/conda/lib/python3.10/site-packages/astropy/units/format/base.py:64\u001b[0m, in \u001b[0;36mBase._format_unit_power\u001b[0;34m(cls, unit, power)\u001b[0m\n\u001b[1;32m     57\u001b[0m \u001b[38;5;129m@classmethod\u001b[39m\n\u001b[1;32m     58\u001b[0m \u001b[38;5;28;01mdef\u001b[39;00m \u001b[38;5;21m_format_unit_power\u001b[39m(\u001b[38;5;28mcls\u001b[39m, unit, power\u001b[38;5;241m=\u001b[39m\u001b[38;5;241m1\u001b[39m):\n\u001b[1;32m     59\u001b[0m \u001b[38;5;250m    \u001b[39m\u001b[38;5;124;03m\"\"\"Format the unit for this format class raised to the given power.\u001b[39;00m\n\u001b[1;32m     60\u001b[0m \n\u001b[1;32m     61\u001b[0m \u001b[38;5;124;03m    This is overridden in Latex where the name of the unit can depend on the power\u001b[39;00m\n\u001b[1;32m     62\u001b[0m \u001b[38;5;124;03m    (e.g., for degrees).\u001b[39;00m\n\u001b[1;32m     63\u001b[0m \u001b[38;5;124;03m    \"\"\"\u001b[39;00m\n\u001b[0;32m---> 64\u001b[0m     name \u001b[38;5;241m=\u001b[39m \u001b[38;5;28;43mcls\u001b[39;49m\u001b[38;5;241;43m.\u001b[39;49m\u001b[43m_get_unit_name\u001b[49m\u001b[43m(\u001b[49m\u001b[43munit\u001b[49m\u001b[43m)\u001b[49m\n\u001b[1;32m     65\u001b[0m     \u001b[38;5;28;01mif\u001b[39;00m power \u001b[38;5;241m!=\u001b[39m \u001b[38;5;241m1\u001b[39m:\n\u001b[1;32m     66\u001b[0m         name \u001b[38;5;241m+\u001b[39m\u001b[38;5;241m=\u001b[39m \u001b[38;5;28mcls\u001b[39m\u001b[38;5;241m.\u001b[39m_format_superscript(utils\u001b[38;5;241m.\u001b[39mformat_power(power))\n",
      "File \u001b[0;32m/opt/conda/lib/python3.10/site-packages/astropy/units/format/base.py:31\u001b[0m, in \u001b[0;36mBase._get_unit_name\u001b[0;34m(cls, unit)\u001b[0m\n\u001b[1;32m     29\u001b[0m \u001b[38;5;129m@classmethod\u001b[39m\n\u001b[1;32m     30\u001b[0m \u001b[38;5;28;01mdef\u001b[39;00m \u001b[38;5;21m_get_unit_name\u001b[39m(\u001b[38;5;28mcls\u001b[39m, unit):\n\u001b[0;32m---> 31\u001b[0m     \u001b[38;5;28;01mreturn\u001b[39;00m \u001b[43munit\u001b[49m\u001b[38;5;241;43m.\u001b[39;49m\u001b[43mget_format_name\u001b[49m\u001b[43m(\u001b[49m\u001b[38;5;28;43mcls\u001b[39;49m\u001b[38;5;241;43m.\u001b[39;49m\u001b[43mname\u001b[49m\u001b[43m)\u001b[49m\n",
      "File \u001b[0;32m/opt/conda/lib/python3.10/site-packages/astropy/units/core.py:1831\u001b[0m, in \u001b[0;36mNamedUnit.get_format_name\u001b[0;34m(self, format)\u001b[0m\n\u001b[1;32m   1813\u001b[0m \u001b[38;5;28;01mdef\u001b[39;00m \u001b[38;5;21mget_format_name\u001b[39m(\u001b[38;5;28mself\u001b[39m, \u001b[38;5;28mformat\u001b[39m):\n\u001b[1;32m   1814\u001b[0m \u001b[38;5;250m    \u001b[39m\u001b[38;5;124;03m\"\"\"\u001b[39;00m\n\u001b[1;32m   1815\u001b[0m \u001b[38;5;124;03m    Get a name for this unit that is specific to a particular\u001b[39;00m\n\u001b[1;32m   1816\u001b[0m \u001b[38;5;124;03m    format.\u001b[39;00m\n\u001b[0;32m   (...)\u001b[0m\n\u001b[1;32m   1829\u001b[0m \u001b[38;5;124;03m        The name of the unit for the given format.\u001b[39;00m\n\u001b[1;32m   1830\u001b[0m \u001b[38;5;124;03m    \"\"\"\u001b[39;00m\n\u001b[0;32m-> 1831\u001b[0m     \u001b[38;5;28;01mreturn\u001b[39;00m \u001b[38;5;28;43mself\u001b[39;49m\u001b[38;5;241;43m.\u001b[39;49m\u001b[43m_format\u001b[49m\u001b[38;5;241;43m.\u001b[39;49m\u001b[43mget\u001b[49m\u001b[43m(\u001b[49m\u001b[38;5;28;43mformat\u001b[39;49m\u001b[43m,\u001b[49m\u001b[43m \u001b[49m\u001b[38;5;28;43mself\u001b[39;49m\u001b[38;5;241;43m.\u001b[39;49m\u001b[43mname\u001b[49m\u001b[43m)\u001b[49m\n",
      "\u001b[0;31mKeyboardInterrupt\u001b[0m: "
     ]
    }
   ],
   "source": [
    "# Creating placeholder values for epsilon_delta_constraint and c_s_upper_constraint\n",
    "epsilon_delta_constraint = epsilon_delta[0]\n",
    "c_s_upper_constraint = c_s_upper[0]\n",
    "\n",
    "# Creating placeholder value of min_radius\n",
    "min_radius = 100\n",
    "\n",
    "# Creating empty radii array to be populated during iterations\n",
    "c_s_upper_size = np.size(c_s_upper)\n",
    "epsilon_delta_size = np.size(epsilon_delta)\n",
    "radii = np.zeros((c_s_upper_size, epsilon_delta_size))\n",
    "\n",
    "# Opening csv file\n",
    "with open(\"radius_minimization_2D.csv\", \"w\") as outfile:\n",
    "    data_writer = csv.writer(outfile)\n",
    "\n",
    "    # Iterating through EoS parameter arrays to find minimum radii\n",
    "    for i in range(epsilon_delta_size):\n",
    "        epsilon_delta_value = epsilon_delta[i]\n",
    "        \n",
    "        for j in range(c_s_upper_size):\n",
    "            c_s_upper_value = c_s_upper[j]\n",
    "            radius_value = find_min_radius(epsilon_delta_value, c_s_upper_value)\n",
    "            \n",
    "            # Calculating runtime\n",
    "            end_time = time.time()\n",
    "            elapsed_time = end_time - start_time\n",
    "            print(f\"Elapsed time: {elapsed_time} seconds\")\n",
    "            \n",
    "            data_writer.writerow([epsilon_delta_value, c_s_upper_value, radius_value, elapsed_time])\n",
    "            radii[j][i] = radius_value\n",
    "\n",
    "            # Identifying smallest value\n",
    "            if radius_value < min_radius:\n",
    "                min_radius = radius_value\n",
    "                epsilon_delta_constraint = epsilon_delta_value\n",
    "                c_s_upper_constraint = c_s_upper_value"
   ]
  },
  {
   "cell_type": "code",
   "execution_count": null,
   "id": "fea65f1a-272b-4691-8fb3-83bcf1083446",
   "metadata": {},
   "outputs": [],
   "source": [
    "epsilon_delta = [150.0, 1500.0]\n",
    "c_s_upper = [0.01, 1.0]\n",
    "\n",
    "radii = [[10.952606248098515, 11.451567018175092],\n",
    "         [11.3331601753656, 4.698192983269555]\n",
    "        ]\n",
    "\n",
    "min_radius = 4.698192983269555\n",
    "epsilon_delta_constraint = 1500.0\n",
    "c_s_upper_constraint = 1.0"
   ]
  },
  {
   "cell_type": "code",
   "execution_count": null,
   "id": "c9cfa08d-3ba0-46f7-9828-8557005a375a",
   "metadata": {},
   "outputs": [],
   "source": [
    "# Plotting minimum radius vs EoS parameters\n",
    "\n",
    "fig, ax = plt.subplots(figsize = (8, 8))\n",
    "\n",
    "ax.set_title(r\"Minimum radius (km) vs $\\epsilon_{\\Delta}$ and $c_{s,\\,\\mathrm{upper}}$ for piecewise extremal EoS\",\n",
    "             fontsize = 15\n",
    "            );\n",
    "\n",
    "ax.set_xlabel(r\"$\\epsilon_{\\Delta}\\,\\left(\\frac{\\mathrm{MeV}}{\\mathrm{fm}^3}\\right)$\",\n",
    "              fontsize = 15);\n",
    "\n",
    "ax.set_ylabel(r\"$c_{s,\\,\\mathrm{upper}}\\,\\left(c\\right)$\", fontsize = 15);\n",
    "ax.set_xlim(50, 1600);\n",
    "ax.set_ylim(-0.1, 1.1);\n",
    "radius_contour = ax.contour(epsilon_delta, c_s_upper, radii);\n",
    "ax.clabel(radius_contour);\n",
    "\n",
    "# Saving plot if result is notable\n",
    "plt.savefig(\"min_radius_vs_epsilon_delta_and_c_s_upper.jpg\", bbox_inches = \"tight\");\n",
    "plt.savefig(\"min_radius_vs_epsilon_delta_and_c_s_upper.pdf\", bbox_inches = \"tight\");"
   ]
  },
  {
   "cell_type": "code",
   "execution_count": null,
   "id": "407449f1-756f-490a-b698-f88db1170e38",
   "metadata": {},
   "outputs": [],
   "source": [
    "# Adding units\n",
    "epsilon_delta *= 1 * u.MeV / (1 * u.fm) ** 3\n",
    "radii *= 1 * u.km\n",
    "\n",
    "min_radius *= 1 * u.km\n",
    "epsilon_delta_constraint *= 1 * u.MeV / (1 * u.fm) ** 3"
   ]
  },
  {
   "cell_type": "code",
   "execution_count": null,
   "id": "2ac79cec-ce3f-46fd-85d5-e6866aa52e57",
   "metadata": {},
   "outputs": [],
   "source": [
    "# Displaying minimum radius and corresponding EoS parameters\n",
    "print(f\"The minimum radius is {min_radius:.3f}.\")\n",
    "print(f\"The value of epsilon_delta that minimizes the radius is {epsilon_delta_constraint:.3f}.\")\n",
    "print(f\"The value of c_s_upper that minimizes the radius is {c_s_upper_constraint:.3f}.\")"
   ]
  },
  {
   "cell_type": "code",
   "execution_count": null,
   "id": "2df2239d-e684-42ae-9f42-c00f7bc6b761",
   "metadata": {},
   "outputs": [],
   "source": [
    "# Printing the results\n",
    "print(\"radii:\")\n",
    "print(radii)\n",
    "print(\"epsilon_delta:\")\n",
    "print(epsilon_delta)\n",
    "print(\"c_s_upper:\")\n",
    "print(c_s_upper)"
   ]
  },
  {
   "cell_type": "code",
   "execution_count": null,
   "id": "566ee5c4-6f51-4ffc-b326-2aaf7cd9456b",
   "metadata": {},
   "outputs": [],
   "source": [
    "# Calculating runtime\n",
    "end_time = time.time()\n",
    "elapsed_time = end_time - start_time\n",
    "print(f\"Elapsed time: {elapsed_time} seconds\")"
   ]
  }
 ],
 "metadata": {
  "kernelspec": {
   "display_name": "Python 3 (ipykernel)",
   "language": "python",
   "name": "python3"
  },
  "language_info": {
   "codemirror_mode": {
    "name": "ipython",
    "version": 3
   },
   "file_extension": ".py",
   "mimetype": "text/x-python",
   "name": "python",
   "nbconvert_exporter": "python",
   "pygments_lexer": "ipython3",
   "version": "3.10.13"
  }
 },
 "nbformat": 4,
 "nbformat_minor": 5
}
