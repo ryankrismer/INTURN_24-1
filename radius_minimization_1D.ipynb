{
 "cells": [
  {
   "cell_type": "markdown",
   "id": "04da24ec-01de-4902-b8c0-7100f7613a76",
   "metadata": {},
   "source": [
    "# Minimizing the radius of an extremal EoS -- varying $\\epsilon_{\\Delta}$"
   ]
  },
  {
   "cell_type": "code",
   "execution_count": 1,
   "id": "22d21f7a-204e-4123-8c14-bedb11e61442",
   "metadata": {},
   "outputs": [],
   "source": [
    "# For measuring runtime\n",
    "import time\n",
    "start_time = time.time()"
   ]
  },
  {
   "cell_type": "code",
   "execution_count": 2,
   "id": "05d19f39-8776-4f24-9ce8-12650163d337",
   "metadata": {},
   "outputs": [],
   "source": [
    "import numpy as np\n",
    "from scipy.integrate import solve_ivp, odeint, quad\n",
    "from astropy.constants import G, c\n",
    "from numpy import pi\n",
    "import astropy.units as u\n",
    "import matplotlib.pyplot as plt\n",
    "import sys\n",
    "import math\n",
    "np.set_printoptions(threshold=sys.maxsize)\n",
    "from scipy import optimize\n",
    "from sympy import symbols, diff"
   ]
  },
  {
   "cell_type": "code",
   "execution_count": 3,
   "id": "74f45514-ab81-46a2-8111-8d8f80b5d9a8",
   "metadata": {},
   "outputs": [
    {
     "name": "stdout",
     "output_type": "stream",
     "text": [
      "6.7199660587126e-45 1 / MeV2\n"
     ]
    }
   ],
   "source": [
    "# Using natural units\n",
    "# 197 MeV * fm = 1\n",
    "# 1 fm = 1 / (197 MeV)\n",
    "# 3e8 m = 1 s\n",
    "# 3e8 m / s = 1\n",
    "# 1 J = 1 kg * (m / s)^2\n",
    "# 1 J = 1 / 9e16 kg\n",
    "\n",
    "natural = [(u.MeV, u.fm ** (-1), lambda fm_inverse: 1 / 197 * fm_inverse, lambda MeV: 197 * MeV),\n",
    "           (u.m, u.s, lambda s: 1 / c.value * s, lambda m: c.value * m),\n",
    "           (u.kg, u.J, lambda J: c.value ** 2 * J, lambda kg: 1 / c.value ** 2 * kg),\n",
    "           (u.m / u.s, u.dimensionless_unscaled, lambda dimensionless: 1 / c.value * dimensionless, lambda v: c.value * v),\n",
    "           (u.fm, u.MeV ** (-1), lambda MeV_inverse: 1 / 197 * MeV_inverse, lambda fm: 197 * fm)\n",
    "          ]\n",
    "\n",
    "G = (G.value * (1 * u.m / u.s).to(u.dimensionless_unscaled, equivalencies = natural) ** 2 * (1 * u.m).to(u.fm).to(1 / u.MeV, equivalencies = natural) / (1 * u.kg).to(u.J, equivalencies = natural).to(u.MeV))\n",
    "print(G)\n",
    "G = G.value"
   ]
  },
  {
   "cell_type": "markdown",
   "id": "ad156571-647b-4425-8c1f-6d6dc9b56c9e",
   "metadata": {},
   "source": [
    "## Functions to find numerical EoS arrays for Fermi gas and strong interaction given some number density (in natural units)"
   ]
  },
  {
   "cell_type": "code",
   "execution_count": 4,
   "id": "a85628f9-c820-4a62-a516-e994ca465b3e",
   "metadata": {},
   "outputs": [],
   "source": [
    "# Non-rest-mass energy E\n",
    "def find_E(num_density):\n",
    "    result = a * (num_density / n_0) ** alpha + b * (num_density / n_0) ** beta\n",
    "    return result\n",
    "\n",
    "# Energy density epsilon\n",
    "def find_epsilon(num_density):\n",
    "    E = find_E(num_density)\n",
    "    result = num_density * (E + m_N)\n",
    "    return result\n",
    "\n",
    "# Chemical potential\n",
    "def find_chem_potential(num_density):\n",
    "    result = a * (alpha + 1) * (num_density / n_0) ** alpha + b * (beta + 1) * (num_density / n_0) ** beta + m_N\n",
    "    return result\n",
    "\n",
    "# Pressure\n",
    "def find_pressure(num_density, epsilon_D):\n",
    "    epsilon = find_epsilon(num_density)\n",
    "    chem_potential = find_chem_potential(num_density)\n",
    "\n",
    "    epsilon_Delta = epsilon_D * u.MeV / (1 * u.fm).to(1 / u.MeV, equivalencies = natural) ** 3\n",
    "    \n",
    "    num_density_c = num_density_from_energy_density(epsilon_c.value) * u.MeV ** 3\n",
    "    chem_potential_c = find_chem_potential(num_density_c)\n",
    "    pressure_c = - epsilon_c + chem_potential_c * num_density_c\n",
    "    \n",
    "    # Piece-wise extremal EoS\n",
    "    if epsilon.value < epsilon_c.value:\n",
    "        result = - epsilon + chem_potential * num_density    # Gandolfi nuclear EoS\n",
    "    else:\n",
    "        if epsilon.value < epsilon_Delta.value:\n",
    "            result = pressure_c    # Flat EoS\n",
    "        else:\n",
    "            result = pressure_c + (epsilon - epsilon_Delta)    # EoS slope = 1\n",
    "    \n",
    "    return result"
   ]
  },
  {
   "cell_type": "code",
   "execution_count": 5,
   "id": "7385c8d9-c140-4074-9358-8c10f63104eb",
   "metadata": {},
   "outputs": [],
   "source": [
    "# Finding number density as a function of energy density\n",
    "\n",
    "def energy_density_minus_target_epsilon(n, target_epsilon):\n",
    "    n = n * u.MeV ** 3\n",
    "    result = find_epsilon(n).value - target_epsilon\n",
    "    return result\n",
    "\n",
    "def num_density_from_energy_density(epsilon):\n",
    "    b = 10 ** 12\n",
    "    if energy_density_minus_target_epsilon(0, epsilon) > 0:\n",
    "        print(f\"find_epsilon is {find_epsilon(0 * u.MeV ** 3)} and epsilon is {epsilon}.\")\n",
    "        return\n",
    "    result = optimize.brentq(energy_density_minus_target_epsilon,\n",
    "                             0,\n",
    "                             b,\n",
    "                             args = (epsilon,))\n",
    "    return result"
   ]
  },
  {
   "cell_type": "markdown",
   "id": "e90c44c9-3089-4939-b97f-0304b6eed950",
   "metadata": {
    "jp-MarkdownHeadingCollapsed": true
   },
   "source": [
    "## Plotting the EoS"
   ]
  },
  {
   "cell_type": "code",
   "execution_count": 6,
   "id": "a55a62fa-b5fe-4c7e-a4b0-1fb921324047",
   "metadata": {},
   "outputs": [],
   "source": [
    "# epsilon = []\n",
    "# pressure = []\n",
    "\n",
    "# n = np.logspace(-0.3, 1, num = 200) * n_0\n",
    "\n",
    "# for num_density in n:\n",
    "#     epsilon_in_MeV = find_epsilon(num_density).value\n",
    "#     epsilon_in_MeV_and_fm = epsilon_in_MeV * (1 * u.MeV).to(1 / u.fm, equivalencies = natural) ** 3\n",
    "#     epsilon.append(epsilon_in_MeV_and_fm.value)\n",
    "#     pressure_in_MeV = find_pressure(num_density, epsilon_D).value\n",
    "#     pressure_in_MeV_and_fm = pressure_in_MeV * (1 * u.MeV).to(1 / u.fm, equivalencies = natural) ** 3\n",
    "#     pressure.append(pressure_in_MeV_and_fm.value)"
   ]
  },
  {
   "cell_type": "code",
   "execution_count": 7,
   "id": "0f34c00d-d829-498a-932e-54d83df19009",
   "metadata": {},
   "outputs": [],
   "source": [
    "# fig, ax = plt.subplots(figsize = (8, 8))\n",
    "\n",
    "# epsilon_c_MeV_and_fm = epsilon_c * (1 * u.MeV).to(1 / u.fm, equivalencies = natural) ** 3\n",
    "# epsilon_delta_MeV_and_fm = epsilon_delta * (1 * u.MeV).to(1 / u.fm, equivalencies = natural) ** 3\n",
    "# ax.set_title(\"Equation of state\", fontsize = 15);\n",
    "# ax.set_xlabel(r\"$\\mathrm{Energy\\,density}\\,\\epsilon\\,\\left(\\mathrm{MeV/\\,fm^3}\\right)$\", fontsize = 15);\n",
    "# ax.set_ylabel(r\"$\\mathrm{Pressure\\,\\left(MeV/\\,fm^3\\right)}$\", fontsize = 15);\n",
    "# ax.set_xlim(0, epsilon_delta_MeV_and_fm.value + 25);\n",
    "# ax.set_ylim(0, 25);\n",
    "# ax.plot(epsilon, pressure, label = \"EoS\");\n",
    "# ax.axvline(x = epsilon_c_MeV_and_fm.value, color = \"red\", linewidth = 0.5, label = r\"$\\epsilon_{c}=150\\,\\mathrm{MeV/\\,fm^3}$\");\n",
    "# ax.axvline(x = epsilon_delta_MeV_and_fm.value, color = \"green\", linewidth = 0.5, label = r\"$\\epsilon_{\\Delta}=650\\,\\mathrm{MeV/\\,fm^3}$\");\n",
    "# ax.legend(fontsize = 15);\n",
    "\n",
    "# plt.savefig(\"Piecewise_EoS.pdf\", bbox_inches = \"tight\");\n",
    "# plt.savefig(\"Piecewise_EoS.jpg\", bbox_inches = \"tight\");"
   ]
  },
  {
   "cell_type": "markdown",
   "id": "978fd0f7-6052-48e3-88de-76fdd236cb42",
   "metadata": {},
   "source": [
    "## Generalized TOV"
   ]
  },
  {
   "cell_type": "code",
   "execution_count": 8,
   "id": "e984e37b-8156-4c59-99f1-5f3145974816",
   "metadata": {},
   "outputs": [],
   "source": [
    "# r = distance from center\n",
    "# m = cumulative mass enclosed within distance r from center\n",
    "# p = pressure at distance r from center\n",
    "# epsilon = energy density at distance r from center\n",
    "\n",
    "# TOV coded to be compatible w/ cgs units, but can't explicitly give units in code b/c solve_ivp() throws errors\n",
    "\n",
    "def TOV(r, p_and_m, epsilon_D):\n",
    "    p = p_and_m[0]\n",
    "    m = p_and_m[1]\n",
    "    if num_density_from_pressure(p, r, epsilon_D) is None:\n",
    "        return [0, 0]\n",
    "    n = num_density_from_pressure(p, r, epsilon_D) * u.MeV ** 3\n",
    "    epsilon = find_epsilon(n).value\n",
    "    print(f\"number density is {n}\")\n",
    "    rel_factors = (1 + p / epsilon) * (1 + 4 * pi * r ** 3 * p / m) * (1 - 2 * G * m / r) ** (-1)\n",
    "    p_result = - G * epsilon * m / r ** 2 * rel_factors\n",
    "    m_result = 4 * pi * r ** 2 * epsilon\n",
    "    return [p_result, m_result]"
   ]
  },
  {
   "cell_type": "code",
   "execution_count": 9,
   "id": "147529a1-8ebc-4e11-86a7-6036853a29d2",
   "metadata": {},
   "outputs": [],
   "source": [
    "# Finding number density as a function of pressure\n",
    "\n",
    "def pressure_minus_target_p(n, target_p, epsilon_D):\n",
    "    n = n * u.MeV ** 3\n",
    "    result = find_pressure(n, epsilon_D).value - target_p\n",
    "    return result\n",
    "\n",
    "# Global variable so it can be modified when n_high needs to be increased later\n",
    "pressure_brentq_b = 10 ** 8\n",
    "\n",
    "def num_density_from_pressure(p, r, epsilon_D):\n",
    "    if pressure_minus_target_p(0, p, epsilon_D) > 0:\n",
    "        print(f\"Distance from center is {(r / u.MeV).to(u.fm, equivalencies = natural).to(u.km)}, w/ find_pressure {find_pressure(0 * u.MeV ** 3, epsilon_D)} and p {p}.\")\n",
    "        return\n",
    "    result = optimize.brentq(pressure_minus_target_p,\n",
    "                             0,\n",
    "                             pressure_brentq_b,\n",
    "                             args = (p, epsilon_D))\n",
    "    return result"
   ]
  },
  {
   "cell_type": "markdown",
   "id": "f3994abc-9453-45c4-900d-2a6dcc613850",
   "metadata": {},
   "source": [
    "### Setting central cumulative mass initial condition"
   ]
  },
  {
   "cell_type": "code",
   "execution_count": 10,
   "id": "6256271a-246b-4a0a-ae69-6f3235c800ce",
   "metadata": {},
   "outputs": [],
   "source": [
    "def M_from_r_and_rho(r, rho):\n",
    "    result = 4 * pi * rho * r ** 3 / 3\n",
    "    return result"
   ]
  },
  {
   "cell_type": "markdown",
   "id": "39f77127-f415-4c2a-bf5f-e73f047f7c6e",
   "metadata": {},
   "source": [
    "### TOV solver function"
   ]
  },
  {
   "cell_type": "code",
   "execution_count": 11,
   "id": "4ba3d460-96f2-4006-bb26-311cded0dc29",
   "metadata": {},
   "outputs": [],
   "source": [
    "# Keep this for all EoS\n",
    "\n",
    "def solve_TOV(n_central, p_central, epsilon_D):\n",
    "    epsilon_central = find_epsilon(n_central * u.MeV ** 3).value\n",
    "    m_central = M_from_r_and_rho(small_r, epsilon_central)\n",
    "    def reached_surface(t, y, *args):\n",
    "        return y[0]\n",
    "\n",
    "    reached_surface.terminal = True\n",
    "    reached_surface.direction = -1\n",
    "    \n",
    "    solution = solve_ivp(TOV,\n",
    "                         [small_r, R_attempt],\n",
    "                         [p_central, m_central],\n",
    "                         events = reached_surface,\n",
    "                         args = (epsilon_D,)\n",
    "                        )\n",
    "\n",
    "    distance_from_center = (solution.t / u.MeV).to(u.fm, equivalencies = natural).to(u.km)\n",
    "    print(f\"Mass is {(solution.y[1][-1] * u. MeV).to(u.J).to(u.kg, equivalencies = natural).to(u.solMass):.3f}.\")\n",
    "    cumulative_mass = (solution.y[1] * u.MeV).to(u.J).to(u.kg, equivalencies = natural).to(u.solMass)\n",
    "    pressure = solution.y[0]\n",
    "\n",
    "    result = distance_from_center, cumulative_mass, pressure\n",
    "    return result"
   ]
  },
  {
   "cell_type": "markdown",
   "id": "ee718fe8-194a-4b2c-9a25-b1bc7b1b5a80",
   "metadata": {},
   "source": [
    "### Setting constants for solving TOV"
   ]
  },
  {
   "cell_type": "code",
   "execution_count": 12,
   "id": "e2202f68-fa48-4cad-bf99-eaddbe38fcfb",
   "metadata": {},
   "outputs": [],
   "source": [
    "# Everything in natural units unless otherwise specified\n",
    "# r_small cannot be 0 b/c it would cause a singularity.\n",
    "\n",
    "small_r = (0.1 * u.km).to(u.fm).to(1 / u.MeV, equivalencies = natural).value\n",
    "m_N = 939.565 * u.MeV    # Natural units\n",
    "n_0 = 0.16 / (1 * u.fm).to(1 / u.MeV, equivalencies = natural) ** 3    # Nuclear saturation density\n",
    "\n",
    "# Setting nuclear parameters (from Gandolfi et. al.)\n",
    "a = 13.0 * u.MeV\n",
    "alpha = 0.49\n",
    "b = 3.21 * u.MeV\n",
    "beta = 2.47\n",
    "\n",
    "# Setting critical energy density corresponding to n_0 for piece-wise EoS\n",
    "epsilon_c_value = 150    # In MeV / fm^3\n",
    "epsilon_c = epsilon_c_value * u.MeV / (1 * u.fm).to(1 / u.MeV, equivalencies = natural) ** 3\n",
    "# Note: need to specify epsilon_delta before solving TOV for piece-wise EoS"
   ]
  },
  {
   "cell_type": "markdown",
   "id": "4e04d6cd-b418-4496-97a0-0910b627ab4a",
   "metadata": {},
   "source": [
    "### Horizontal axis scale"
   ]
  },
  {
   "cell_type": "code",
   "execution_count": 13,
   "id": "74ccf20c-bef9-4a07-8197-f862ee35cf20",
   "metadata": {},
   "outputs": [],
   "source": [
    "# Everything in natural units unless otherwise specified\n",
    "\n",
    "R_attempt = (100 * u.km).to(u.fm).to(1 / u.MeV, equivalencies = natural).value"
   ]
  },
  {
   "cell_type": "markdown",
   "id": "d1a2e8f3-d1b9-48b9-812a-a894558ae468",
   "metadata": {
    "jp-MarkdownHeadingCollapsed": true
   },
   "source": [
    "### Solving TOV example"
   ]
  },
  {
   "cell_type": "code",
   "execution_count": 14,
   "id": "c19b4639-b6c0-411b-a9ec-e49a8780d3fe",
   "metadata": {},
   "outputs": [],
   "source": [
    "# # Nuclear saturation number density is 0.16 fm^(-3)\n",
    "# n_central = 7 * n_0\n",
    "# print(f\"{n_0:.3e}\")\n",
    "# p_central = find_pressure(n_central, epsilon_D).value\n",
    "# print(f\"p_central is {p_central}\")\n",
    "# distance_from_center, cumulative_mass, pressure = solve_TOV(n_central.value, p_central)"
   ]
  },
  {
   "cell_type": "code",
   "execution_count": 15,
   "id": "a4da0560-1ce6-4dbb-bd25-29c2a535c13c",
   "metadata": {},
   "outputs": [],
   "source": [
    "# fig, [ax1, ax2] = plt.subplots(nrows = 1, ncols = 2, figsize = (16, 8))\n",
    "\n",
    "# ax1.set_title(\"Cumulative mass vs distance from center\", fontsize = 18);\n",
    "# ax1.set_xlabel(\"Distance from center (km)\", fontsize = 18);\n",
    "# ax1.set_ylabel(r\"Cumulative mass ($\\mathrm{M_{\\odot}}$)\", fontsize = 18);\n",
    "# # ax1.set_xlim(0, 20);\n",
    "# # ax1.set_ylim(0, 0.6);\n",
    "# ax1.plot(distance_from_center, cumulative_mass);\n",
    "# ax2.set_title(\"Pressure vs distance from center\", fontsize = 18);\n",
    "# ax2.set_xlabel(\"Distance from center (km)\", fontsize = 18);\n",
    "# ax2.set_ylabel(r\"Pressure $\\left(\\mathrm{MeV/\\,fm^3}\\right)$\", fontsize = 18);\n",
    "# # ax2.set_xlim(0, 20);\n",
    "# ax2.plot(distance_from_center, pressure);"
   ]
  },
  {
   "cell_type": "code",
   "execution_count": 16,
   "id": "77d3c880-f6d5-46f9-b27d-e7153c67a2d2",
   "metadata": {},
   "outputs": [],
   "source": [
    "# print(f\"Mass is {np.max(cumulative_mass):.2f}.\")"
   ]
  },
  {
   "cell_type": "markdown",
   "id": "d69c7fd1-f41f-4052-be5d-3accbae91d10",
   "metadata": {},
   "source": [
    "## Finding radius for $2.00\\,M_{\\odot}$"
   ]
  },
  {
   "cell_type": "code",
   "execution_count": 17,
   "id": "2b292dcf-1f4b-4c7d-b3d1-018adc367792",
   "metadata": {},
   "outputs": [],
   "source": [
    "# Function to find mass and radius for particular number density\n",
    "def find_mass_radius(num_density, epsilon_D):\n",
    "    # Solving TOV\n",
    "    p_central = find_pressure(num_density, epsilon_D).value\n",
    "    distance_from_center, cumulative_mass, _ = solve_TOV(num_density.value, p_central, epsilon_D)\n",
    "    print(f\"Solved TOV for epsilon_delta {epsilon_D} MeV / fm^3\")\n",
    "\n",
    "    # Removing NaN and inf values\n",
    "    cumulative_mass = cumulative_mass[~np.isnan(cumulative_mass)]\n",
    "    cumulative_mass = cumulative_mass[~np.isinf(cumulative_mass)]\n",
    "\n",
    "    # Picking out single values\n",
    "    mass = cumulative_mass[-1].value\n",
    "    radius = distance_from_center[-1].value\n",
    "    \n",
    "    return mass, radius"
   ]
  },
  {
   "cell_type": "code",
   "execution_count": 18,
   "id": "f8292883-281c-4807-a269-3b22768bfdaa",
   "metadata": {},
   "outputs": [],
   "source": [
    "# Function to find mass residual and closest density\n",
    "def find_mass_residual(mass_low, mass_high, n_low, n_high):\n",
    "    if target_mass - mass_low < mass_high - target_mass:\n",
    "        mass_closest = mass_low\n",
    "        n_closest = n_low\n",
    "    else:\n",
    "        mass_closest = mass_high\n",
    "        n_closest = n_high\n",
    "    \n",
    "    mass_residual = target_mass - mass_closest\n",
    "\n",
    "    return mass_residual, n_closest"
   ]
  },
  {
   "cell_type": "code",
   "execution_count": 19,
   "id": "3ee8ce4a-a0e6-42f5-ad0c-035840f1151b",
   "metadata": {},
   "outputs": [],
   "source": [
    "# Setting initial densities and default increment direction\n",
    "n_low = n_0    # Undershoot\n",
    "n_high = 8 * n_0    # Overshoot\n",
    "direction = 1    # For low mass_high errors: +1 means increase, -1 means decrease"
   ]
  },
  {
   "cell_type": "code",
   "execution_count": 20,
   "id": "2a0768ad-56c1-495f-a594-e7d7dc27ff76",
   "metadata": {},
   "outputs": [],
   "source": [
    "# Function to find the radius of a 2.00 solar mass neutron star using linear interpolation\n",
    "def find_radius(epsilon_D):\n",
    "    # Specifying that we're working w/ external variables\n",
    "    global n_low\n",
    "    global n_high\n",
    "    global pressure_brentq_b\n",
    "    global direction\n",
    "    \n",
    "    print(f\"n_low is {n_low}\")\n",
    "    print(f\"n_high is {n_high}\")\n",
    "    \n",
    "    # Initial mass and radius outputs\n",
    "    mass_low, radius_low = find_mass_radius(n_low, epsilon_D)\n",
    "    mass_high, radius_high = find_mass_radius(n_high, epsilon_D)\n",
    "    \n",
    "    # Ensuring there's not a problem\n",
    "    if target_mass - mass_low < 0:\n",
    "        print(\"Error: mass_low greater than target mass\")\n",
    "        raise KeyboardInterrupt\n",
    "    \n",
    "    # Initializing the empty arrays of previous mass_high and n_high values to be filled in the loop\n",
    "    previous_mass_highs = []\n",
    "    previous_n_highs = []\n",
    "\n",
    "    # Saving initial mass_high and n_high\n",
    "    previous_mass_highs.append(mass_high)\n",
    "    previous_n_highs.append(n_high.copy())\n",
    "    print(f\"previous_mass_highs: {previous_mass_highs}\")\n",
    "    print(f\"previous_n_highs: {previous_n_highs}\")\n",
    "    \n",
    "    while mass_high - target_mass < 0:\n",
    "        print(\"Error: mass_high less than target mass\")\n",
    "        \n",
    "        # Note: both increments below are 1/8 of the initial values\n",
    "        n_high += speed * direction * n_0    # Increasing n_high to avoid mass_high error, when necessary\n",
    "        pressure_brentq_b += direction * 1.25 * 10 ** 7    # Increasing pressure_brentq_b when n_high increased to avoid brentq sign error\n",
    "        print(f\"n_high is {n_high}\")\n",
    "        \n",
    "        mass_high, radius_high = find_mass_radius(n_high, epsilon_D)\n",
    "\n",
    "        # Saving previous mass_high and n_high in local arrays in case direction needs reversing\n",
    "        previous_mass_highs.append(mass_high)\n",
    "        previous_n_highs.append(n_high.copy())\n",
    "        print(f\"previous_mass_highs: {previous_mass_highs}\")\n",
    "        print(f\"previous_n_highs: {previous_n_highs}\")\n",
    "        \n",
    "        # Reversing direction of increments if default incrementing stops working\n",
    "        if mass_high < previous_mass_highs[-2]:\n",
    "            direction *= -1\n",
    "\n",
    "            # Checking for oscillation\n",
    "            if np.size(previous_mass_highs) > 2:\n",
    "                # Finding 3 calculated points in oscillation\n",
    "                y2 = np.max(previous_mass_highs)\n",
    "                max_index = np.where(previous_mass_highs == y2)[0][0]\n",
    "                x2 = previous_n_highs[max_index].value\n",
    "                x1 = previous_n_highs[max_index - 1].value\n",
    "                y1 = previous_mass_highs[max_index - 1]\n",
    "                x3 = previous_n_highs[max_index + 1].value\n",
    "                y3 = previous_mass_highs[max_index + 1]\n",
    "                print(f\"x1 = {x1}\")\n",
    "                print(f\"x2 = {x2}\")\n",
    "                print(f\"x3 = {x3}\")\n",
    "                print(f\"y1 = {y1}\")\n",
    "                print(f\"y2 = {y2}\")\n",
    "                print(f\"y3 = {y3}\")\n",
    "\n",
    "                # Fitting parabola parameters\n",
    "                b_parab = ((y3 - y2) * (x2 ** 2 - x1 ** 2) / (x2 ** 2 - x3 ** 2) + y2 - y1) / ((x1 ** 2 - x2 ** 2) / (x2 + x3) + x2 - x1)\n",
    "                a_parab = (b_parab * x3 - y3 - b_parab * x2 + y2) / (x2 ** 2 - x3 ** 2)\n",
    "                c_parab = y1 - a_parab * x1 ** 2 - b_parab * x1\n",
    "                print(f\"a_parab = {a_parab}\")\n",
    "                print(f\"b_parab = {b_parab}\")\n",
    "                print(f\"c_parab = {c_parab}\")\n",
    "\n",
    "                # Calculating maximum mass from parabola\n",
    "                x_max = - b_parab / 2 / a_parab\n",
    "                print(f\"x_max = {x_max}\")\n",
    "                max_parab = a_parab * x_max ** 2 + b_parab * x_max + c_parab\n",
    "                print(f\"max_parab = {max_parab}\")\n",
    "\n",
    "                # Checking whether maximum mass from parabola is less than or greater than 2.00 solar masses\n",
    "                if max_parab < target_mass:\n",
    "                    radius_result = None\n",
    "                    epsilon_delta_sub_2 = epsilon_D * u.MeV / (1 * u.fm) ** 3    # In sub-2 case, current value of epsilon_delta should be noted as such\n",
    "                    return radius_result, epsilon_delta_sub_2\n",
    "\n",
    "                # In over-2 case, set n_high using parabola\n",
    "                else:\n",
    "                    d_parab = c_parab - target_mass    # For finding where mass = target_mass using parabola\n",
    "                    # Lower root is preferred to maintain consistency with linear interpolation method\n",
    "                    n_high_value = - (b_parab - np.sqrt(b_parab ** 2 - 4 * a_parab * d_parab)) / 2 / a_parab\n",
    "                    n_high = n_high_value * u.MeV ** 3\n",
    "                    print(f\"n_high = {n_high}\")\n",
    "                    mass_high, radius_high = find_mass_radius(n_high, epsilon_D)\n",
    "\n",
    "                    # Verifying that mass_high is now greater than or equal to 2.00 solar masses\n",
    "                    if mass_high - target_mass > 0:\n",
    "                        break\n",
    "                    else:\n",
    "                        print(\"Error: mass_high less than target_mass after parabola fitting\")\n",
    "                        raise KeyboardInterrupt\n",
    "    \n",
    "    # Finding initial mass residual and closest density\n",
    "    mass_residual, n_closest = find_mass_residual(mass_low, mass_high, n_low, n_high)\n",
    "    \n",
    "    # If one of the threshold values already yielded 2.00 solar masses\n",
    "    if np.abs(mass_residual) < 0.005:\n",
    "        if np.abs(mass_high - target_mass) < 0.005:\n",
    "            radius_result = radius_high\n",
    "    \n",
    "        else:\n",
    "            if np.abs(mass_low - target_mass) < 0.005:\n",
    "                radius_result = radius_low\n",
    "    \n",
    "    # Repeating until 2.00 solar masses\n",
    "    while np.abs(mass_residual) > 0.005:\n",
    "        # Updating density input using linear interpolation\n",
    "        slope = (n_high - n_low) / (mass_high - mass_low)\n",
    "        n_attempt = slope * mass_residual + n_closest\n",
    "    \n",
    "        # Finding new mass and radius outputs\n",
    "        mass_result, radius_result = find_mass_radius(n_attempt, epsilon_D)\n",
    "        print(f\"radius result is {radius_result} km\")\n",
    "    \n",
    "        # Updating interpolation values\n",
    "        if mass_result > mass_low and mass_result < target_mass:\n",
    "            mass_low = mass_result\n",
    "            n_low = n_attempt\n",
    "        else:\n",
    "            if mass_result < mass_high and mass_result > target_mass:\n",
    "                mass_high = mass_result\n",
    "                n_high = n_attempt\n",
    "            # Just in case it goes over the parabola peak\n",
    "            else:\n",
    "                if mass_result > mass_high:\n",
    "                    mass_high = mass_result\n",
    "                    n_high = n_attempt\n",
    "    \n",
    "        # Updating mass residual and closest density\n",
    "        mass_residual, n_closest = find_mass_residual(mass_low, mass_high, n_low, n_high)\n",
    "    \n",
    "    # Recording radius for 2.00 solar masses\n",
    "    print(f\"The radius is {radius_result:.3f} km.\")\n",
    "    epsilon_delta_2 = epsilon_D * u.MeV / (1 * u.fm) ** 3\n",
    "    \n",
    "    return radius_result, epsilon_delta_2"
   ]
  },
  {
   "cell_type": "markdown",
   "id": "a532e42c-6a7c-4115-b9af-94c2176702e0",
   "metadata": {},
   "source": [
    "## Minimizing radius of $2.00\\,M_{\\odot}$ neutron star"
   ]
  },
  {
   "cell_type": "code",
   "execution_count": 21,
   "id": "761253bc-a4c6-42dd-88e7-87c260c6f389",
   "metadata": {},
   "outputs": [],
   "source": [
    "# Setting target mass\n",
    "target_mass = 2.00    # In solar masses"
   ]
  },
  {
   "cell_type": "code",
   "execution_count": 22,
   "id": "0e239b31-81f0-412f-bd8b-7c36cabd3ec3",
   "metadata": {},
   "outputs": [],
   "source": [
    "# Setting piece-wise EoS parameters to check\n",
    "epsilon_low = epsilon_c_value    # This would mean no flat segment\n",
    "epsilon_high = epsilon_low * 10\n",
    "epsilon_delta = np.linspace(epsilon_low, epsilon_high)\n",
    "\n",
    "# Verifying value of energy density corresponding to n_high is greater than maximum epsilon_delta test value\n",
    "# This is to ensure that the global maximum mass is not missed\n",
    "epsilon_higher = find_epsilon(n_high).value * u.MeV * (1 * u.MeV).to(1 / u.fm, equivalencies = natural) ** 3\n",
    "if (epsilon_higher.value - epsilon_low) / (epsilon_high - epsilon_low) < 1.1:\n",
    "    print(f\"Error: The energy density corresponding to n_high -- {epsilon_higher:.2f} -- is too low.\")\n",
    "    epsilon_higher_ideal = 1.1 * (epsilon_high - epsilon_low) + epsilon_low\n",
    "    print(f\"epsilon_high is {epsilon_high:.2f} MeV / fm3, so the n_high energy density should be {epsilon_higher_ideal:.2f} MeV / fm3.\")\n",
    "    raise KeyboardInterrupt"
   ]
  },
  {
   "cell_type": "code",
   "execution_count": 23,
   "id": "c96d1762-554e-4ad7-9c5d-87e1ca63e4a0",
   "metadata": {},
   "outputs": [],
   "source": [
    "# Creating empty radii and epsilon_delta arrays to be populated during iterations\n",
    "radii = [15.80425336, 14.91201563, 14.182255, 13.55692717, 12.92526509, 12.53221301, 12.01800029, 11.61868911, 10.86291522,\n",
    "         10.56633135, 10.28961551, 10.34569244, 10.0923393, 9.83699624, 9.6010888, 9.35030528, 9.08004747, 8.80819972,\n",
    "         None, None, None, None, None, None, None, None, None, None, None, None, None, None, None, None, None, None, None, None,\n",
    "         None, None, None, None, None, None, None, None, None, None, None, None\n",
    "        ]\n",
    "\n",
    "epsilon_delta_2 = [150, 177.55102041, 205.10204082, 232.65306122, 260.20408163, 287.75510204, 315.30612245, 342.85714286,\n",
    "                   370.40816327, 397.95918367, 425.51020408, 453.06122449, 480.6122449, 508.16326531, 535.71428571, 563.26530612,\n",
    "                   590.81632653, 618.36734694, None, None, None, None, None, None, None, None, None, None, None, None, None, None, None, None, None, None, None, None,\n",
    "                   None, None, None, None, None, None, None, None, None, None, None, None\n",
    "                  ]\n",
    "\n",
    "epsilon_delta_sub_2 = [None, None, None, None, None, None, None, None, None, None, None, None, None, None, None, None, None, None,\n",
    "                       645.91836735, 673.46938776, 701.02040816, 728.57142857, 756.12244898, 783.67346939, 811.2244898,\n",
    "                       838.7755102, 866.32653061, 893.87755102, 921.42857143, 948.97959184, 976.53061224, 1004.08163265,\n",
    "                       1031.63265306, 1059.18367347, 1086.73469388, 1114.28571429, 1141.83673469, 1169.3877551, 1196.93877551,\n",
    "                       1224.48979592, 1252.04081633, 1279.59183673, 1307.14285714, 1334.69387755, 1362.24489796, 1389.79591837,\n",
    "                       1417.34693878, 1444.89795918, 1472.44897959, 1500\n",
    "                      ]\n",
    "\n",
    "# Iterating through EoS parameter array to find radii\n",
    "for i in range(np.size(epsilon_delta)):\n",
    "    radius_value = radii[i]\n",
    "    \n",
    "    if radius_value != 0:\n",
    "        radii[i] = radius_value\n",
    "    else:\n",
    "        epsilon_delta_value = epsilon_delta[i]\n",
    "        radius_result = find_radius(epsilon_delta_value)\n",
    "        radii[i] = radius_result\n",
    "        \n",
    "        if radius_result is not None:\n",
    "            epsilon_delta_2[i] = epsilon_delta_value\n",
    "            epsilon_delta_sub_2[i] = None\n",
    "        else:\n",
    "            epsilon_delta_2[i] = None\n",
    "            epsilon_delta_sub_2[i] = epsilon_delta_value * u.MeV / (1 * u.fm) ** 3"
   ]
  },
  {
   "cell_type": "code",
   "execution_count": 24,
   "id": "43d78954-309f-474c-9dd0-6bb1172a6e39",
   "metadata": {},
   "outputs": [],
   "source": [
    "# Making sure radii and epsilon_delta_2 are numeric arrays so NaN values can be removed\n",
    "radii = np.array(radii, dtype = np.float64)\n",
    "epsilon_delta_2 = np.array(epsilon_delta_2, dtype = np.float64)\n",
    "\n",
    "# Removing NaN values\n",
    "radii = radii[~np.isnan(radii)]\n",
    "epsilon_delta_2 = epsilon_delta_2[~np.isnan(epsilon_delta_2)]"
   ]
  },
  {
   "cell_type": "code",
   "execution_count": 37,
   "id": "c9cfa08d-3ba0-46f7-9828-8557005a375a",
   "metadata": {},
   "outputs": [
    {
     "data": {
      "image/png": "[encoded data removed]",
      "text/plain": [
       "<Figure size 800x800 with 1 Axes>"
      ]
     },
     "metadata": {},
     "output_type": "display_data"
    }
   ],
   "source": [
    "# Plotting radius vs EoS parameter\n",
    "\n",
    "fig, ax = plt.subplots(figsize = (8, 8))\n",
    "\n",
    "ax.set_title(r\"Radius of $2.00\\,\\mathrm{M}_{\\odot}$ neutron stars, $c_{s,\\,\\mathrm{upper}}=1$\",\n",
    "             fontsize = 15\n",
    "            );\n",
    "\n",
    "ax.set_xlabel(r\"$\\epsilon_{\\Delta}\\,\\left(\\frac{\\mathrm{MeV}}{\\mathrm{fm}^3}\\right)$\", fontsize = 15);\n",
    "ax.set_ylabel(\"Radius (km)\", fontsize = 15);\n",
    "ax.set_xlim(125, 800);\n",
    "ax.set_ylim(8.5, 16.25);\n",
    "ax.plot(epsilon_delta_2, radii, \"--o\");\n",
    "\n",
    "# Noting minimum radius and corresponding epsilon_delta value, in km and MeV / fm^3 respectively (found from data below)\n",
    "min_radius = 8.808\n",
    "epsilon_delta_constraint = 618.367\n",
    "\n",
    "ax.plot(epsilon_delta_constraint,\n",
    "        min_radius,\n",
    "        marker = \"*\",\n",
    "        linestyle = \"\",\n",
    "        markersize = 15,\n",
    "        label = r\"Minimum radius $R\\left(\\epsilon_{\\Delta}=618.367\\,\\frac{\\mathrm{MeV}}{\\mathrm{fm}^3}\\right)=8.808\\,\\mathrm{km}$\"\n",
    "       );\n",
    "\n",
    "# Noting unrealistic mass region\n",
    "ax.fill([645.918, 800, 800, 645.918],\n",
    "        [8, 8, 16.5, 16.5],\n",
    "        color = \"grey\",\n",
    "        alpha = 0.5,\n",
    "        label = \"Unrealistic $M_{\\mathrm{max}}<2.00\\,\\mathrm{M}_{\\odot}$\"\n",
    "       );\n",
    "\n",
    "ax.legend(fontsize = 14);\n",
    "\n",
    "# Saving plots if result is notable\n",
    "plt.savefig(\"radius_vs_epsilon_delta.jpg\", bbox_inches = \"tight\");\n",
    "plt.savefig(\"radius_vs_epsilon_delta.pdf\", bbox_inches = \"tight\");"
   ]
  },
  {
   "cell_type": "code",
   "execution_count": 27,
   "id": "407449f1-756f-490a-b698-f88db1170e38",
   "metadata": {},
   "outputs": [],
   "source": [
    "# Adding units\n",
    "epsilon_delta_2 = epsilon_delta_2 * u.MeV / (1 * u.fm) ** 3\n",
    "radii = radii * u.km"
   ]
  },
  {
   "cell_type": "code",
   "execution_count": 28,
   "id": "2ac79cec-ce3f-46fd-85d5-e6866aa52e57",
   "metadata": {},
   "outputs": [
    {
     "name": "stdout",
     "output_type": "stream",
     "text": [
      "The minimum radius of a 2.00 solar mass neutron star is 8.808 km.\n",
      "The value of epsilon_delta that minimizes the radius of a 2.00 solar mass neutron star is 618.367 MeV / fm3.\n"
     ]
    }
   ],
   "source": [
    "# Finding minimum radius and EoS parameter\n",
    "min_radius = np.min(radii)\n",
    "epsilon_delta_constraint = epsilon_delta_2[np.where(radii == min_radius)[0][0]]\n",
    "print(f\"The minimum radius of a 2.00 solar mass neutron star is {min_radius:.3f}.\")\n",
    "print(f\"The value of epsilon_delta that minimizes the radius of a 2.00 solar mass neutron star is {epsilon_delta_constraint:.3f}.\")"
   ]
  },
  {
   "cell_type": "code",
   "execution_count": 29,
   "id": "2df2239d-e684-42ae-9f42-c00f7bc6b761",
   "metadata": {},
   "outputs": [
    {
     "name": "stdout",
     "output_type": "stream",
     "text": [
      "radii:\n",
      "[15.80425336 14.91201563 14.182255   13.55692717 12.92526509 12.53221301\n",
      " 12.01800029 11.61868911 10.86291522 10.56633135 10.28961551 10.34569244\n",
      " 10.0923393   9.83699624  9.6010888   9.35030528  9.08004747  8.80819972] km\n",
      "epsilon_delta_2:\n",
      "[150.         177.55102041 205.10204082 232.65306122 260.20408163\n",
      " 287.75510204 315.30612245 342.85714286 370.40816327 397.95918367\n",
      " 425.51020408 453.06122449 480.6122449  508.16326531 535.71428571\n",
      " 563.26530612 590.81632653 618.36734694] MeV / fm3\n",
      "epsilon_delta_sub_2:\n",
      "[None, None, None, None, None, None, None, None, None, None, None, None, None, None, None, None, None, None, 645.91836735, 673.46938776, 701.02040816, 728.57142857, 756.12244898, 783.67346939, 811.2244898, 838.7755102, 866.32653061, 893.87755102, 921.42857143, 948.97959184, 976.53061224, 1004.08163265, 1031.63265306, 1059.18367347, 1086.73469388, 1114.28571429, 1141.83673469, 1169.3877551, 1196.93877551, 1224.48979592, 1252.04081633, 1279.59183673, 1307.14285714, 1334.69387755, 1362.24489796, 1389.79591837, 1417.34693878, 1444.89795918, 1472.44897959, 1500]\n"
     ]
    }
   ],
   "source": [
    "# Printing the results\n",
    "print(\"radii:\")\n",
    "print(radii)\n",
    "print(\"epsilon_delta_2:\")\n",
    "print(epsilon_delta_2)\n",
    "print(\"epsilon_delta_sub_2:\")\n",
    "print(epsilon_delta_sub_2)"
   ]
  },
  {
   "cell_type": "code",
   "execution_count": null,
   "id": "566ee5c4-6f51-4ffc-b326-2aaf7cd9456b",
   "metadata": {},
   "outputs": [],
   "source": [
    "# Calculating runtime\n",
    "end_time = time.time()\n",
    "elapsed_time = end_time - start_time\n",
    "print(f\"Elapsed time: {elapsed_time} seconds\")"
   ]
  }
 ],
 "metadata": {
  "kernelspec": {
   "display_name": "Python 3 (ipykernel)",
   "language": "python",
   "name": "python3"
  },
  "language_info": {
   "codemirror_mode": {
    "name": "ipython",
    "version": 3
   },
   "file_extension": ".py",
   "mimetype": "text/x-python",
   "name": "python",
   "nbconvert_exporter": "python",
   "pygments_lexer": "ipython3",
   "version": "3.10.13"
  }
 },
 "nbformat": 4,
 "nbformat_minor": 5
}
