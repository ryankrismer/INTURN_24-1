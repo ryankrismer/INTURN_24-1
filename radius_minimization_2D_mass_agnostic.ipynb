{
 "cells": [
  {
   "cell_type": "markdown",
   "id": "04da24ec-01de-4902-b8c0-7100f7613a76",
   "metadata": {},
   "source": [
    "# Minimizing the radius of an extremal EoS -- varying $\\epsilon_{\\Delta}$ and $c_{s,\\,\\mathrm{upper}}$"
   ]
  },
  {
   "cell_type": "code",
   "execution_count": 1,
   "id": "22d21f7a-204e-4123-8c14-bedb11e61442",
   "metadata": {},
   "outputs": [],
   "source": [
    "# For measuring runtime\n",
    "import time\n",
    "start_time = time.time()"
   ]
  },
  {
   "cell_type": "code",
   "execution_count": 2,
   "id": "05d19f39-8776-4f24-9ce8-12650163d337",
   "metadata": {},
   "outputs": [],
   "source": [
    "import numpy as np\n",
    "from scipy.integrate import solve_ivp, odeint, quad\n",
    "from astropy.constants import G, c\n",
    "from numpy import pi\n",
    "import astropy.units as u\n",
    "import matplotlib.pyplot as plt\n",
    "import sys\n",
    "import math\n",
    "np.set_printoptions(threshold=sys.maxsize)\n",
    "from scipy import optimize\n",
    "from sympy import symbols, diff\n",
    "import csv"
   ]
  },
  {
   "cell_type": "code",
   "execution_count": 3,
   "id": "74f45514-ab81-46a2-8111-8d8f80b5d9a8",
   "metadata": {},
   "outputs": [],
   "source": [
    "# Using natural units\n",
    "# 197 MeV * fm = 1\n",
    "# 1 fm = 1 / (197 MeV)\n",
    "# 3e8 m = 1 s\n",
    "# 3e8 m / s = 1\n",
    "# 1 J = 1 kg * (m / s)^2\n",
    "# 1 J = 1 / 9e16 kg\n",
    "\n",
    "natural = [(u.MeV, u.fm ** (-1), lambda fm_inverse: 1 / 197 * fm_inverse, lambda MeV: 197 * MeV),\n",
    "           (u.m, u.s, lambda s: 1 / c.value * s, lambda m: c.value * m),\n",
    "           (u.kg, u.J, lambda J: c.value ** 2 * J, lambda kg: 1 / c.value ** 2 * kg),\n",
    "           (u.m / u.s, u.dimensionless_unscaled, lambda dimensionless: 1 / c.value * dimensionless, lambda v: c.value * v),\n",
    "           (u.fm, u.MeV ** (-1), lambda MeV_inverse: 1 / 197 * MeV_inverse, lambda fm: 197 * fm)\n",
    "          ]\n",
    "\n",
    "G = (G.value * (1 * u.m / u.s).to(u.dimensionless_unscaled, equivalencies = natural) ** 2 * (1 * u.m).to(u.fm).to(1 / u.MeV, equivalencies = natural) / (1 * u.kg).to(u.J, equivalencies = natural).to(u.MeV))\n",
    "G = G.value"
   ]
  },
  {
   "cell_type": "markdown",
   "id": "ad156571-647b-4425-8c1f-6d6dc9b56c9e",
   "metadata": {},
   "source": [
    "## Functions to find numerical EoS arrays for piecewise EoS given some number density (in natural units)"
   ]
  },
  {
   "cell_type": "code",
   "execution_count": 4,
   "id": "a85628f9-c820-4a62-a516-e994ca465b3e",
   "metadata": {},
   "outputs": [],
   "source": [
    "# Non-rest-mass energy E\n",
    "def find_E(num_density):\n",
    "    result = a * (num_density / n_0) ** alpha + b * (num_density / n_0) ** beta\n",
    "    return result\n",
    "\n",
    "# Energy density epsilon\n",
    "def find_epsilon(num_density):\n",
    "    E = find_E(num_density)\n",
    "    result = num_density * (E + m_N)\n",
    "    return result\n",
    "\n",
    "# Chemical potential\n",
    "def find_chem_potential(num_density):\n",
    "    result = a * (alpha + 1) * (num_density / n_0) ** alpha + b * (beta + 1) * (num_density / n_0) ** beta + m_N\n",
    "    return result\n",
    "\n",
    "# Pressure\n",
    "# Pass in epsilon_D in MeV / fm^3\n",
    "def find_pressure(num_density, epsilon_D, c_s_Upper):\n",
    "    epsilon = find_epsilon(num_density)\n",
    "    chem_potential = find_chem_potential(num_density)\n",
    "\n",
    "    epsilon_Delta = epsilon_D * u.MeV / (1 * u.fm).to(1 / u.MeV, equivalencies = natural) ** 3\n",
    "    \n",
    "    num_density_c = num_density_from_energy_density(epsilon_c.value) * u.MeV ** 3\n",
    "    chem_potential_c = find_chem_potential(num_density_c)\n",
    "    pressure_c = - epsilon_c + chem_potential_c * num_density_c\n",
    "    \n",
    "    # Piece-wise extremal EoS\n",
    "    if epsilon.value < epsilon_c.value:\n",
    "        result = - epsilon + chem_potential * num_density    # Gandolfi nuclear EoS\n",
    "    else:\n",
    "        if epsilon.value < epsilon_Delta.value:\n",
    "            result = pressure_c    # Flat EoS\n",
    "        else:\n",
    "            result = pressure_c + c_s_Upper * (epsilon - epsilon_Delta)    # EoS slope = c_s_Upper\n",
    "    \n",
    "    return result"
   ]
  },
  {
   "cell_type": "code",
   "execution_count": 5,
   "id": "7385c8d9-c140-4074-9358-8c10f63104eb",
   "metadata": {},
   "outputs": [],
   "source": [
    "# Finding number density as a function of energy density\n",
    "\n",
    "def energy_density_minus_target_epsilon(n, target_epsilon):\n",
    "    n = n * u.MeV ** 3\n",
    "    result = find_epsilon(n).value - target_epsilon\n",
    "    return result\n",
    "\n",
    "# Takes input parameter epsilon in MeV^4\n",
    "def num_density_from_energy_density(epsilon):\n",
    "    b = 10 ** 12\n",
    "    if energy_density_minus_target_epsilon(0, epsilon) > 0:\n",
    "        print(f\"find_epsilon is {find_epsilon(0 * u.MeV ** 3)} and epsilon is {epsilon}.\")\n",
    "        return\n",
    "    result = optimize.brentq(energy_density_minus_target_epsilon,\n",
    "                             0,\n",
    "                             b,\n",
    "                             args = (epsilon,))\n",
    "    return result"
   ]
  },
  {
   "cell_type": "markdown",
   "id": "e90c44c9-3089-4939-b97f-0304b6eed950",
   "metadata": {
    "jp-MarkdownHeadingCollapsed": true
   },
   "source": [
    "## Plotting the EoS"
   ]
  },
  {
   "cell_type": "code",
   "execution_count": 6,
   "id": "a55a62fa-b5fe-4c7e-a4b0-1fb921324047",
   "metadata": {},
   "outputs": [],
   "source": [
    "# epsilon = []\n",
    "# pressure = []\n",
    "\n",
    "# n = np.logspace(-0.3, 1, num = 200) * n_0\n",
    "\n",
    "# for num_density in n:\n",
    "#     epsilon_in_MeV = find_epsilon(num_density).value\n",
    "#     epsilon_in_MeV_and_fm = epsilon_in_MeV * (1 * u.MeV).to(1 / u.fm, equivalencies = natural) ** 3\n",
    "#     epsilon.append(epsilon_in_MeV_and_fm.value)\n",
    "#     pressure_in_MeV = find_pressure(num_density, epsilon_D).value\n",
    "#     pressure_in_MeV_and_fm = pressure_in_MeV * (1 * u.MeV).to(1 / u.fm, equivalencies = natural) ** 3\n",
    "#     pressure.append(pressure_in_MeV_and_fm.value)"
   ]
  },
  {
   "cell_type": "code",
   "execution_count": 7,
   "id": "0f34c00d-d829-498a-932e-54d83df19009",
   "metadata": {},
   "outputs": [],
   "source": [
    "# fig, ax = plt.subplots(figsize = (8, 8))\n",
    "\n",
    "# epsilon_c_MeV_and_fm = epsilon_c * (1 * u.MeV).to(1 / u.fm, equivalencies = natural) ** 3\n",
    "# epsilon_delta_MeV_and_fm = epsilon_delta * (1 * u.MeV).to(1 / u.fm, equivalencies = natural) ** 3\n",
    "# ax.set_title(\"Equation of state\", fontsize = 15);\n",
    "# ax.set_xlabel(r\"$\\mathrm{Energy\\,density}\\,\\epsilon\\,\\left(\\mathrm{MeV/\\,fm^3}\\right)$\", fontsize = 15);\n",
    "# ax.set_ylabel(r\"$\\mathrm{Pressure\\,\\left(MeV/\\,fm^3\\right)}$\", fontsize = 15);\n",
    "# ax.set_xlim(0, epsilon_delta_MeV_and_fm.value + 25);\n",
    "# ax.set_ylim(0, 25);\n",
    "# ax.plot(epsilon, pressure, label = \"EoS\");\n",
    "# ax.axvline(x = epsilon_c_MeV_and_fm.value, color = \"red\", linewidth = 0.5, label = r\"$\\epsilon_{c}=150\\,\\mathrm{MeV/\\,fm^3}$\");\n",
    "# ax.axvline(x = epsilon_delta_MeV_and_fm.value, color = \"green\", linewidth = 0.5, label = r\"$\\epsilon_{\\Delta}=650\\,\\mathrm{MeV/\\,fm^3}$\");\n",
    "# ax.legend(fontsize = 15);\n",
    "\n",
    "# plt.savefig(\"Piecewise_EoS.pdf\", bbox_inches = \"tight\");\n",
    "# plt.savefig(\"Piecewise_EoS.jpg\", bbox_inches = \"tight\");"
   ]
  },
  {
   "cell_type": "markdown",
   "id": "978fd0f7-6052-48e3-88de-76fdd236cb42",
   "metadata": {},
   "source": [
    "## Generalized TOV"
   ]
  },
  {
   "cell_type": "code",
   "execution_count": 8,
   "id": "e984e37b-8156-4c59-99f1-5f3145974816",
   "metadata": {},
   "outputs": [],
   "source": [
    "# r = distance from center\n",
    "# m = cumulative mass enclosed within distance r from center\n",
    "# p = pressure at distance r from center\n",
    "# epsilon = energy density at distance r from center\n",
    "\n",
    "# TOV coded to be compatible w/ cgs units, but can't explicitly give units in code b/c solve_ivp() throws errors\n",
    "\n",
    "def TOV(r, p_and_m, n_central, epsilon_D, c_s_Upper):\n",
    "    p = p_and_m[0]\n",
    "    m = p_and_m[1]\n",
    "    \n",
    "    if num_density_from_pressure(p, r, n_central, epsilon_D, c_s_Upper) is None:\n",
    "        return [0, 0]\n",
    "        \n",
    "    n = num_density_from_pressure(p, r, n_central, epsilon_D, c_s_Upper) * u.MeV ** 3\n",
    "    epsilon = find_epsilon(n).value\n",
    "    print(f\"number density is {n}\")\n",
    "    rel_factors = (1 + p / epsilon) * (1 + 4 * pi * r ** 3 * p / m) * (1 - 2 * G * m / r) ** (-1)\n",
    "    p_result = - G * epsilon * m / r ** 2 * rel_factors\n",
    "    m_result = 4 * pi * r ** 2 * epsilon\n",
    "    return [p_result, m_result]"
   ]
  },
  {
   "cell_type": "code",
   "execution_count": 9,
   "id": "147529a1-8ebc-4e11-86a7-6036853a29d2",
   "metadata": {},
   "outputs": [],
   "source": [
    "# Finding number density as a function of pressure\n",
    "\n",
    "def pressure_minus_target_p(n, target_p, epsilon_D, c_s_Upper):\n",
    "    n = n * u.MeV ** 3\n",
    "    result = find_pressure(n, epsilon_D, c_s_Upper).value - target_p\n",
    "    return result\n",
    "\n",
    "def find_pressure_brentq_b(n_central):\n",
    "    slope = (0.125 * 10 ** 8) / n_0.value\n",
    "    intercept = 10 ** 8 - slope * 8 * n_0.value\n",
    "    result = slope * n_central + intercept\n",
    "    return result\n",
    "\n",
    "def num_density_from_pressure(p, r, n_central, epsilon_D, c_s_Upper):\n",
    "    if pressure_minus_target_p(0, p, epsilon_D, c_s_Upper) > 0:\n",
    "        print(f\"Distance from center is {(r / u.MeV).to(u.fm, equivalencies = natural).to(u.km)}, w/ find_pressure {find_pressure(0 * u.MeV ** 3, epsilon_D, c_s_Upper)} and p {p}.\")\n",
    "        return\n",
    "\n",
    "    pressure_brentq_b = find_pressure_brentq_b(n_central)\n",
    "    \n",
    "    result = optimize.brentq(pressure_minus_target_p,\n",
    "                             0,\n",
    "                             pressure_brentq_b,\n",
    "                             args = (p, epsilon_D, c_s_Upper)\n",
    "                            )\n",
    "    \n",
    "    return result"
   ]
  },
  {
   "cell_type": "markdown",
   "id": "f3994abc-9453-45c4-900d-2a6dcc613850",
   "metadata": {},
   "source": [
    "### Setting central cumulative mass initial condition"
   ]
  },
  {
   "cell_type": "code",
   "execution_count": 10,
   "id": "6256271a-246b-4a0a-ae69-6f3235c800ce",
   "metadata": {},
   "outputs": [],
   "source": [
    "def M_from_r_and_rho(r, rho):\n",
    "    result = 4 * pi * rho * r ** 3 / 3\n",
    "    return result"
   ]
  },
  {
   "cell_type": "markdown",
   "id": "39f77127-f415-4c2a-bf5f-e73f047f7c6e",
   "metadata": {},
   "source": [
    "### TOV solver function"
   ]
  },
  {
   "cell_type": "code",
   "execution_count": 11,
   "id": "4ba3d460-96f2-4006-bb26-311cded0dc29",
   "metadata": {},
   "outputs": [],
   "source": [
    "# Keep this for all EoS\n",
    "\n",
    "def solve_TOV(n_central, p_central, epsilon_D, c_s_Upper):\n",
    "    epsilon_central = find_epsilon(n_central * u.MeV ** 3).value\n",
    "    m_central = M_from_r_and_rho(small_r, epsilon_central)\n",
    "    \n",
    "    def reached_surface(t, y, *args):\n",
    "        return y[0]\n",
    "\n",
    "    reached_surface.terminal = True\n",
    "    reached_surface.direction = -1\n",
    "    \n",
    "    solution = solve_ivp(TOV,\n",
    "                         [small_r, R_attempt],\n",
    "                         [p_central, m_central],\n",
    "                         events = reached_surface,\n",
    "                         args = (n_central, epsilon_D, c_s_Upper)\n",
    "                        )\n",
    "\n",
    "    distance_from_center = (solution.t / u.MeV).to(u.fm, equivalencies = natural).to(u.km)\n",
    "    print(f\"Mass is {(solution.y[1][-1] * u. MeV).to(u.J).to(u.kg, equivalencies = natural).to(u.solMass):.3f}.\")\n",
    "    cumulative_mass = (solution.y[1] * u.MeV).to(u.J).to(u.kg, equivalencies = natural).to(u.solMass)\n",
    "    pressure = solution.y[0]\n",
    "\n",
    "    result = distance_from_center, cumulative_mass, pressure\n",
    "    return result"
   ]
  },
  {
   "cell_type": "markdown",
   "id": "ee718fe8-194a-4b2c-9a25-b1bc7b1b5a80",
   "metadata": {},
   "source": [
    "### Setting constants for solving TOV"
   ]
  },
  {
   "cell_type": "code",
   "execution_count": 12,
   "id": "e2202f68-fa48-4cad-bf99-eaddbe38fcfb",
   "metadata": {},
   "outputs": [],
   "source": [
    "# Everything in natural units unless otherwise specified\n",
    "# r_small cannot be 0 b/c it would cause a singularity.\n",
    "\n",
    "small_r = (0.1 * u.km).to(u.fm).to(1 / u.MeV, equivalencies = natural).value\n",
    "m_N = 939.565 * u.MeV    # Natural units\n",
    "n_0 = 0.16 / (1 * u.fm).to(1 / u.MeV, equivalencies = natural) ** 3    # Nuclear saturation density\n",
    "\n",
    "# Setting nuclear parameters (from Gandolfi et. al.)\n",
    "a = 13.0 * u.MeV\n",
    "alpha = 0.49\n",
    "b = 3.21 * u.MeV\n",
    "beta = 2.47\n",
    "\n",
    "# Setting critical energy density corresponding to n_0 for piece-wise EoS\n",
    "epsilon_c_value = 150    # In MeV / fm^3\n",
    "epsilon_c = epsilon_c_value * u.MeV / (1 * u.fm).to(1 / u.MeV, equivalencies = natural) ** 3\n",
    "# Note: need to specify epsilon_delta before solving TOV for piece-wise EoS"
   ]
  },
  {
   "cell_type": "markdown",
   "id": "4e04d6cd-b418-4496-97a0-0910b627ab4a",
   "metadata": {},
   "source": [
    "### Horizontal axis scale"
   ]
  },
  {
   "cell_type": "code",
   "execution_count": 13,
   "id": "74ccf20c-bef9-4a07-8197-f862ee35cf20",
   "metadata": {},
   "outputs": [],
   "source": [
    "# Everything in natural units unless otherwise specified\n",
    "\n",
    "R_attempt = (100 * u.km).to(u.fm).to(1 / u.MeV, equivalencies = natural).value"
   ]
  },
  {
   "cell_type": "markdown",
   "id": "d1a2e8f3-d1b9-48b9-812a-a894558ae468",
   "metadata": {
    "jp-MarkdownHeadingCollapsed": true
   },
   "source": [
    "### Solving TOV example"
   ]
  },
  {
   "cell_type": "code",
   "execution_count": 14,
   "id": "c19b4639-b6c0-411b-a9ec-e49a8780d3fe",
   "metadata": {},
   "outputs": [],
   "source": [
    "# # Nuclear saturation number density is 0.16 fm^(-3)\n",
    "# n_central = 7 * n_0\n",
    "# print(f\"{n_0:.3e}\")\n",
    "# p_central = find_pressure(n_central, epsilon_D).value\n",
    "# print(f\"p_central is {p_central}\")\n",
    "# distance_from_center, cumulative_mass, pressure = solve_TOV(n_central.value, p_central)"
   ]
  },
  {
   "cell_type": "code",
   "execution_count": 15,
   "id": "a4da0560-1ce6-4dbb-bd25-29c2a535c13c",
   "metadata": {},
   "outputs": [],
   "source": [
    "# fig, [ax1, ax2] = plt.subplots(nrows = 1, ncols = 2, figsize = (16, 8))\n",
    "\n",
    "# ax1.set_title(\"Cumulative mass vs distance from center\", fontsize = 18);\n",
    "# ax1.set_xlabel(\"Distance from center (km)\", fontsize = 18);\n",
    "# ax1.set_ylabel(r\"Cumulative mass ($\\mathrm{M_{\\odot}}$)\", fontsize = 18);\n",
    "# # ax1.set_xlim(0, 20);\n",
    "# # ax1.set_ylim(0, 0.6);\n",
    "# ax1.plot(distance_from_center, cumulative_mass);\n",
    "# ax2.set_title(\"Pressure vs distance from center\", fontsize = 18);\n",
    "# ax2.set_xlabel(\"Distance from center (km)\", fontsize = 18);\n",
    "# ax2.set_ylabel(r\"Pressure $\\left(\\mathrm{MeV/\\,fm^3}\\right)$\", fontsize = 18);\n",
    "# # ax2.set_xlim(0, 20);\n",
    "# ax2.plot(distance_from_center, pressure);"
   ]
  },
  {
   "cell_type": "code",
   "execution_count": 16,
   "id": "77d3c880-f6d5-46f9-b27d-e7153c67a2d2",
   "metadata": {},
   "outputs": [],
   "source": [
    "# print(f\"Mass is {np.max(cumulative_mass):.2f}.\")"
   ]
  },
  {
   "cell_type": "markdown",
   "id": "d69c7fd1-f41f-4052-be5d-3accbae91d10",
   "metadata": {},
   "source": [
    "## Finding the minimum radius for a given EoS"
   ]
  },
  {
   "cell_type": "code",
   "execution_count": 17,
   "id": "2b292dcf-1f4b-4c7d-b3d1-018adc367792",
   "metadata": {},
   "outputs": [],
   "source": [
    "# Function to find mass and radius for particular central number density and EoS parameters\n",
    "def find_mass_radius(num_density, epsilon_D, c_s_Upper):\n",
    "    # Solving TOV\n",
    "    p_central = find_pressure(num_density, epsilon_D, c_s_Upper).value\n",
    "    distance_from_center, cumulative_mass, _ = solve_TOV(num_density.value, p_central, epsilon_D, c_s_Upper)\n",
    "    print(f\"Solved TOV for epsilon_delta {epsilon_D} MeV / fm^3 and c_s_upper {c_s_Upper}\")\n",
    "\n",
    "    # Calculating runtime\n",
    "    end_time = time.time()\n",
    "    elapsed_time = end_time - start_time\n",
    "    print(f\"Elapsed time: {elapsed_time} seconds\")\n",
    "\n",
    "    # Removing NaN and inf values\n",
    "    cumulative_mass = cumulative_mass[~np.isnan(cumulative_mass)]\n",
    "    cumulative_mass = cumulative_mass[~np.isinf(cumulative_mass)]\n",
    "\n",
    "    # Picking out single values\n",
    "    mass = cumulative_mass[-1].value\n",
    "    radius = distance_from_center[-1].value\n",
    "    \n",
    "    return mass, radius"
   ]
  },
  {
   "cell_type": "code",
   "execution_count": 18,
   "id": "c9477be8-369d-46ee-a224-706a0c1355f1",
   "metadata": {},
   "outputs": [],
   "source": [
    "# Function to fit a parabola to 3 data points of mass or radius that vary w/ number density and identify the extremum\n",
    "def find_extremum(n_attempts, y_array, y2, extremum_index, epsilon_D, c_s_upper, display_max_parab = False):\n",
    "    # Finding 3 calculated points in oscillation\n",
    "    x2 = n_attempts[extremum_index]\n",
    "    x1 = n_attempts[extremum_index - 1]\n",
    "    y1 = y_array[extremum_index - 1]\n",
    "    x3 = n_attempts[extremum_index + 1]\n",
    "    y3 = y_array[extremum_index + 1]\n",
    "    print(f\"x1 = {x1}\")\n",
    "    print(f\"x2 = {x2}\")\n",
    "    print(f\"x3 = {x3}\")\n",
    "    print(f\"y1 = {y1}\")\n",
    "    print(f\"y2 = {y2}\")\n",
    "    print(f\"y3 = {y3}\")\n",
    "    \n",
    "    # Fitting parabola parameters\n",
    "    b_parab = ((y3 - y2) * (x2 ** 2 - x1 ** 2) / (x2 ** 2 - x3 ** 2) + y2 - y1) / ((x1 ** 2 - x2 ** 2) / (x2 + x3) + x2 - x1)\n",
    "    a_parab = (b_parab * x3 - y3 - b_parab * x2 + y2) / (x2 ** 2 - x3 ** 2)\n",
    "    c_parab = y1 - a_parab * x1 ** 2 - b_parab * x1\n",
    "    print(f\"a_parab = {a_parab}\")\n",
    "    print(f\"b_parab = {b_parab}\")\n",
    "    print(f\"c_parab = {c_parab}\")\n",
    "    \n",
    "    # Calculating extremum from parabola\n",
    "    x_extremum = - b_parab / 2 / a_parab\n",
    "    print(f\"x_extremum = {x_extremum}\")\n",
    "\n",
    "    # Displaying max_parab\n",
    "    if display_max_parab:\n",
    "        max_parab = a_parab * x_extremum ** 2 + b_parab * x_extremum + c_parab\n",
    "        print(f\"max_parab = {max_parab}\")\n",
    "    \n",
    "    # Solving TOV for extremum\n",
    "    n_extremum = x_extremum * u.MeV ** 3    # Adding units for TOV solver\n",
    "    mass_extremum, radius_extremum = find_mass_radius(n_extremum, epsilon_D, c_s_upper)\n",
    "    \n",
    "    return mass_extremum, radius_extremum, n_extremum"
   ]
  },
  {
   "cell_type": "code",
   "execution_count": 19,
   "id": "2d200ce7-679a-43db-9f6b-7dba81554387",
   "metadata": {},
   "outputs": [],
   "source": [
    "# Identifying the lowest central number density to search\n",
    "n_low = num_density_from_energy_density(0.1 * epsilon_c.value)    # 1 order of magnitude lower than first phase transition\n",
    "n_exp_low = np.log10(n_low)"
   ]
  },
  {
   "cell_type": "code",
   "execution_count": 20,
   "id": "2a0768ad-56c1-495f-a594-e7d7dc27ff76",
   "metadata": {},
   "outputs": [],
   "source": [
    "# Function to find the minimum radius for a given EoS -- 2 parameters, epsilon_delta and c_s_Upper\n",
    "def find_min_radius(epsilon_D, c_s_Upper):\n",
    "    # Creating empty masses, radius_candidates, n_attempts arrays to be populated\n",
    "    masses = []\n",
    "    radius_candidates = []\n",
    "    n_attempts = []\n",
    "\n",
    "    # Creating initial array of central number densities\n",
    "    # n_high is 1 order of magnitude higher than second phase transition to ensure that global maximum mass is not missed\n",
    "    n_high = num_density_from_energy_density(10 * (epsilon_D * u.MeV / (1 * u.fm).to(1 / u.MeV, equivalencies = natural) ** 3).value)\n",
    "    n_exp_high = np.log10(n_high)\n",
    "    n_central = np.logspace(n_exp_low, n_exp_high, num = 50) * u.MeV ** 3\n",
    "    print(f\"n_exp_low = {n_exp_low}\")\n",
    "    \n",
    "    for n_attempt in n_central:\n",
    "        # Solving TOV\n",
    "        mass, radius_candidate = find_mass_radius(n_attempt, epsilon_D, c_s_Upper)\n",
    "        masses.append(mass)\n",
    "        radius_candidates.append(radius_candidate)\n",
    "        n_attempts.append(n_attempt.value)\n",
    "\n",
    "    # Verifying that maximum mass is reached\n",
    "    n_exp_step = (n_exp_high - n_exp_low) / (50 - 1)\n",
    "    \n",
    "    while np.max(masses) == masses[-1] or np.max(masses) == masses[-2] or masses[-1] > masses[-2] or masses[-2] > masses[-3]:\n",
    "        n_exp_high += n_exp_step\n",
    "        n_attempt = 10 ** n_exp_high * u.MeV ** 3\n",
    "        mass, radius_candidate = find_mass_radius(n_attempt, epsilon_D, c_s_Upper)\n",
    "        masses.append(mass)\n",
    "        radius_candidates.append(radius_candidate)\n",
    "        n_attempts.append(n_attempt.value)\n",
    "\n",
    "    # Identifying maximum mass using parabola fit\n",
    "    y2 = np.max(masses)\n",
    "    max_index = np.argmax(masses)\n",
    "    max_mass_parabola, radius_candidate, n_max = find_extremum(n_attempts, masses, y2, max_index, epsilon_D, c_s_Upper, display_max_parab = True)\n",
    "    masses.append(max_mass_parabola)\n",
    "    radius_candidates.append(radius_candidate)\n",
    "    n_attempts.append(n_max.value)\n",
    "\n",
    "    # Identifying true maximum mass and corresponding density\n",
    "    max_mass = np.max(masses)\n",
    "    max_mass_index = np.argmax(masses)\n",
    "    n_attempt_crit = n_attempts[max_mass_index]\n",
    "    \n",
    "    # Throwing out any EoS that yields non-realistic neutron star masses\n",
    "    if max_mass < 1:\n",
    "        print(\"Maximum mass is less than 1 solar mass -- not a realistic neutron star\")\n",
    "        min_radius = None\n",
    "        \n",
    "        # Finding extra data\n",
    "        mass_of_min_radius = None\n",
    "        n_central_of_min_radius = None\n",
    "        radius_of_max_mass = radius_candidates[max_mass_index]\n",
    "        n_central_of_max_mass = n_attempt_crit\n",
    "    \n",
    "        # Packing extra data\n",
    "        extra_data = [mass_of_min_radius, n_central_of_min_radius, max_mass, radius_of_max_mass, n_central_of_max_mass]\n",
    "    \n",
    "        return min_radius, extra_data\n",
    "    \n",
    "    # Finding indices to remove\n",
    "    bad_indices = []\n",
    "    \n",
    "    for i in range(np.size(n_attempts)):\n",
    "        n_attempt_value = n_attempts[i]\n",
    "        \n",
    "        if n_attempt_value > n_attempt_crit:\n",
    "            bad_indices.append(i)\n",
    "    \n",
    "    # Removing any values at densities greater than maximum density\n",
    "    radius_candidates = np.delete(radius_candidates, bad_indices)\n",
    "    masses = np.delete(masses, bad_indices)\n",
    "    n_attempts = np.delete(n_attempts, bad_indices)\n",
    "\n",
    "    # Creating placeholder value of min_radius_result\n",
    "    min_radius_result = 100    # Must be an overestimate\n",
    "\n",
    "    # Identifying smallest radius value that has a realistic neutron star mass\n",
    "    for i in range(np.size(masses)):\n",
    "        radius_candidate_value = radius_candidates[i]\n",
    "        mass_value = masses[i]\n",
    "            \n",
    "        if radius_candidate_value < min_radius_result and mass_value > 1:\n",
    "            min_radius_result = radius_candidate_value\n",
    "\n",
    "    # Default value of true_min_radius is min_radius_result\n",
    "    true_min_radius = min_radius_result\n",
    "    \n",
    "    # Checking if minimum radius does not correspond to maximum mass\n",
    "    min_index = np.where(radius_candidates == min_radius_result)[0][0]\n",
    "    max_mass_index = np.argmax(masses)    # Refreshing this value after deleting bad indices\n",
    "\n",
    "    if min_index != max_mass_index and min_index != np.size(radius_candidates) - 1:\n",
    "        # Identifying true minimum radius using parabola fit\n",
    "        y2 = min_radius_result\n",
    "        mass_of_min_radius_parabola, min_radius_parabola, n_central_of_min_radius_parabola = find_extremum(n_attempts, radius_candidates, y2, min_index, epsilon_D, c_s_Upper)\n",
    "        masses = np.append(masses, mass_of_min_radius_parabola)\n",
    "        radius_candidates = np.append(radius_candidates, min_radius_parabola)\n",
    "        n_attempts = np.append(n_attempts, n_central_of_min_radius_parabola.value)\n",
    "        \n",
    "        # Identifying true minimum radius\n",
    "        if min_radius_parabola < min_radius_result and mass_of_min_radius_parabola > 1:\n",
    "            true_min_radius = min_radius_parabola\n",
    "    \n",
    "    # Recording minimum radius\n",
    "    print(f\"The minimum radius is {true_min_radius:.3f} km, while epsilon_delta is {epsilon_D:.3f} MeV / fm^3, and c_s_upper is {c_s_Upper:.3f}.\")\n",
    "\n",
    "    # Finding extra data\n",
    "    min_radius_index = np.where(radius_candidates == true_min_radius)[0][0]\n",
    "    mass_of_min_radius = masses[min_radius_index]\n",
    "    n_central_of_min_radius = n_attempts[min_radius_index]\n",
    "    radius_of_max_mass = radius_candidates[max_mass_index]\n",
    "    n_central_of_max_mass = n_attempt_crit\n",
    "    \n",
    "    # Packing extra data\n",
    "    extra_data = [mass_of_min_radius, n_central_of_min_radius, max_mass, radius_of_max_mass, n_central_of_max_mass]\n",
    "    \n",
    "    return true_min_radius, extra_data"
   ]
  },
  {
   "cell_type": "markdown",
   "id": "a532e42c-6a7c-4115-b9af-94c2176702e0",
   "metadata": {},
   "source": [
    "## Surveying minimum radius while varying $\\epsilon_{\\Delta}$ and $c_{s,\\,\\mathrm{upper}}$"
   ]
  },
  {
   "cell_type": "code",
   "execution_count": 21,
   "id": "0e239b31-81f0-412f-bd8b-7c36cabd3ec3",
   "metadata": {},
   "outputs": [],
   "source": [
    "# Setting piece-wise EoS parameters to check\n",
    "N = 10\n",
    "\n",
    "epsilon_low = epsilon_c_value    # This would mean no flat segment\n",
    "epsilon_high = epsilon_low * 10\n",
    "epsilon_delta = np.linspace(epsilon_low, epsilon_high, N)\n",
    "\n",
    "c_s_upper_low = 0.01\n",
    "c_s_upper_high = 1\n",
    "c_s_upper = np.linspace(c_s_upper_low, c_s_upper_high, N)"
   ]
  },
  {
   "cell_type": "code",
   "execution_count": 22,
   "id": "c96d1762-554e-4ad7-9c5d-87e1ca63e4a0",
   "metadata": {},
   "outputs": [],
   "source": [
    "# Creating placeholder values for epsilon_delta_constraint and c_s_upper_constraint\n",
    "epsilon_delta_constraint = epsilon_delta[0]\n",
    "c_s_upper_constraint = c_s_upper[0]\n",
    "\n",
    "# Creating placeholder value of min_radius\n",
    "min_radius = 100\n",
    "\n",
    "# Creating empty radii array to be populated during iterations\n",
    "c_s_upper_size = np.size(c_s_upper)\n",
    "epsilon_delta_size = np.size(epsilon_delta)\n",
    "# radii = np.zeros((c_s_upper_size, epsilon_delta_size))\n",
    "\n",
    "radii = [[None, 11.271650844007338, 13.157858828273495, 13.25497633229328, 14.09565163454094, 13.549309499045082, 14.0747336511729, 14.567595184678478, 14.988682072378538, 15.362923921733092],\n",
    "         [None, None, 9.31561330266046, 10.175619862345588, 10.783077383166592, 10.821507744578458, 11.126448626897224, 11.408977441409338, 10.821230634045177, 11.082810081954868],\n",
    "         [None, None, 7.660544754877495, 8.140352982890537, 8.357588168007037, 8.847910506908718, 9.222138395077215, 9.131343165335588, 8.602988745846478, 9.538566848507891],\n",
    "         [None, None, None, 7.191638068073909, 7.624480080981313, 7.932941669601865, 8.18487285778002, 8.165589742838284, 8.39354985184011, 8.536356056926522],\n",
    "         [None, None, None, 6.408867342726115, 6.797491145663929, 7.130186961639795, 7.300649183717964, 7.529214400667992, 7.543709133839845, 7.685266688610487],\n",
    "         [None, None, None, 5.826585975268626, 6.198656844828345, 6.48053520133304, 6.692288756619933, 6.871723493362504, 6.981709324120399, 7.135107124329368],\n",
    "         [None, None, None, None, 5.742868104894698, 6.01458094419113, 6.181120352009212, 6.353472720525058, 6.481395447282641, 6.60043631582746],\n",
    "         [None, None, None, None, 5.387858755441549, 5.611541451787504, 5.793004428461907, 5.976816927145717, 6.055175822049074, 6.171708686828228],\n",
    "         [None, None, None, None, None, 5.277764960690043, 5.464856394039518, 5.587593477688177, 5.7134663650284745, 5.815916816577294],\n",
    "         [None, None, None, None, None, 5.008871314224017, 5.180346885654346, 5.303134277331731, 5.458569692352253, 5.524239410632531]\n",
    "        ]\n",
    "\n",
    "# Opening csv file\n",
    "with open(\"radius_minimization_2D_mass_agnostic.csv\", \"w\") as outfile:\n",
    "    data_writer = csv.writer(outfile)\n",
    "\n",
    "    # Header row\n",
    "    data_writer.writerow([\"epsilon_delta (MeV / fm^3)\",\n",
    "                          \"c_s_upper\",\n",
    "                          \"Minimum radius (km)\",\n",
    "                          \"Elapsed time (s)\",\n",
    "                          \"Mass of min radius (solMass)\",\n",
    "                          \"n_central of min radius (MeV^3)\",\n",
    "                          \"Maximum mass (solMass)\",\n",
    "                          \"Radius of max mass (km)\",\n",
    "                          \"n_central of max mass (MeV^3)\"\n",
    "                         ])\n",
    "\n",
    "    # Iterating through EoS parameter arrays to find minimum radii\n",
    "    for i in range(epsilon_delta_size):\n",
    "        epsilon_delta_value = epsilon_delta[i]\n",
    "        \n",
    "        for j in range(c_s_upper_size):\n",
    "            c_s_upper_value = c_s_upper[j]\n",
    "            \n",
    "            if radii[i][j] == 0:    # If not yet searched\n",
    "                radius_value, extra_data = find_min_radius(epsilon_delta_value, c_s_upper_value)\n",
    "            else:    # If already searched\n",
    "                radius_value = radii[i][j]\n",
    "                extra_data = [\"See previous csv files for extra data\", None, None, None, None]\n",
    "\n",
    "            # Calculating runtime\n",
    "            end_time = time.time()\n",
    "            elapsed_time = end_time - start_time\n",
    "\n",
    "            # Unpacking extra data\n",
    "            mass_of_min_radius = extra_data[0]\n",
    "            n_central_of_min_radius = extra_data[1]\n",
    "            max_mass = extra_data[2]\n",
    "            radius_of_max_mass = extra_data[3]\n",
    "            n_central_of_max_mass = extra_data[4]\n",
    "            \n",
    "            data_writer.writerow([epsilon_delta_value,\n",
    "                                  c_s_upper_value,\n",
    "                                  radius_value,\n",
    "                                  elapsed_time,\n",
    "                                  mass_of_min_radius,\n",
    "                                  n_central_of_min_radius,\n",
    "                                  max_mass,\n",
    "                                  radius_of_max_mass,\n",
    "                                  n_central_of_max_mass\n",
    "                                 ])\n",
    "            \n",
    "            radii[i][j] = radius_value\n",
    "\n",
    "            # Identifying smallest value\n",
    "            if radius_value is not None and radius_value < min_radius:\n",
    "                min_radius = radius_value\n",
    "                epsilon_delta_constraint = epsilon_delta_value\n",
    "                c_s_upper_constraint = c_s_upper_value"
   ]
  },
  {
   "cell_type": "code",
   "execution_count": 23,
   "id": "87036bbf-dd86-4753-bbf6-fe61027c2274",
   "metadata": {},
   "outputs": [],
   "source": [
    "# Converting None values to np.nan so that contour plot can read it\n",
    "radii = np.array(radii, dtype=np.float64)"
   ]
  },
  {
   "cell_type": "code",
   "execution_count": 24,
   "id": "c9cfa08d-3ba0-46f7-9828-8557005a375a",
   "metadata": {},
   "outputs": [
    {
     "data": {
      "image/png": "[encoded data removed]",
      "text/plain": [
       "<Figure size 800x800 with 1 Axes>"
      ]
     },
     "metadata": {},
     "output_type": "display_data"
    }
   ],
   "source": [
    "# Plotting minimum radius vs EoS parameters\n",
    "\n",
    "fig, ax = plt.subplots(figsize = (8, 8))\n",
    "\n",
    "ax.set_title(r\"Minimum radius (km) vs $\\epsilon_{\\Delta}$ and $c_{s,\\,\\mathrm{upper}}$ for piecewise extremal EoS\",\n",
    "             fontsize = 15\n",
    "            );\n",
    "\n",
    "ax.set_xlabel(r\"$c_{s,\\,\\mathrm{upper}}\\,\\left(c\\right)$\", fontsize = 15);\n",
    "\n",
    "ax.set_ylabel(r\"$\\epsilon_{\\Delta}\\,\\left(\\frac{\\mathrm{MeV}}{\\mathrm{fm}^3}\\right)$\",\n",
    "              fontsize = 15\n",
    "             );\n",
    "\n",
    "ax.set_xlim(0.12, 1);\n",
    "ax.set_ylim(-60, 1530);\n",
    "radius_contour = ax.contour(c_s_upper, epsilon_delta, radii);\n",
    "ax.clabel(radius_contour);\n",
    "\n",
    "# Noting unrealistic mass region\n",
    "ax.fill([0.01, 0.12, 0.12, 0.23, 0.23, 0.23, 0.34, 0.34, 0.45, 0.45, 0.01],\n",
    "        [150, 300, 450, 600, 750, 900, 1050, 1200, 1350, 1530, 1530],\n",
    "        color = \"grey\",\n",
    "        alpha = 0.5,\n",
    "        label = \"Unrealistic $M_{\\mathrm{max}}<1\\,\\mathrm{M}_{\\odot}$\"\n",
    "       );\n",
    "\n",
    "ax.plot(c_s_upper_constraint,\n",
    "        epsilon_delta_constraint,\n",
    "        marker = \"*\",\n",
    "        linestyle = \"\",\n",
    "        markersize = 15,\n",
    "        label = r\"Absolute minimum radius $R_{\\mathrm{min}}\\left(c_{s,\\,\\mathrm{upper}}=0.56,\\,\\epsilon_{\\Delta}=1500\\,\\frac{\\mathrm{MeV}}{\\mathrm{fm}^3}\\right)=5.009\\,\\mathrm{km}$\"\n",
    "       );\n",
    "\n",
    "ax.legend(fontsize = 11);\n",
    "\n",
    "# Saving plot if result is notable\n",
    "plt.savefig(\"min_radius_vs_epsilon_delta_and_c_s_upper.jpg\", bbox_inches = \"tight\");\n",
    "plt.savefig(\"min_radius_vs_epsilon_delta_and_c_s_upper.pdf\", bbox_inches = \"tight\");"
   ]
  },
  {
   "cell_type": "code",
   "execution_count": 25,
   "id": "407449f1-756f-490a-b698-f88db1170e38",
   "metadata": {},
   "outputs": [],
   "source": [
    "# Adding units\n",
    "epsilon_delta = epsilon_delta * u.MeV / (1 * u.fm) ** 3\n",
    "radii = radii * u.km\n",
    "\n",
    "min_radius = min_radius * u.km\n",
    "epsilon_delta_constraint = epsilon_delta_constraint * u.MeV / (1 * u.fm) ** 3"
   ]
  },
  {
   "cell_type": "code",
   "execution_count": 26,
   "id": "2ac79cec-ce3f-46fd-85d5-e6866aa52e57",
   "metadata": {},
   "outputs": [
    {
     "name": "stdout",
     "output_type": "stream",
     "text": [
      "The minimum radius is 5.009 km.\n",
      "The value of epsilon_delta that minimizes the radius is 1500.000 MeV / fm3.\n",
      "The value of c_s_upper that minimizes the radius is 0.560.\n"
     ]
    }
   ],
   "source": [
    "# Displaying minimum radius and corresponding EoS parameters\n",
    "print(f\"The minimum radius is {min_radius:.3f}.\")\n",
    "print(f\"The value of epsilon_delta that minimizes the radius is {epsilon_delta_constraint:.3f}.\")\n",
    "print(f\"The value of c_s_upper that minimizes the radius is {c_s_upper_constraint:.3f}.\")"
   ]
  },
  {
   "cell_type": "code",
   "execution_count": 27,
   "id": "2df2239d-e684-42ae-9f42-c00f7bc6b761",
   "metadata": {},
   "outputs": [
    {
     "name": "stdout",
     "output_type": "stream",
     "text": [
      "radii:\n",
      "[[        nan 11.27165084 13.15785883 13.25497633 14.09565163 13.5493095\n",
      "  14.07473365 14.56759518 14.98868207 15.36292392]\n",
      " [        nan         nan  9.3156133  10.17561986 10.78307738 10.82150774\n",
      "  11.12644863 11.40897744 10.82123063 11.08281008]\n",
      " [        nan         nan  7.66054475  8.14035298  8.35758817  8.84791051\n",
      "   9.2221384   9.13134317  8.60298875  9.53856685]\n",
      " [        nan         nan         nan  7.19163807  7.62448008  7.93294167\n",
      "   8.18487286  8.16558974  8.39354985  8.53635606]\n",
      " [        nan         nan         nan  6.40886734  6.79749115  7.13018696\n",
      "   7.30064918  7.5292144   7.54370913  7.68526669]\n",
      " [        nan         nan         nan  5.82658598  6.19865684  6.4805352\n",
      "   6.69228876  6.87172349  6.98170932  7.13510712]\n",
      " [        nan         nan         nan         nan  5.7428681   6.01458094\n",
      "   6.18112035  6.35347272  6.48139545  6.60043632]\n",
      " [        nan         nan         nan         nan  5.38785876  5.61154145\n",
      "   5.79300443  5.97681693  6.05517582  6.17170869]\n",
      " [        nan         nan         nan         nan         nan  5.27776496\n",
      "   5.46485639  5.58759348  5.71346637  5.81591682]\n",
      " [        nan         nan         nan         nan         nan  5.00887131\n",
      "   5.18034689  5.30313428  5.45856969  5.52423941]] km\n",
      "epsilon_delta:\n",
      "[ 150.  300.  450.  600.  750.  900. 1050. 1200. 1350. 1500.] MeV / fm3\n",
      "c_s_upper:\n",
      "[0.01 0.12 0.23 0.34 0.45 0.56 0.67 0.78 0.89 1.  ]\n"
     ]
    }
   ],
   "source": [
    "# Printing the results\n",
    "print(\"radii:\")\n",
    "print(radii)\n",
    "print(\"epsilon_delta:\")\n",
    "print(epsilon_delta)\n",
    "print(\"c_s_upper:\")\n",
    "print(c_s_upper)"
   ]
  },
  {
   "cell_type": "code",
   "execution_count": 28,
   "id": "566ee5c4-6f51-4ffc-b326-2aaf7cd9456b",
   "metadata": {},
   "outputs": [
    {
     "name": "stdout",
     "output_type": "stream",
     "text": [
      "Elapsed time: 4.6618897914886475 seconds\n"
     ]
    }
   ],
   "source": [
    "# Calculating runtime\n",
    "end_time = time.time()\n",
    "elapsed_time = end_time - start_time\n",
    "print(f\"Elapsed time: {elapsed_time} seconds\")"
   ]
  }
 ],
 "metadata": {
  "kernelspec": {
   "display_name": "Python 3 (ipykernel)",
   "language": "python",
   "name": "python3"
  },
  "language_info": {
   "codemirror_mode": {
    "name": "ipython",
    "version": 3
   },
   "file_extension": ".py",
   "mimetype": "text/x-python",
   "name": "python",
   "nbconvert_exporter": "python",
   "pygments_lexer": "ipython3",
   "version": "3.10.13"
  }
 },
 "nbformat": 4,
 "nbformat_minor": 5
}
